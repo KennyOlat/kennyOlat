{
  "nbformat": 4,
  "nbformat_minor": 0,
  "metadata": {
    "colab": {
      "provenance": [],
      "authorship_tag": "ABX9TyNm6ZeaIXeUjN7sXXGZneJQ",
      "include_colab_link": true
    },
    "kernelspec": {
      "name": "python3",
      "display_name": "Python 3"
    },
    "language_info": {
      "name": "python"
    }
  },
  "cells": [
    {
      "cell_type": "markdown",
      "metadata": {
        "id": "view-in-github",
        "colab_type": "text"
      },
      "source": [
        "<a href=\"https://colab.research.google.com/github/KennyOlat/kennyOlat/blob/main/helloworld.ipynb\" target=\"_parent\"><img src=\"https://colab.research.google.com/assets/colab-badge.svg\" alt=\"Open In Colab\"/></a>"
      ]
    },
    {
      "cell_type": "markdown",
      "source": [
        "#printing function\n"
      ],
      "metadata": {
        "id": "7dBuIklAjsYJ"
      }
    },
    {
      "cell_type": "code",
      "execution_count": null,
      "metadata": {
        "id": "Xl7yFwC8zc8w",
        "colab": {
          "base_uri": "https://localhost:8080/"
        },
        "outputId": "b31c3f69-2454-4ef4-8172-f2b0d8ba17d0"
      },
      "outputs": [
        {
          "output_type": "stream",
          "name": "stdout",
          "text": [
            "hello world!!!\n"
          ]
        }
      ],
      "source": [
        "print(\"hello world!!!\")"
      ]
    },
    {
      "cell_type": "code",
      "source": [
        "print(\"Hello, I am a beginner learning python!\")"
      ],
      "metadata": {
        "colab": {
          "base_uri": "https://localhost:8080/"
        },
        "id": "S7JrN5_y0OYN",
        "outputId": "71a44817-7ec5-4644-b618-c5496b097360"
      },
      "execution_count": null,
      "outputs": [
        {
          "output_type": "stream",
          "name": "stdout",
          "text": [
            "Hello, I am a beginner learning python!\n"
          ]
        }
      ]
    },
    {
      "cell_type": "markdown",
      "source": [],
      "metadata": {
        "id": "SCfpUAkD0QRP"
      }
    },
    {
      "cell_type": "code",
      "source": [
        "if True:\n",
        "  print(\"Yes\")\n",
        "else:\n",
        "    print(\"No\")"
      ],
      "metadata": {
        "colab": {
          "base_uri": "https://localhost:8080/"
        },
        "id": "lkh4Rui00RwL",
        "outputId": "61a634f6-983f-47fa-f758-fc55ae878757"
      },
      "execution_count": null,
      "outputs": [
        {
          "output_type": "stream",
          "name": "stdout",
          "text": [
            "Yes\n"
          ]
        }
      ]
    },
    {
      "cell_type": "code",
      "source": [
        "print(\"\\n\\n can you please add me to your group\")\n",
        "#!/usr/bin/python\n"
      ],
      "metadata": {
        "colab": {
          "base_uri": "https://localhost:8080/"
        },
        "id": "1J-bpj_y-fqk",
        "outputId": "dc67245d-e3c7-4979-e884-2406eca8838b"
      },
      "execution_count": null,
      "outputs": [
        {
          "output_type": "stream",
          "name": "stdout",
          "text": [
            "\n",
            "\n",
            " can you please add me to your group\n"
          ]
        }
      ]
    },
    {
      "cell_type": "code",
      "source": [
        "\n",
        "# this is a single line comment\n",
        "print('a multiline comment')\n",
        "\n",
        "#a multi line comment \n",
        "#multiline comment\n",
        "#multiline comment\n"
      ],
      "metadata": {
        "colab": {
          "base_uri": "https://localhost:8080/"
        },
        "id": "Yaj-jT2_N69_",
        "outputId": "e9a8349b-46e9-452d-f95a-7976adcc5b09"
      },
      "execution_count": null,
      "outputs": [
        {
          "output_type": "stream",
          "name": "stdout",
          "text": [
            "a multiline comment\n"
          ]
        }
      ]
    },
    {
      "cell_type": "code",
      "source": [
        "#defining a function\n",
        "def add(a, b):\n",
        "    \"\"\"Function to add the value of a and b\"\"\"\n",
        "    return a+b\n",
        "\n",
        "print(add.__doc__)"
      ],
      "metadata": {
        "colab": {
          "base_uri": "https://localhost:8080/"
        },
        "id": "Nca10-56PFac",
        "outputId": "43c44252-933d-4b53-eb0d-77b024af7213"
      },
      "execution_count": null,
      "outputs": [
        {
          "output_type": "stream",
          "name": "stdout",
          "text": [
            "Function to add the value of a and b\n"
          ]
        }
      ]
    },
    {
      "cell_type": "code",
      "source": [
        "def add(a, b):\n",
        "    \"\"\"Function to add the value of a and b\"\"\"\n",
        "    return a-b\n",
        "\n",
        "print(add.__doc__)"
      ],
      "metadata": {
        "colab": {
          "base_uri": "https://localhost:8080/"
        },
        "id": "lbOYOflIPZ3b",
        "outputId": "ea642950-3cd2-44cc-e568-15418eae2b23"
      },
      "execution_count": null,
      "outputs": [
        {
          "output_type": "stream",
          "name": "stdout",
          "text": [
            "Function to add the value of a and b\n"
          ]
        }
      ]
    },
    {
      "cell_type": "code",
      "source": [
        "#creating a variable example\n",
        "a =50\n",
        "b=100\n",
        "gender = \"female\"\n",
        "print(a)\n",
        "print(b)\n",
        "print(gender)"
      ],
      "metadata": {
        "colab": {
          "base_uri": "https://localhost:8080/"
        },
        "id": "7731PL6TQsjx",
        "outputId": "b517331e-7b4c-45ce-84a1-6a7e94a578ad"
      },
      "execution_count": null,
      "outputs": [
        {
          "output_type": "stream",
          "name": "stdout",
          "text": [
            "50\n",
            "100\n",
            "female\n"
          ]
        }
      ]
    },
    {
      "cell_type": "code",
      "source": [
        "#progrm showing how variable can be deleted\n",
        "age = 67\n",
        "name = \"Samuel\"\n",
        "print(age)\n",
        "print(name)\n",
        "\n",
        "del age \n",
        "print(age)"
      ],
      "metadata": {
        "colab": {
          "base_uri": "https://localhost:8080/",
          "height": 235
        },
        "id": "pX1u1DGLRXTV",
        "outputId": "09ab3776-a367-4d85-bfb8-3729e26f1ba7"
      },
      "execution_count": null,
      "outputs": [
        {
          "output_type": "stream",
          "name": "stdout",
          "text": [
            "67\n",
            "Samuel\n"
          ]
        },
        {
          "output_type": "error",
          "ename": "NameError",
          "evalue": "ignored",
          "traceback": [
            "\u001b[0;31m---------------------------------------------------------------------------\u001b[0m",
            "\u001b[0;31mNameError\u001b[0m                                 Traceback (most recent call last)",
            "\u001b[0;32m<ipython-input-31-e2f5773d1d9d>\u001b[0m in \u001b[0;36m<module>\u001b[0;34m\u001b[0m\n\u001b[1;32m      6\u001b[0m \u001b[0;34m\u001b[0m\u001b[0m\n\u001b[1;32m      7\u001b[0m \u001b[0;32mdel\u001b[0m \u001b[0mage\u001b[0m\u001b[0;34m\u001b[0m\u001b[0;34m\u001b[0m\u001b[0m\n\u001b[0;32m----> 8\u001b[0;31m \u001b[0mprint\u001b[0m\u001b[0;34m(\u001b[0m\u001b[0mage\u001b[0m\u001b[0;34m)\u001b[0m\u001b[0;34m\u001b[0m\u001b[0;34m\u001b[0m\u001b[0m\n\u001b[0m",
            "\u001b[0;31mNameError\u001b[0m: name 'age' is not defined"
          ]
        }
      ]
    },
    {
      "cell_type": "code",
      "source": [
        "#assigning a value to multiple variables\n",
        "a=b=c=1000\n",
        "print(a)\n",
        "print(b)\n",
        "print(c)"
      ],
      "metadata": {
        "colab": {
          "base_uri": "https://localhost:8080/"
        },
        "id": "oVmUH3gLSD3O",
        "outputId": "3ce5bab1-1868-453a-9e12-f43d59c865a0"
      },
      "execution_count": null,
      "outputs": [
        {
          "output_type": "stream",
          "name": "stdout",
          "text": [
            "1000\n",
            "1000\n",
            "1000\n"
          ]
        }
      ]
    },
    {
      "cell_type": "code",
      "source": [
        "#assigning multiple object to multiple\n",
        "a,b,c= 24, 25, 'I am good'\n",
        "print(a)\n",
        "print(b)\n",
        "print(c)"
      ],
      "metadata": {
        "colab": {
          "base_uri": "https://localhost:8080/"
        },
        "id": "qVe-wo8wSWwA",
        "outputId": "de62e5f9-295a-47b7-8114-9377d3224903"
      },
      "execution_count": null,
      "outputs": [
        {
          "output_type": "stream",
          "name": "stdout",
          "text": [
            "24\n",
            "25\n",
            "I am good\n"
          ]
        }
      ]
    },
    {
      "cell_type": "code",
      "source": [
        "\n",
        "#local varibale function - example\n",
        "\n",
        "def sum(a,b):\n",
        "    sum = a + b\n",
        "    return (sum)\n",
        "print(sum(9, 5))"
      ],
      "metadata": {
        "colab": {
          "base_uri": "https://localhost:8080/"
        },
        "id": "270IVRUeTcct",
        "outputId": "eb213566-8d08-4fdd-df57-501ca0aac958"
      },
      "execution_count": null,
      "outputs": [
        {
          "output_type": "stream",
          "name": "stdout",
          "text": [
            "14\n"
          ]
        }
      ]
    },
    {
      "cell_type": "code",
      "source": [
        "#local varibale function - example\n",
        "\n",
        "def minus(a,b):\n",
        "    minus = a - b\n",
        "    return (minus)\n",
        "print(minus(9, 5))"
      ],
      "metadata": {
        "colab": {
          "base_uri": "https://localhost:8080/"
        },
        "id": "VKZ1_3QmY8Rf",
        "outputId": "676fbec5-b1a8-4dee-b4e4-6d88e35d9611"
      },
      "execution_count": null,
      "outputs": [
        {
          "output_type": "stream",
          "name": "stdout",
          "text": [
            "4\n"
          ]
        }
      ]
    },
    {
      "cell_type": "code",
      "source": [
        "#global declaration example\n",
        "a = 9\n",
        "b = 5\n",
        "def sum():\n",
        "    sum = a + b\n",
        "    return (sum)\n",
        "print(sum())"
      ],
      "metadata": {
        "colab": {
          "base_uri": "https://localhost:8080/"
        },
        "id": "CqBBC1tUZJ8z",
        "outputId": "56d83b50-92f8-41fb-dc40-67a072e49b7b"
      },
      "execution_count": null,
      "outputs": [
        {
          "output_type": "stream",
          "name": "stdout",
          "text": [
            "14\n"
          ]
        }
      ]
    },
    {
      "cell_type": "code",
      "source": [
        "# integer variable.\n",
        "a=100\n",
        "print(\"The type of variable having value\", a, \" is \", type(a))\n",
        "\n",
        "# float variable.\n",
        "b=20.345\n",
        "print(\"The type of variable having value\", b, \" is \", type(b))\n",
        "\n",
        "# complex variable.\n",
        "c=10+3j\n",
        "print(\"The type of variable having value\", c, \" is \", type(c))"
      ],
      "metadata": {
        "colab": {
          "base_uri": "https://localhost:8080/"
        },
        "id": "E9vT8T9WbjCJ",
        "outputId": "b15ac072-0fdb-43e5-92a4-4f3caafe014c"
      },
      "execution_count": null,
      "outputs": [
        {
          "output_type": "stream",
          "name": "stdout",
          "text": [
            "The type of variable having value 100  is  <class 'int'>\n",
            "The type of variable having value 20.345  is  <class 'float'>\n",
            "The type of variable having value (10+3j)  is  <class 'complex'>\n"
          ]
        }
      ]
    },
    {
      "cell_type": "code",
      "source": [
        "def sum(x,y):\n",
        "   sum = x + y\n",
        "   return sum\n",
        "print(sum(5, 10))"
      ],
      "metadata": {
        "colab": {
          "base_uri": "https://localhost:8080/"
        },
        "id": "30n8TCaFYmyA",
        "outputId": "d1358188-9c41-4816-b5e8-0a2af235a591"
      },
      "execution_count": null,
      "outputs": [
        {
          "output_type": "stream",
          "name": "stdout",
          "text": [
            "15\n"
          ]
        }
      ]
    },
    {
      "cell_type": "code",
      "source": [
        "#program testing string\n",
        "str = 'I can do all things'\n",
        "\n",
        "print (str)          # Prints complete string\n",
        "print (str[0])       # Prints first character of the string\n",
        "print (str[2:5])     # Prints characters starting from 3rd to 5th\n",
        "print (str[2:])      # Prints string starting from 3rd character\n",
        "print (str * 2)      # Prints string two times\n",
        "print (str + \"Through Christ that strenghtens me\") # Prints concatenated string"
      ],
      "metadata": {
        "colab": {
          "base_uri": "https://localhost:8080/"
        },
        "id": "5kT82UKgb4f8",
        "outputId": "118aed65-703e-4696-fc0f-042d2d0b163f"
      },
      "execution_count": null,
      "outputs": [
        {
          "output_type": "stream",
          "name": "stdout",
          "text": [
            "I can do all things\n",
            "I\n",
            "can\n",
            "can do all things\n",
            "I can do all thingsI can do all things\n",
            "I can do all thingsThrough Christ that strenghtens me\n"
          ]
        }
      ]
    },
    {
      "cell_type": "code",
      "source": [
        "list = [ 'abcd', 786 , 2.23, 'john', 70.2 ]\n",
        "tinylist = [123, 'john']\n",
        "\n",
        "print (list)            # Prints complete list\n",
        "print (list[2])         # Prints third element of the list\n",
        "print (list[1:3])       # Prints elements starting from 1st till 3rd \n",
        "print (list[3:])        # Prints elements starting from 4th element\n",
        "print (tinylist * 3)    # Prints list three times\n",
        "print (list + tinylist) # Prints concatenated lists"
      ],
      "metadata": {
        "colab": {
          "base_uri": "https://localhost:8080/"
        },
        "id": "sL3G1JowlT2q",
        "outputId": "ba911043-4066-441b-a9b9-d3dc90bb0c4b"
      },
      "execution_count": null,
      "outputs": [
        {
          "output_type": "stream",
          "name": "stdout",
          "text": [
            "['abcd', 786, 2.23, 'john', 70.2]\n",
            "2.23\n",
            "[786, 2.23]\n",
            "['john', 70.2]\n",
            "[123, 'john', 123, 'john', 123, 'john']\n",
            "['abcd', 786, 2.23, 'john', 70.2, 123, 'john']\n"
          ]
        }
      ]
    },
    {
      "cell_type": "code",
      "source": [
        "list = [ 'I', 'can' , 'do', 'all', 'things' ]\n",
        "tinylist = ['can', 'do']\n",
        "\n",
        "print (list)            # Prints complete list\n",
        "print (list[2])         # Prints third element of the list\n",
        "print (list[1:3])       # Prints elements starting from 1st till 3rd \n",
        "print (list[3:])        # Prints elements starting from 4th element\n",
        "print (tinylist * 3)    # Prints list three times\n",
        "print (list + tinylist) # Prints concatenated lists"
      ],
      "metadata": {
        "colab": {
          "base_uri": "https://localhost:8080/"
        },
        "id": "K2TC73GGmxcq",
        "outputId": "d18a827b-a072-4f79-a1c2-f53dea47b792"
      },
      "execution_count": null,
      "outputs": [
        {
          "output_type": "stream",
          "name": "stdout",
          "text": [
            "['I', 'can', 'do', 'all', 'things']\n",
            "do\n",
            "['can', 'do']\n",
            "['all', 'things']\n",
            "['can', 'do', 'can', 'do', 'can', 'do']\n",
            "['I', 'can', 'do', 'all', 'things', 'can', 'do']\n"
          ]
        }
      ]
    },
    {
      "cell_type": "code",
      "source": [
        "# program to demonstrate tuple\n",
        "tuple = ( 'abcd', 786 , 2.23, 'john', 70.2  )\n",
        "tinytuple = (123, 'john')\n",
        "\n",
        "print (tuple)               # Prints the complete tuple\n",
        "print (tuple[0])            # Prints first element of the tuple\n",
        "print (tuple[1:3])          # Prints elements of the tuple starting from 2nd till 3rd \n",
        "print (tuple[2:])           # Prints elements of the tuple starting from 3rd element\n",
        "print (tinytuple * 2)       # Prints the contents of the tuple twice\n",
        "print (tuple + tinytuple)   # Prints concatenated tuples"
      ],
      "metadata": {
        "colab": {
          "base_uri": "https://localhost:8080/"
        },
        "id": "nTK4aDACyqfL",
        "outputId": "4a0806dc-c929-4dff-cb12-c31f23be419b"
      },
      "execution_count": null,
      "outputs": [
        {
          "output_type": "stream",
          "name": "stdout",
          "text": [
            "('abcd', 786, 2.23, 'john', 70.2)\n",
            "abcd\n",
            "(786, 2.23)\n",
            "(2.23, 'john', 70.2)\n",
            "(123, 'john', 123, 'john')\n",
            "('abcd', 786, 2.23, 'john', 70.2, 123, 'john')\n"
          ]
        }
      ]
    },
    {
      "cell_type": "code",
      "source": [
        "#tuple cannot be updated but list can-example\n",
        "tuple = ( 'abcd', 786 , 2.23, 'john', 70.2  )\n",
        "list = [ 'abcd', 786 , 2.23, 'john', 70.2  ]\n",
        "tuple[2] = 1000    # Invalid syntax with tuple\n",
        "list[2] = 1000     # Valid syntax with list"
      ],
      "metadata": {
        "id": "de3zXHq8y4Sc"
      },
      "execution_count": null,
      "outputs": []
    },
    {
      "cell_type": "code",
      "source": [
        "#program testing string\n",
        "str = 'Computer'\n",
        "\n",
        "print (str)          # Prints complete string\n",
        "print (str[0])       # Prints first character of the string\n",
        "print (str[2:5])     # Prints characters starting from 3rd to 5th\n",
        "print (str[2:])      # Prints string starting from 3rd character\n",
        "print (str * 2)      # Prints string two times\n",
        "print (str + \"Science\") # Prints concatenated string"
      ],
      "metadata": {
        "id": "W6F9KEi9mUGY"
      },
      "execution_count": null,
      "outputs": []
    },
    {
      "cell_type": "code",
      "source": [
        "# demonstrating range\n",
        "# range(start, stop, step)\n",
        "#start: Integer number to specify starting position, (Its optional, Default: 0)\n",
        "#stop: Integer number to specify starting position (It's mandatory)\n",
        "#step: Integer number to specify increment, (Its optional, Default: 1)\n",
        "\n",
        "for i in range(5):\n",
        "  print(i)"
      ],
      "metadata": {
        "id": "k81lzbpPzLVO"
      },
      "execution_count": null,
      "outputs": []
    },
    {
      "cell_type": "code",
      "source": [
        "#printing numbers starting from 1 using range\n",
        "for i in range(1, 5):\n",
        "  print(i)"
      ],
      "metadata": {
        "id": "6MwTajSBzpgq"
      },
      "execution_count": null,
      "outputs": []
    },
    {
      "cell_type": "code",
      "source": [
        "#printing numbers from 1 to 5 in steps of 2 using range\n",
        "\n",
        "for i in range(1, 5, 2):\n",
        "  print(i)"
      ],
      "metadata": {
        "id": "fmALo5m3zzm8"
      },
      "execution_count": null,
      "outputs": []
    },
    {
      "cell_type": "code",
      "source": [
        "# program demonstrating the use of dictionary\n",
        "\n",
        "dict = {}\n",
        "dict['one'] = \"This is one\"\n",
        "dict[2]     = \"This is two\"\n",
        "\n",
        "tinydict = {'name': 'john','code':6734, 'dept': 'sales'}\n",
        "\n",
        "\n",
        "print (dict['one'])       # Prints value for 'one' key\n",
        "print (dict[2])           # Prints value for 2 key\n",
        "print (tinydict)          # Prints complete dictionary\n",
        "print (tinydict.keys())   # Prints all the keys\n",
        "print (tinydict.values()) # Prints all the values"
      ],
      "metadata": {
        "id": "gD31Y5CV0Av3"
      },
      "execution_count": null,
      "outputs": []
    },
    {
      "cell_type": "code",
      "source": [
        "#demonstrating boolean \n",
        "\n",
        "a = True\n",
        "# display the value of a\n",
        "print(a)\n",
        "\n",
        "# display the data type of a\n",
        "print(type(a))"
      ],
      "metadata": {
        "id": "Ke6Wvhrm0-u7"
      },
      "execution_count": null,
      "outputs": []
    },
    {
      "cell_type": "code",
      "source": [
        "#evaluation of expression and printing results\n",
        "# Returns false as a is not equal to b\n",
        "a = 2\n",
        "b = 4\n",
        "print(bool(a==b))\n",
        "\n",
        "# Following also prints the same\n",
        "print(a==b)\n",
        "\n",
        "# Returns False as a is None\n",
        "a = None\n",
        "print(bool(a))\n",
        "# Returns false as a is an empty sequence\n",
        "a = ()\n",
        "print(bool(a))\n",
        "\n",
        "# Returns false as a is 0\n",
        "a = 0.0\n",
        "print(bool(a))\n",
        "\n",
        "# Returns false as a is 10\n",
        "a = 10\n",
        "print(bool(a))"
      ],
      "metadata": {
        "id": "zxO6BQ8_1MPw"
      },
      "execution_count": null,
      "outputs": []
    },
    {
      "cell_type": "code",
      "source": [
        "#conversion to integer data type\n",
        "a = int(1)     # a will be 1\n",
        "b = int(2.2)   # b will be 2\n",
        "c = int(\"3\")   # c will be 3\n",
        "\n",
        "print (a)\n",
        "print (b)\n",
        "print (c)"
      ],
      "metadata": {
        "id": "LZZ6gpKq10YR"
      },
      "execution_count": null,
      "outputs": []
    },
    {
      "cell_type": "code",
      "source": [
        "#conversion to float\n",
        "a = float(1)     # a will be 1.0\n",
        "b = float(2.2)   # b will be 2.2\n",
        "c = float(\"3.3\") # c will be 3.3\n",
        "\n",
        "print (a)\n",
        "print (b)\n",
        "print (c)"
      ],
      "metadata": {
        "id": "E3KSNp1A2ARd"
      },
      "execution_count": null,
      "outputs": []
    },
    {
      "cell_type": "code",
      "source": [
        "a = str(1)     # a will be \"1\" \n",
        "b = str(2.2)   # b will be \"2.2\"\n",
        "c = str(\"3.3\") # c will be \"3.3\"\n",
        "\n",
        "print (a)\n",
        "print (b)\n",
        "print (c)"
      ],
      "metadata": {
        "id": "wa5c5rgk2Ndf",
        "colab": {
          "base_uri": "https://localhost:8080/"
        },
        "outputId": "da5b3330-dbbb-40d9-dac8-3305898e1f60"
      },
      "execution_count": 43,
      "outputs": [
        {
          "output_type": "stream",
          "name": "stdout",
          "text": [
            "1\n",
            "2.2\n",
            "3.3\n"
          ]
        }
      ]
    },
    {
      "cell_type": "code",
      "source": [
        "type('a')"
      ],
      "metadata": {
        "colab": {
          "base_uri": "https://localhost:8080/"
        },
        "id": "x-TiSL2fJh4z",
        "outputId": "7a3e9c77-59a0-4bf7-c2d4-9aed42cf0542"
      },
      "execution_count": null,
      "outputs": [
        {
          "output_type": "execute_result",
          "data": {
            "text/plain": [
              "str"
            ]
          },
          "metadata": {},
          "execution_count": 1
        }
      ]
    },
    {
      "cell_type": "code",
      "source": [
        "type (3.3)"
      ],
      "metadata": {
        "colab": {
          "base_uri": "https://localhost:8080/"
        },
        "id": "9jYECjxwixuk",
        "outputId": "4f8fd23b-e7f6-4d71-d57f-ce6385a07488"
      },
      "execution_count": null,
      "outputs": [
        {
          "output_type": "execute_result",
          "data": {
            "text/plain": [
              "float"
            ]
          },
          "metadata": {},
          "execution_count": 2
        }
      ]
    },
    {
      "cell_type": "code",
      "source": [
        "type(6789)"
      ],
      "metadata": {
        "colab": {
          "base_uri": "https://localhost:8080/"
        },
        "id": "Mhr2CN_Yi2dq",
        "outputId": "0965430f-a924-478a-a2ce-b8ff171270ff"
      },
      "execution_count": null,
      "outputs": [
        {
          "output_type": "execute_result",
          "data": {
            "text/plain": [
              "int"
            ]
          },
          "metadata": {},
          "execution_count": 3
        }
      ]
    },
    {
      "cell_type": "code",
      "source": [
        "type (3.667895e-9j)"
      ],
      "metadata": {
        "colab": {
          "base_uri": "https://localhost:8080/"
        },
        "id": "XiDUGSexi2n5",
        "outputId": "d3db7d2e-e1e3-4489-fa57-95d5ecd72667"
      },
      "execution_count": null,
      "outputs": [
        {
          "output_type": "execute_result",
          "data": {
            "text/plain": [
              "complex"
            ]
          },
          "metadata": {},
          "execution_count": 8
        }
      ]
    },
    {
      "cell_type": "code",
      "source": [
        "type (\"345\")"
      ],
      "metadata": {
        "colab": {
          "base_uri": "https://localhost:8080/"
        },
        "id": "cotYmQj6jTXF",
        "outputId": "c663ffc1-82fc-4aa8-e2fc-9949703093f6"
      },
      "execution_count": null,
      "outputs": [
        {
          "output_type": "execute_result",
          "data": {
            "text/plain": [
              "str"
            ]
          },
          "metadata": {},
          "execution_count": 10
        }
      ]
    },
    {
      "cell_type": "markdown",
      "source": [
        "constant and variables\n"
      ],
      "metadata": {
        "id": "ZKbfmiVJklOt"
      }
    },
    {
      "cell_type": "code",
      "source": [
        "super_mama = (\"Super child\")\n",
        "print(super_mama)"
      ],
      "metadata": {
        "colab": {
          "base_uri": "https://localhost:8080/"
        },
        "id": "4LJwdUTdkrLD",
        "outputId": "ee923bb1-611e-4a69-9baa-31d9f256c65e"
      },
      "execution_count": null,
      "outputs": [
        {
          "output_type": "stream",
          "name": "stdout",
          "text": [
            "Super child\n"
          ]
        }
      ]
    },
    {
      "cell_type": "code",
      "source": [
        "_childcate, child_care, childcare = \"amen\", 1234, 'AMEN'\n",
        "print(_childcate, child_care, childcare)"
      ],
      "metadata": {
        "colab": {
          "base_uri": "https://localhost:8080/"
        },
        "id": "ttcnVINNlLKD",
        "outputId": "4106d3e5-5ffc-475c-b779-289d813c6d97"
      },
      "execution_count": null,
      "outputs": [
        {
          "output_type": "stream",
          "name": "stdout",
          "text": [
            "amen 1234 AMEN\n"
          ]
        }
      ]
    },
    {
      "cell_type": "markdown",
      "source": [
        "input function \n"
      ],
      "metadata": {
        "id": "QffjSObMmpop"
      }
    },
    {
      "cell_type": "code",
      "source": [
        "n1 = input(\"enter the first price : \")\n",
        "n2 = input(\"enter the second price :\")\n",
        "sum = n1 + n2\n",
        "print(sum)"
      ],
      "metadata": {
        "id": "iecNRfSblrGL",
        "colab": {
          "base_uri": "https://localhost:8080/"
        },
        "outputId": "862ae7de-3cd2-4d5e-b8c5-93a570d5ddde"
      },
      "execution_count": 26,
      "outputs": [
        {
          "output_type": "stream",
          "name": "stdout",
          "text": [
            "enter the first price : 23\n",
            "enter the second price :45\n",
            "2345\n"
          ]
        }
      ]
    },
    {
      "cell_type": "code",
      "source": [
        "n1 = int(input(\"enter the first price : \"))\n",
        "n2 = int(input(\"enter the second price :\"))\n",
        "sum = n1 + n2\n",
        "print(sum)"
      ],
      "metadata": {
        "colab": {
          "base_uri": "https://localhost:8080/"
        },
        "id": "yGBThiWypN3H",
        "outputId": "81c69907-e79c-4a05-fc3b-4b189ce3c38f"
      },
      "execution_count": 27,
      "outputs": [
        {
          "output_type": "stream",
          "name": "stdout",
          "text": [
            "enter the first price : 23\n",
            "enter the second price :49\n",
            "72\n"
          ]
        }
      ]
    },
    {
      "cell_type": "code",
      "source": [
        "num=50\n",
        "\n",
        "print(float(num))"
      ],
      "metadata": {
        "colab": {
          "base_uri": "https://localhost:8080/"
        },
        "id": "K1xT_O8ZpsAz",
        "outputId": "f7f8d9a4-c7dd-42c0-e970-638ec80caa6b"
      },
      "execution_count": 29,
      "outputs": [
        {
          "output_type": "stream",
          "name": "stdout",
          "text": [
            "50.0\n"
          ]
        }
      ]
    },
    {
      "cell_type": "markdown",
      "source": [
        "data types\n"
      ],
      "metadata": {
        "id": "K9jm-6qMrKvY"
      }
    },
    {
      "cell_type": "code",
      "source": [
        "type(2.3)"
      ],
      "metadata": {
        "colab": {
          "base_uri": "https://localhost:8080/"
        },
        "id": "AylNG-fbrNWF",
        "outputId": "076a4c05-7f31-4abf-fafc-96cc0102c666"
      },
      "execution_count": 30,
      "outputs": [
        {
          "output_type": "execute_result",
          "data": {
            "text/plain": [
              "float"
            ]
          },
          "metadata": {},
          "execution_count": 30
        }
      ]
    },
    {
      "cell_type": "code",
      "source": [
        "#convert one data type to another\n",
        "b=78\n",
        "print(b)\n",
        "type(b)"
      ],
      "metadata": {
        "colab": {
          "base_uri": "https://localhost:8080/"
        },
        "id": "_g5gJJZhyxJJ",
        "outputId": "e9ece57e-a2c7-4816-a236-96b0d2a5179f"
      },
      "execution_count": 31,
      "outputs": [
        {
          "output_type": "stream",
          "name": "stdout",
          "text": [
            "78\n"
          ]
        },
        {
          "output_type": "execute_result",
          "data": {
            "text/plain": [
              "int"
            ]
          },
          "metadata": {},
          "execution_count": 31
        }
      ]
    },
    {
      "cell_type": "code",
      "source": [
        "b=(float(45))\n",
        "print(b)"
      ],
      "metadata": {
        "colab": {
          "base_uri": "https://localhost:8080/"
        },
        "id": "GgveHufZyxBs",
        "outputId": "83854eac-4210-438f-958f-781bd6365059"
      },
      "execution_count": 32,
      "outputs": [
        {
          "output_type": "stream",
          "name": "stdout",
          "text": [
            "45.0\n"
          ]
        }
      ]
    },
    {
      "cell_type": "code",
      "source": [
        "x=678.345\n",
        "print(int(x))\n",
        "type(x)"
      ],
      "metadata": {
        "colab": {
          "base_uri": "https://localhost:8080/"
        },
        "id": "kTr2K6slzbwg",
        "outputId": "f3fd82fd-353d-435a-d9fd-2d38891c6d9f"
      },
      "execution_count": 34,
      "outputs": [
        {
          "output_type": "stream",
          "name": "stdout",
          "text": [
            "678\n"
          ]
        },
        {
          "output_type": "execute_result",
          "data": {
            "text/plain": [
              "float"
            ]
          },
          "metadata": {},
          "execution_count": 34
        }
      ]
    },
    {
      "cell_type": "code",
      "source": [
        "#boolean value\n",
        "s=True\n",
        "b=False\n",
        "print(s,b)\n",
        "type(s)\n",
        "type(b)"
      ],
      "metadata": {
        "colab": {
          "base_uri": "https://localhost:8080/"
        },
        "id": "QmsyKRbXzqbv",
        "outputId": "1b352b69-1f64-44e4-8568-1f579141a0e9"
      },
      "execution_count": 37,
      "outputs": [
        {
          "output_type": "stream",
          "name": "stdout",
          "text": [
            "True False\n"
          ]
        },
        {
          "output_type": "execute_result",
          "data": {
            "text/plain": [
              "bool"
            ]
          },
          "metadata": {},
          "execution_count": 37
        }
      ]
    },
    {
      "cell_type": "code",
      "source": [
        "x=10>3; y=5<9; z= 4==3\n",
        "print(x, y, z)\n",
        "type(x); type(y); type(z)"
      ],
      "metadata": {
        "colab": {
          "base_uri": "https://localhost:8080/"
        },
        "id": "B_0vbjOk0WWM",
        "outputId": "ad6b6032-826b-4800-ad4d-e876a9f3fdb7"
      },
      "execution_count": 42,
      "outputs": [
        {
          "output_type": "stream",
          "name": "stdout",
          "text": [
            "True True False\n"
          ]
        },
        {
          "output_type": "execute_result",
          "data": {
            "text/plain": [
              "bool"
            ]
          },
          "metadata": {},
          "execution_count": 42
        }
      ]
    },
    {
      "cell_type": "markdown",
      "source": [
        "String"
      ],
      "metadata": {
        "id": "bZ4xhFHy1X43"
      }
    },
    {
      "cell_type": "code",
      "source": [
        "_string = \"STRING\"\n",
        "print(_string)\n",
        "type(_string)"
      ],
      "metadata": {
        "colab": {
          "base_uri": "https://localhost:8080/"
        },
        "id": "_IuaPVqC1J62",
        "outputId": "cfde3bac-e35d-4adf-c0d9-4b8eabf38611"
      },
      "execution_count": 44,
      "outputs": [
        {
          "output_type": "stream",
          "name": "stdout",
          "text": [
            "STRING\n"
          ]
        },
        {
          "output_type": "execute_result",
          "data": {
            "text/plain": [
              "str"
            ]
          },
          "metadata": {},
          "execution_count": 44
        }
      ]
    },
    {
      "cell_type": "code",
      "source": [
        "_string1 = \"STRING\"\n",
        "_string2 = \"string\"\n",
        "print(_string1 + _string2)\n",
        "print(_string2 * 4)\n",
        "print(_string1[2:])\n",
        "print(_string2[:2])\n",
        "print(_string1[2:0])\n",
        "print(_string2[1:2])\n",
        "print(_string1[0:3])\n",
        "print(_string2[0:1])\n",
        "print(_string1[1::4])\n",
        "print(_string2[0::3])"
      ],
      "metadata": {
        "id": "LH3PMeXU2Yaf"
      },
      "execution_count": null,
      "outputs": []
    },
    {
      "cell_type": "markdown",
      "source": [
        "Types of Object in Python\n",
        "immuntable objects\n",
        "mutable objects\n",
        "\n",
        "Immutable objects \n",
        "Objects that values cannot be changed after creation, examples are:\n",
        "int\n",
        "float\n",
        "string\n",
        "bool\n",
        "tuple\n",
        "\n",
        "Mutable Objects \n",
        "mutable objects are objects that the values can change after creation, the examples are:\n",
        "list\n",
        "set \n",
        "dictionary"
      ],
      "metadata": {
        "id": "TyAEHLJr6RSs"
      }
    },
    {
      "cell_type": "code",
      "source": [
        "#list should be in square bracket\n",
        "_list = [\"pen\", \"biro\", \"pencil\", \"ruler\", 1,2,3,4,5]\n",
        "print(_list)\n",
        "type(_list)"
      ],
      "metadata": {
        "colab": {
          "base_uri": "https://localhost:8080/"
        },
        "id": "2lhSWlZV5ehj",
        "outputId": "ec42e6ba-9ae2-4db0-cba7-bcdf256a811a"
      },
      "execution_count": 61,
      "outputs": [
        {
          "output_type": "stream",
          "name": "stdout",
          "text": [
            "['pen', 'biro', 'pencil', 'ruler', 1, 2, 3, 4, 5]\n"
          ]
        },
        {
          "output_type": "execute_result",
          "data": {
            "text/plain": [
              "list"
            ]
          },
          "metadata": {},
          "execution_count": 61
        }
      ]
    },
    {
      "cell_type": "code",
      "source": [
        "#how to add element to a list\n",
        "_list = [\"pen\", \"biro\", \"pencil\", \"ruler\", 1,2,3,4,5]\n",
        "_list.append(24)\n",
        "print(_list)"
      ],
      "metadata": {
        "colab": {
          "base_uri": "https://localhost:8080/"
        },
        "id": "Lyv-Cg3_8Cbn",
        "outputId": "ebfc6962-3f9f-4e07-c4d2-b70550e68874"
      },
      "execution_count": 62,
      "outputs": [
        {
          "output_type": "stream",
          "name": "stdout",
          "text": [
            "['pen', 'biro', 'pencil', 'ruler', 1, 2, 3, 4, 5, 24]\n"
          ]
        }
      ]
    },
    {
      "cell_type": "code",
      "source": [
        "#print element of a list using their index\n",
        "print(_list[6])\n",
        "print(_list[2])"
      ],
      "metadata": {
        "colab": {
          "base_uri": "https://localhost:8080/"
        },
        "id": "nQbTOAHf8SpK",
        "outputId": "16d7dae8-fb35-4f91-8abb-b90fea75bac8"
      },
      "execution_count": 63,
      "outputs": [
        {
          "output_type": "stream",
          "name": "stdout",
          "text": [
            "3\n",
            "pencil\n"
          ]
        }
      ]
    },
    {
      "cell_type": "code",
      "source": [
        "#list allow duplicate values\n",
        "_list = [\"pen\", \"biro\", \"pencil\", \"pen\" \"ruler\", 1,2,3,4,5, 2, 4]\n",
        "print(_list)"
      ],
      "metadata": {
        "colab": {
          "base_uri": "https://localhost:8080/"
        },
        "id": "xXN1aDud8nbY",
        "outputId": "4b07ee53-a8d4-43e6-9b86-ccc388880635"
      },
      "execution_count": 64,
      "outputs": [
        {
          "output_type": "stream",
          "name": "stdout",
          "text": [
            "['pen', 'biro', 'pencil', 'penruler', 1, 2, 3, 4, 5, 2, 4]\n"
          ]
        }
      ]
    },
    {
      "cell_type": "code",
      "source": [
        "#to print the lenght of elements in a list\n",
        "_list = [\"pen\", \"biro\", \"pencil\", \"ruler\", 1,2,3,4,5]\n",
        "_list1 = [\"pen\", \"biro\", \"pencil\", \"pen\" \"ruler\", 1,2,3,4,5, 2, 4]\n",
        "print(len(_list))\n",
        "print(len(_list1))"
      ],
      "metadata": {
        "colab": {
          "base_uri": "https://localhost:8080/"
        },
        "id": "uOKIEXby897g",
        "outputId": "01197bf1-4066-49b7-d125-c8ec2b244497"
      },
      "execution_count": 65,
      "outputs": [
        {
          "output_type": "stream",
          "name": "stdout",
          "text": [
            "9\n",
            "11\n"
          ]
        }
      ]
    },
    {
      "cell_type": "code",
      "source": [
        "#initializing empty list\n",
        "_list = []\n",
        "print(_list)\n",
        "_list.append(23) #to add element to an empty list\n",
        "print(_list)"
      ],
      "metadata": {
        "colab": {
          "base_uri": "https://localhost:8080/"
        },
        "id": "7wlD6CB689xv",
        "outputId": "b80cac1d-55e7-4912-eddf-66b8fcf8085d"
      },
      "execution_count": 67,
      "outputs": [
        {
          "output_type": "stream",
          "name": "stdout",
          "text": [
            "[]\n",
            "[23]\n"
          ]
        }
      ]
    },
    {
      "cell_type": "code",
      "source": [
        "# to delete an element in a list\n",
        "_list = [\"pen\", \"biro\", \"pencil\", \"pen\", \"ruler\", 1,2,3,4,5, 2, 4]\n",
        "print(_list)\n",
        "\n",
        "del _list[5]\n",
        "print(_list)"
      ],
      "metadata": {
        "colab": {
          "base_uri": "https://localhost:8080/"
        },
        "id": "Lv2H8OB_9sa8",
        "outputId": "4d72b475-79f4-48f5-acc5-458a19c488e5"
      },
      "execution_count": 69,
      "outputs": [
        {
          "output_type": "stream",
          "name": "stdout",
          "text": [
            "['pen', 'biro', 'pencil', 'pen', 'ruler', 1, 2, 3, 4, 5, 2, 4]\n",
            "['pen', 'biro', 'pencil', 'pen', 'ruler', 2, 3, 4, 5, 2, 4]\n"
          ]
        }
      ]
    },
    {
      "cell_type": "code",
      "source": [
        "#we use concatenation + to join two list\n",
        "_list = [\"pen\", \"biro\", \"pencil\", \"pen\" \"ruler\", 1,2,3,4,5, 2, 4]\n",
        "list1 = [23, 24, 25, 26]\n",
        "list_1 = _list  +  list1\n",
        "print (list_1)"
      ],
      "metadata": {
        "colab": {
          "base_uri": "https://localhost:8080/"
        },
        "id": "PRDCpDMy-xHm",
        "outputId": "0a360d58-26ec-4a24-ced1-88787d926c2b"
      },
      "execution_count": 70,
      "outputs": [
        {
          "output_type": "stream",
          "name": "stdout",
          "text": [
            "['pen', 'biro', 'pencil', 'penruler', 1, 2, 3, 4, 5, 2, 4, 23, 24, 25, 26]\n"
          ]
        }
      ]
    },
    {
      "cell_type": "markdown",
      "source": [
        "Tuple\n",
        "\n",
        "It is similar as list. The only difference is that you cn not alter the element of a list. Tuple uses round bracket while list uses square bracket"
      ],
      "metadata": {
        "id": "tFuq0IVU_evK"
      }
    },
    {
      "cell_type": "code",
      "source": [
        "_tuple = (\"pen\", \"biro\", \"pencil\", \"pen\" \"ruler\", 1,2,3,4,5, 2, 4)\n",
        "print(_tuple)\n",
        "type(_tuple)"
      ],
      "metadata": {
        "colab": {
          "base_uri": "https://localhost:8080/"
        },
        "id": "Y2eLJAB-_xnG",
        "outputId": "92b0a7b1-4462-4aea-ed84-639d1f91b0f8"
      },
      "execution_count": 71,
      "outputs": [
        {
          "output_type": "stream",
          "name": "stdout",
          "text": [
            "('pen', 'biro', 'pencil', 'penruler', 1, 2, 3, 4, 5, 2, 4)\n"
          ]
        },
        {
          "output_type": "execute_result",
          "data": {
            "text/plain": [
              "tuple"
            ]
          },
          "metadata": {},
          "execution_count": 71
        }
      ]
    },
    {
      "cell_type": "code",
      "source": [
        "#conversion of list into tuple\n",
        "\n",
        "_list = [\"pen\", \"biro\", \"pencil\", \"pen\", \"ruler\", 1,2,3,4,5, 2, 4]\n",
        "print(_list)\n",
        "\n",
        "_tuple = tuple(_list)\n",
        "print(_tuple)\n",
        "\n",
        "print(_tuple[3]) #printing elements of tuple using index\n",
        "print(_tuple[6])\n",
        "print(_tuple[9])\n",
        "\n",
        "print(len(_tuple)) #printing lenght of tuple"
      ],
      "metadata": {
        "colab": {
          "base_uri": "https://localhost:8080/"
        },
        "id": "Pop1XwKOAQHJ",
        "outputId": "d3db1aac-b8af-44ee-887d-0c32e3c998c9"
      },
      "execution_count": 76,
      "outputs": [
        {
          "output_type": "stream",
          "name": "stdout",
          "text": [
            "['pen', 'biro', 'pencil', 'pen', 'ruler', 1, 2, 3, 4, 5, 2, 4]\n",
            "('pen', 'biro', 'pencil', 'pen', 'ruler', 1, 2, 3, 4, 5, 2, 4)\n",
            "pen\n",
            "2\n",
            "5\n",
            "12\n"
          ]
        }
      ]
    },
    {
      "cell_type": "markdown",
      "source": [
        "Dealing with Set\n",
        "\n",
        "set is indicated using curly bracket"
      ],
      "metadata": {
        "id": "n2Kl2BM3CE_N"
      }
    },
    {
      "cell_type": "code",
      "source": [
        "set = {2, 4, 6, 8, 10}\n",
        "print(set)\n",
        "type(set)"
      ],
      "metadata": {
        "id": "FKBTZck8Bv28"
      },
      "execution_count": null,
      "outputs": []
    },
    {
      "cell_type": "code",
      "source": [
        "#set does not print out duplicate values\n",
        "set = {2, 4, 6, 8, 8, 2, 10}\n",
        "print(set)"
      ],
      "metadata": {
        "colab": {
          "base_uri": "https://localhost:8080/"
        },
        "id": "Dke3rQv23bDu",
        "outputId": "696070e5-b9b7-417c-aefa-5ae3a9ef6c16"
      },
      "execution_count": 12,
      "outputs": [
        {
          "output_type": "stream",
          "name": "stdout",
          "text": [
            "{2, 4, 6, 8, 10}\n"
          ]
        }
      ]
    },
    {
      "cell_type": "code",
      "source": [
        "#converting a list to a set()\n",
        "list_1 = [20, 30, 40, 50]\n",
        "z = set(list_1)\n",
        "print(z)"
      ],
      "metadata": {
        "colab": {
          "base_uri": "https://localhost:8080/"
        },
        "id": "yG49OqkZCbsP",
        "outputId": "5104e4a7-5734-466f-e3bf-0512f9ef9489"
      },
      "execution_count": 1,
      "outputs": [
        {
          "output_type": "stream",
          "name": "stdout",
          "text": [
            "{40, 50, 20, 30}\n"
          ]
        }
      ]
    },
    {
      "cell_type": "markdown",
      "source": [
        "DICTIONARY"
      ],
      "metadata": {
        "id": "i2MrjJd80j3B"
      }
    },
    {
      "cell_type": "code",
      "source": [
        "#program to print dictionary\n",
        "dictionary_ = {'age': 30, 'name': 'Femi', 'country':'Nigeria'}\n",
        "print(dictionary_)\n",
        "type(dictionary_)"
      ],
      "metadata": {
        "colab": {
          "base_uri": "https://localhost:8080/"
        },
        "id": "2KzroLQr0nyb",
        "outputId": "9213eb3f-4884-4aae-da72-92f433859a2e"
      },
      "execution_count": 6,
      "outputs": [
        {
          "output_type": "stream",
          "name": "stdout",
          "text": [
            "{'age': 30, 'name': 'Femi', 'country': 'Nigeria'}\n"
          ]
        },
        {
          "output_type": "execute_result",
          "data": {
            "text/plain": [
              "dict"
            ]
          },
          "metadata": {},
          "execution_count": 6
        }
      ]
    },
    {
      "cell_type": "code",
      "source": [
        "#printing the values inside the dictionary\n",
        "dictionary_ = {'age': 30, 'name': 'Femi', 'country':'Nigeria'}\n",
        "print(dictionary_['age'])\n",
        "print(dictionary_['name'])\n",
        "print(dictionary_['country'])"
      ],
      "metadata": {
        "colab": {
          "base_uri": "https://localhost:8080/"
        },
        "id": "j1vQmRU72IeG",
        "outputId": "7cf3dc2f-c866-4b1b-cce4-206d4a0a77bc"
      },
      "execution_count": 11,
      "outputs": [
        {
          "output_type": "stream",
          "name": "stdout",
          "text": [
            "30\n",
            "Femi\n",
            "Nigeria\n"
          ]
        }
      ]
    },
    {
      "cell_type": "code",
      "source": [
        "#dictionary does not permit duplicate values\n",
        "dictionary8 = {'name': 'Ali', 'name': 'Ali', 'age': 23}\n",
        "print(dictionary8)"
      ],
      "metadata": {
        "colab": {
          "base_uri": "https://localhost:8080/"
        },
        "id": "241XZhCF3vR7",
        "outputId": "46ad8018-3cf4-46db-898f-0c4c573bdf8c"
      },
      "execution_count": 13,
      "outputs": [
        {
          "output_type": "stream",
          "name": "stdout",
          "text": [
            "{'name': 'Ali', 'age': 23}\n"
          ]
        }
      ]
    },
    {
      "cell_type": "markdown",
      "source": [
        "OPERATORS IN PYTHON\n",
        "\n",
        "arithmetic operators\n",
        "assignment operators\n",
        "comparison operators\n",
        "logical operators\n",
        "identity operators\n",
        "membership operators"
      ],
      "metadata": {
        "id": "mJ5v1pwu4ruN"
      }
    },
    {
      "cell_type": "code",
      "source": [
        "#dealing with arithmetri operators\n",
        "\n",
        "n1 = 10\n",
        "n2 = 20\n",
        "\n",
        "sum = n1 + n2    #addition operator\n",
        "print('sum is : ', sum)\n",
        "\n",
        "diff = n2 - n1  #difference or subtraction operator\n",
        "print('difference is :', diff)\n",
        "\n",
        "mul = n1*n2  # multipication operator\n",
        "print('product is : ', mul)\n",
        "\n",
        "div = n2/n1   #division operator\n",
        "print('division is :', div)\n",
        "\n",
        "mod = n2%n1  #modular operator\n",
        "print('modular value is : ', mod)\n"
      ],
      "metadata": {
        "colab": {
          "base_uri": "https://localhost:8080/"
        },
        "id": "xuvN4QNr5FkJ",
        "outputId": "6db009fd-1516-4b89-f953-6b982d301e91"
      },
      "execution_count": 15,
      "outputs": [
        {
          "output_type": "stream",
          "name": "stdout",
          "text": [
            "sum is :  30\n",
            "difference is : 10\n",
            "product is :  200\n",
            "division is : 2.0\n",
            "modular value is :  0\n"
          ]
        }
      ]
    },
    {
      "cell_type": "code",
      "source": [
        "#assignment operators\n",
        "a = 10\n",
        "b = 2\n",
        "print(a)\n",
        "\n",
        "a += b\n",
        "print(a)\n",
        "\n",
        "a -= b\n",
        "print(a)\n",
        "\n",
        "a %= b\n",
        "print(a)\n",
        "\n",
        "a *= b\n",
        "print(a)\n",
        "\n",
        "a /= b\n",
        "print(a)"
      ],
      "metadata": {
        "colab": {
          "base_uri": "https://localhost:8080/"
        },
        "id": "ZZg2nhDM7DuK",
        "outputId": "45364e4d-0d67-4e90-bea5-1092c945c978"
      },
      "execution_count": 16,
      "outputs": [
        {
          "output_type": "stream",
          "name": "stdout",
          "text": [
            "10\n",
            "12\n",
            "10\n",
            "0\n",
            "0\n",
            "0.0\n"
          ]
        }
      ]
    },
    {
      "cell_type": "code",
      "source": [
        "#comparision operators\n",
        "\n",
        "a = 30\n",
        "b = 20\n",
        "\n",
        "print(a==b) #equal to\n",
        "print(a>b) #greater than\n",
        "print(a<b) # less than\n",
        "print(a!=b) #not equal to\n",
        "print(a<=b) #less than or equal to\n",
        "print(a>=b) #greater than or equal to"
      ],
      "metadata": {
        "colab": {
          "base_uri": "https://localhost:8080/"
        },
        "id": "YI12vihK8Lm2",
        "outputId": "8d03bf9b-e07a-4e9c-8045-93ac873531ac"
      },
      "execution_count": 17,
      "outputs": [
        {
          "output_type": "stream",
          "name": "stdout",
          "text": [
            "False\n",
            "True\n",
            "False\n",
            "True\n",
            "False\n",
            "True\n"
          ]
        }
      ]
    },
    {
      "cell_type": "code",
      "source": [
        "#dealing with logical operator are 'and', 'not' and 'or'\n",
        "\n",
        "a =  20\n",
        "print(a>20 and a>5)\n",
        "print(a>20 or a>5)\n",
        "print(not(a>20 and a>5))"
      ],
      "metadata": {
        "colab": {
          "base_uri": "https://localhost:8080/"
        },
        "id": "lLj_EWXo9RKo",
        "outputId": "e4f5cfae-58f7-4292-da45-aafa902059b1"
      },
      "execution_count": 20,
      "outputs": [
        {
          "output_type": "stream",
          "name": "stdout",
          "text": [
            "False\n",
            "True\n",
            "True\n"
          ]
        }
      ]
    },
    {
      "cell_type": "code",
      "source": [
        "#identity operator uses 'is' and 'is not'\n",
        "\n",
        "a = 5\n",
        "b = 5\n",
        "x = 4\n",
        "y = 6\n",
        "print(a is b)\n",
        "print (a is not b)\n",
        "print (x is y)\n",
        "print (x is not y)"
      ],
      "metadata": {
        "colab": {
          "base_uri": "https://localhost:8080/"
        },
        "id": "xAkFSgSH-IfX",
        "outputId": "e5db63d6-3a68-433a-8781-0434b2d01aad"
      },
      "execution_count": 23,
      "outputs": [
        {
          "output_type": "stream",
          "name": "stdout",
          "text": [
            "True\n",
            "False\n",
            "False\n",
            "True\n"
          ]
        }
      ]
    },
    {
      "cell_type": "code",
      "source": [
        "#membership operators uses two operators 'in' and 'not in'\n",
        "\n",
        "a = 10\n",
        "b = 15\n",
        "\n",
        "c = [5, 10, 11, 12, 13, 14]\n",
        "\n",
        "print(a in c)\n",
        "print(b in c)\n",
        "print(a not in c)\n",
        "print(b not in c)"
      ],
      "metadata": {
        "colab": {
          "base_uri": "https://localhost:8080/"
        },
        "id": "kytreI60-zyO",
        "outputId": "6836adef-edca-4627-9663-8446de3fc85d"
      },
      "execution_count": 25,
      "outputs": [
        {
          "output_type": "stream",
          "name": "stdout",
          "text": [
            "True\n",
            "False\n",
            "False\n",
            "True\n"
          ]
        }
      ]
    },
    {
      "cell_type": "markdown",
      "source": [
        "IF ELSE STATEMENT\n",
        "\n",
        "SIMPLE IF ELSE STATEMENT"
      ],
      "metadata": {
        "id": "DMDacc0XBouS"
      }
    },
    {
      "cell_type": "code",
      "source": [
        "# simple statement\n",
        "\n",
        "a = 2\n",
        "b = 5\n",
        "\n",
        "if (a>b):\n",
        "  print('a is the greatest number')\n",
        "else:\n",
        "  print('b is the greatest number')"
      ],
      "metadata": {
        "colab": {
          "base_uri": "https://localhost:8080/"
        },
        "id": "Uv7sTtB-BuNa",
        "outputId": "a56e1f00-4c25-412f-fb5a-1293380187d8"
      },
      "execution_count": 26,
      "outputs": [
        {
          "output_type": "stream",
          "name": "stdout",
          "text": [
            "b is the greatest number\n"
          ]
        }
      ]
    },
    {
      "cell_type": "code",
      "source": [
        "# using if elif else\n",
        "\n",
        "a = 2\n",
        "b = 5\n",
        "c = 20\n",
        "\n",
        "if (b<a>c):\n",
        "  print('a is the greatest number')\n",
        "elif (a<b>c):\n",
        "  print('b is the greatest number')\n",
        "else:\n",
        "  print('c is the greatest')"
      ],
      "metadata": {
        "colab": {
          "base_uri": "https://localhost:8080/"
        },
        "id": "YvbENzZpH7PA",
        "outputId": "30b5741e-29ca-4904-fbb1-7f765a9d952b"
      },
      "execution_count": 27,
      "outputs": [
        {
          "output_type": "stream",
          "name": "stdout",
          "text": [
            "c is the greatest\n"
          ]
        }
      ]
    },
    {
      "cell_type": "code",
      "source": [
        "# nested if statement\n",
        "\n",
        "a =  int(input('enter the first number ,'))\n",
        "b = int(input('enter the second number ,'))\n",
        "c = int(input('enter the third number ,'))\n",
        "\n",
        "if (a>b):\n",
        "  if (a>c):\n",
        "    print('a is the greatest')\n",
        "  else:\n",
        "    print('c is the greatest')\n",
        "else:\n",
        "  if (b>a):\n",
        "    if (b>c):\n",
        "      print('b is the greatest')\n",
        "    else:\n",
        "      print('c is the greatest')"
      ],
      "metadata": {
        "colab": {
          "base_uri": "https://localhost:8080/"
        },
        "id": "DJzkLQBYJK9s",
        "outputId": "46ba85e3-6731-49c2-cfa5-0566601a5ca4"
      },
      "execution_count": 30,
      "outputs": [
        {
          "output_type": "stream",
          "name": "stdout",
          "text": [
            "enter the first number ,10\n",
            "enter the second number ,45\n",
            "enter the third number ,15\n",
            "b is the greatest\n"
          ]
        }
      ]
    },
    {
      "cell_type": "markdown",
      "source": [
        "LOOPS\n",
        "\n",
        "FOR LOOPS"
      ],
      "metadata": {
        "id": "J9NXnsUxN9oG"
      }
    },
    {
      "cell_type": "code",
      "source": [
        "# for loops syntax is 'for variable_name in range()\n",
        "\n",
        "#program to print ten numbers\n",
        "for i in range(10):\n",
        "  i = int(input('numners : '))\n",
        "  "
      ],
      "metadata": {
        "colab": {
          "base_uri": "https://localhost:8080/"
        },
        "id": "CIPw4BC4OBGR",
        "outputId": "faf00146-bca2-495c-ea43-818ec1039766"
      },
      "execution_count": 40,
      "outputs": [
        {
          "name": "stdout",
          "output_type": "stream",
          "text": [
            "numners : 2\n",
            "numners : 3\n",
            "numners : 4\n",
            "numners : 5\n",
            "numners : 6\n",
            "numners : 7\n",
            "numners : 8\n",
            "numners : 9\n",
            "numners : 9\n",
            "numners : 0\n"
          ]
        }
      ]
    },
    {
      "cell_type": "code",
      "source": [
        "i = [1,2,3,4,5,6]\n",
        "for number in i:\n",
        "  print(number)\n",
        "  \n"
      ],
      "metadata": {
        "id": "Cgd3G4UQV8F3"
      },
      "execution_count": null,
      "outputs": []
    },
    {
      "cell_type": "markdown",
      "source": [
        "while loop"
      ],
      "metadata": {
        "id": "uiQjhkx-X9iJ"
      }
    },
    {
      "cell_type": "code",
      "source": [
        "i=0\n",
        "\n",
        "while i<10:\n",
        "  print(i)\n",
        "  i += 1\n"
      ],
      "metadata": {
        "colab": {
          "base_uri": "https://localhost:8080/"
        },
        "id": "GtH-8jm2XkQR",
        "outputId": "4f53eb87-6685-4f87-c848-014eb1a377bd"
      },
      "execution_count": 50,
      "outputs": [
        {
          "output_type": "stream",
          "name": "stdout",
          "text": [
            "0\n",
            "1\n",
            "2\n",
            "3\n",
            "4\n",
            "5\n",
            "6\n",
            "7\n",
            "8\n",
            "9\n"
          ]
        }
      ]
    },
    {
      "cell_type": "markdown",
      "source": [
        "FUNCTIONS \n",
        "\n",
        "function is a block of codes that can be reused over and over again"
      ],
      "metadata": {
        "id": "_X9ovnPx-WTI"
      }
    },
    {
      "cell_type": "code",
      "source": [
        "# finding factorial value of a number\n",
        "# a factorial is the product of all positive integers less than or equal to a given number\n",
        "\n",
        "# for example: factorial of 6 is 6x5x4x3x2x1\n",
        "\n",
        "# using the normal if statement\n",
        "\n",
        "n = int(input('enter any number')) # allow users to enter the number\n",
        "\n",
        "fac = 1  # initialize factorial to 1\n",
        "\n",
        "if n ==0:\n",
        "  print('the factorial of 0is 1 ')\n",
        "\n",
        "else:\n",
        "  for s in range(1, n+1):\n",
        "    fac = fac *s\n",
        "  print('the factorial of ', n ,'is', fac)\n",
        "\n"
      ],
      "metadata": {
        "colab": {
          "base_uri": "https://localhost:8080/"
        },
        "id": "ANfyVW_cXkEx",
        "outputId": "97054e30-45d6-4959-b95a-aa8ffb780261"
      },
      "execution_count": 2,
      "outputs": [
        {
          "output_type": "stream",
          "name": "stdout",
          "text": [
            "enter any number7\n",
            "the factorial of  7 is 5040\n"
          ]
        }
      ]
    },
    {
      "cell_type": "code",
      "source": [
        "# using function to print factorial\n",
        "\n",
        "def fac_value(n):\n",
        "\n",
        "  fac = 1\n",
        "\n",
        "  if n ==0:\n",
        "    return fac\n",
        "\n",
        "  else:\n",
        "    for s in range(1, n+1):\n",
        "      fac = fac*s\n",
        "    return fac  "
      ],
      "metadata": {
        "id": "rxbwqPwPENMu"
      },
      "execution_count": 10,
      "outputs": []
    },
    {
      "cell_type": "code",
      "source": [
        "print(fac_value(10))"
      ],
      "metadata": {
        "colab": {
          "base_uri": "https://localhost:8080/"
        },
        "id": "sBQ5tAs0FeBI",
        "outputId": "5611e3b3-2891-4e4e-bb77-c21a16d654b3"
      },
      "execution_count": 11,
      "outputs": [
        {
          "output_type": "stream",
          "name": "stdout",
          "text": [
            "3628800\n"
          ]
        }
      ]
    },
    {
      "cell_type": "code",
      "source": [
        "print(fac_value(3))"
      ],
      "metadata": {
        "colab": {
          "base_uri": "https://localhost:8080/"
        },
        "id": "1E4vCyWYF5VQ",
        "outputId": "d868da94-a6cf-442f-a598-671575b24856"
      },
      "execution_count": 12,
      "outputs": [
        {
          "output_type": "stream",
          "name": "stdout",
          "text": [
            "6\n"
          ]
        }
      ]
    }
  ]
}