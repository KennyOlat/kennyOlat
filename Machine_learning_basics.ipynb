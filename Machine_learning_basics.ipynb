{
  "nbformat": 4,
  "nbformat_minor": 0,
  "metadata": {
    "colab": {
      "provenance": [],
      "authorship_tag": "ABX9TyMFpyE16ChXrmsP1XaiMFu1",
      "include_colab_link": true
    },
    "kernelspec": {
      "name": "python3",
      "display_name": "Python 3"
    },
    "language_info": {
      "name": "python"
    }
  },
  "cells": [
    {
      "cell_type": "markdown",
      "metadata": {
        "id": "view-in-github",
        "colab_type": "text"
      },
      "source": [
        "<a href=\"https://colab.research.google.com/github/KennyOlat/kennyOlat/blob/main/Machine_learning_basics.ipynb\" target=\"_parent\"><img src=\"https://colab.research.google.com/assets/colab-badge.svg\" alt=\"Open In Colab\"/></a>"
      ]
    },
    {
      "cell_type": "markdown",
      "source": [
        "COMPLETE MACHINE LEARNING COURSE \n",
        "\n"
      ],
      "metadata": {
        "id": "z9h4OeWDHGNo"
      }
    },
    {
      "cell_type": "markdown",
      "source": [
        "system specification"
      ],
      "metadata": {
        "id": "SrgaaSMvRb8m"
      }
    },
    {
      "cell_type": "code",
      "source": [
        "cat/proc/cpuinfo"
      ],
      "metadata": {
        "id": "XfqO30ETHRqy"
      },
      "execution_count": null,
      "outputs": []
    },
    {
      "cell_type": "code",
      "source": [
        "cat/proc/meminfo #finding ram specification"
      ],
      "metadata": {
        "id": "tUfqrG8gSfjN"
      },
      "execution_count": null,
      "outputs": []
    },
    {
      "cell_type": "markdown",
      "source": [
        "installing libraries \n"
      ],
      "metadata": {
        "id": "_IoLeVFrTqT9"
      }
    },
    {
      "cell_type": "code",
      "source": [
        "pip install pandas\n"
      ],
      "metadata": {
        "colab": {
          "base_uri": "https://localhost:8080/"
        },
        "id": "7zLn3C5fdx_3",
        "outputId": "caa58eec-ad9f-4356-d786-34e1d78906dc"
      },
      "execution_count": 23,
      "outputs": [
        {
          "output_type": "stream",
          "name": "stdout",
          "text": [
            "\u001b[33mWARNING: Ignoring invalid distribution -andas (/usr/local/lib/python3.8/dist-packages)\u001b[0m\u001b[33m\n",
            "\u001b[0m\u001b[33mWARNING: Ignoring invalid distribution -andas (/usr/local/lib/python3.8/dist-packages)\u001b[0m\u001b[33m\n",
            "\u001b[0mLooking in indexes: https://pypi.org/simple, https://us-python.pkg.dev/colab-wheels/public/simple/\n",
            "Requirement already satisfied: pandas in /usr/local/lib/python3.8/dist-packages (1.5.3)\n",
            "Requirement already satisfied: python-dateutil>=2.8.1 in /usr/local/lib/python3.8/dist-packages (from pandas) (2.8.2)\n",
            "Requirement already satisfied: numpy>=1.20.3 in /usr/local/lib/python3.8/dist-packages (from pandas) (1.21.6)\n",
            "Requirement already satisfied: pytz>=2020.1 in /usr/local/lib/python3.8/dist-packages (from pandas) (2022.7)\n",
            "Requirement already satisfied: six>=1.5 in /usr/local/lib/python3.8/dist-packages (from python-dateutil>=2.8.1->pandas) (1.15.0)\n",
            "\u001b[33mWARNING: Ignoring invalid distribution -andas (/usr/local/lib/python3.8/dist-packages)\u001b[0m\u001b[33m\n",
            "\u001b[0m"
          ]
        }
      ]
    },
    {
      "cell_type": "code",
      "source": [
        "pip--version"
      ],
      "metadata": {
        "colab": {
          "base_uri": "https://localhost:8080/"
        },
        "id": "6Vbc0oFohBNq",
        "outputId": "b8c91935-24b1-4ab0-8801-fcb6054e263d"
      },
      "execution_count": 26,
      "outputs": [
        {
          "output_type": "stream",
          "name": "stdout",
          "text": [
            "pip 22.0.4 from /usr/local/lib/python3.8/dist-packages/pip (python 3.8)\n"
          ]
        }
      ]
    },
    {
      "cell_type": "code",
      "source": [
        "pip -V"
      ],
      "metadata": {
        "colab": {
          "base_uri": "https://localhost:8080/"
        },
        "id": "c-3TdxkPjOxG",
        "outputId": "a64828c4-154e-4ee1-9890-b73fd0f89073"
      },
      "execution_count": 29,
      "outputs": [
        {
          "output_type": "stream",
          "name": "stdout",
          "text": [
            "pip 22.0.4 from /usr/local/lib/python3.8/dist-packages/pip (python 3.8)\n"
          ]
        }
      ]
    },
    {
      "cell_type": "code",
      "source": [
        "import pandas as pd"
      ],
      "metadata": {
        "id": "bt6IgLwpjXP3"
      },
      "execution_count": 1,
      "outputs": []
    },
    {
      "cell_type": "code",
      "source": [
        "import numpy"
      ],
      "metadata": {
        "id": "QZ2wvPsCdE5r"
      },
      "execution_count": 2,
      "outputs": []
    },
    {
      "cell_type": "code",
      "source": [
        "import numpy as np\n"
      ],
      "metadata": {
        "id": "ENfrLUMVe_S8"
      },
      "execution_count": 4,
      "outputs": []
    },
    {
      "cell_type": "code",
      "source": [
        "import matplotlib"
      ],
      "metadata": {
        "id": "3N8MSbkhdNLP"
      },
      "execution_count": 3,
      "outputs": []
    },
    {
      "cell_type": "markdown",
      "source": [
        "Numpy - numerical python\n",
        "\n"
      ],
      "metadata": {
        "id": "r9L50tAreiUO"
      }
    },
    {
      "cell_type": "code",
      "source": [
        "import numpy as np\n"
      ],
      "metadata": {
        "id": "Wp-N4k3PeCvZ"
      },
      "execution_count": 5,
      "outputs": []
    },
    {
      "cell_type": "code",
      "source": [
        "from time import process_time\n"
      ],
      "metadata": {
        "id": "ZI1bq_sbfKBh"
      },
      "execution_count": 11,
      "outputs": []
    },
    {
      "cell_type": "markdown",
      "source": [
        "python list creation"
      ],
      "metadata": {
        "id": "hXFs3PfufkBk"
      }
    },
    {
      "cell_type": "code",
      "source": [
        "python_list = [i for i in range (10000)]\n",
        "process_time()\n",
        "start_time = process_time()\n",
        "\n",
        "python_list = [i+5 for i in python_list]\n",
        "\n",
        "end_time = process_time()\n",
        "\n",
        "print(end_time -start_time)"
      ],
      "metadata": {
        "colab": {
          "base_uri": "https://localhost:8080/"
        },
        "id": "cwgN1vsefnpc",
        "outputId": "870d2c80-a050-4542-9a9c-e5a5a42bcd5f"
      },
      "execution_count": 38,
      "outputs": [
        {
          "output_type": "stream",
          "name": "stdout",
          "text": [
            "0.0016455929999921182\n"
          ]
        }
      ]
    },
    {
      "cell_type": "code",
      "source": [
        "np_array = np.array(i for  i in range(10000))\n",
        "\n",
        "start_time = process_time()\n",
        "\n",
        "np_array=np.array(i+5 for i in range(10000+5))  #adding 5 to each element in np_array\n",
        "\n",
        "end_time = process_time()\n",
        "\n",
        "print(end_time -start_time)"
      ],
      "metadata": {
        "colab": {
          "base_uri": "https://localhost:8080/"
        },
        "id": "rhkOkPcMubg5",
        "outputId": "04128223-64a7-4393-ae94-97a49378b8df"
      },
      "execution_count": 37,
      "outputs": [
        {
          "output_type": "stream",
          "name": "stdout",
          "text": [
            "0.00010978800000316369\n"
          ]
        }
      ]
    },
    {
      "cell_type": "code",
      "source": [
        "list1 = [1,2,3,4,5]\n",
        "print(list1)"
      ],
      "metadata": {
        "colab": {
          "base_uri": "https://localhost:8080/"
        },
        "id": "N9A5VKjX1Dv5",
        "outputId": "3019740d-9651-4a9f-c0af-71c1aecfb61b"
      },
      "execution_count": 25,
      "outputs": [
        {
          "output_type": "stream",
          "name": "stdout",
          "text": [
            "[1, 2, 3, 4, 5]\n"
          ]
        }
      ]
    },
    {
      "cell_type": "code",
      "source": [
        "np_array = np.array([1,2,3,4,5])\n",
        "print(np_array)\n",
        "type(np_array)"
      ],
      "metadata": {
        "colab": {
          "base_uri": "https://localhost:8080/"
        },
        "id": "LcGe2l-XQZ-v",
        "outputId": "de50e589-2439-4d32-eb81-598617b5b3a3"
      },
      "execution_count": 27,
      "outputs": [
        {
          "output_type": "stream",
          "name": "stdout",
          "text": [
            "[1 2 3 4 5]\n"
          ]
        },
        {
          "output_type": "execute_result",
          "data": {
            "text/plain": [
              "numpy.ndarray"
            ]
          },
          "metadata": {},
          "execution_count": 27
        }
      ]
    },
    {
      "cell_type": "code",
      "source": [
        "#creating one dimensional array\n",
        "\n",
        "a = np.array([1,2,3,4,5])\n",
        "print(a)\n",
        "\n",
        "a.shape"
      ],
      "metadata": {
        "colab": {
          "base_uri": "https://localhost:8080/"
        },
        "id": "Iw2ZLQUsQ39c",
        "outputId": "62993293-1afe-44ba-b861-ad37536531b6"
      },
      "execution_count": 29,
      "outputs": [
        {
          "output_type": "stream",
          "name": "stdout",
          "text": [
            "[1 2 3 4 5]\n"
          ]
        },
        {
          "output_type": "execute_result",
          "data": {
            "text/plain": [
              "(5,)"
            ]
          },
          "metadata": {},
          "execution_count": 29
        }
      ]
    },
    {
      "cell_type": "code",
      "source": [
        "b = np.array([[1,2,3,4], [5,6,7,8]])\n",
        "c = np.array(([1.0,2,3.0,4], [5,6.0,7,8.0]))\n",
        "d = np.array([[10,12,13,14], [15,16,17,18]], dtype=float)\n",
        "print(b)\n",
        "print(c)\n",
        "print(d)\n",
        "\n",
        "b.shape"
      ],
      "metadata": {
        "colab": {
          "base_uri": "https://localhost:8080/"
        },
        "id": "xNBH4FxoTRzw",
        "outputId": "0ac4353d-a03f-47a6-d45d-2840800b3442"
      },
      "execution_count": 41,
      "outputs": [
        {
          "output_type": "stream",
          "name": "stdout",
          "text": [
            "[[1 2 3 4]\n",
            " [5 6 7 8]]\n",
            "[[1. 2. 3. 4.]\n",
            " [5. 6. 7. 8.]]\n",
            "[[10. 12. 13. 14.]\n",
            " [15. 16. 17. 18.]]\n"
          ]
        },
        {
          "output_type": "execute_result",
          "data": {
            "text/plain": [
              "(2, 4)"
            ]
          },
          "metadata": {},
          "execution_count": 41
        }
      ]
    },
    {
      "cell_type": "markdown",
      "source": [
        "initial placeholder in numpy array"
      ],
      "metadata": {
        "id": "VtKAZWpyWx15"
      }
    },
    {
      "cell_type": "code",
      "source": [
        "x = np.zeros((3,6)) #creating dimentional array in which all elements are zeros\n",
        "print(x)"
      ],
      "metadata": {
        "colab": {
          "base_uri": "https://localhost:8080/"
        },
        "id": "8LX-NVT7V5bf",
        "outputId": "60d77f8b-d20e-401b-ef92-85cf0e67b9de"
      },
      "execution_count": 43,
      "outputs": [
        {
          "output_type": "stream",
          "name": "stdout",
          "text": [
            "[[0. 0. 0. 0. 0. 0.]\n",
            " [0. 0. 0. 0. 0. 0.]\n",
            " [0. 0. 0. 0. 0. 0.]]\n"
          ]
        }
      ]
    },
    {
      "cell_type": "code",
      "source": [
        "y = np.ones((2, 3)) #creating dimentional array in which all elements are ones\n",
        "print(y)"
      ],
      "metadata": {
        "colab": {
          "base_uri": "https://localhost:8080/"
        },
        "id": "1cGNyOdeXgRR",
        "outputId": "1c531ec7-5e98-4ec2-a923-1ed674308a90"
      },
      "execution_count": 44,
      "outputs": [
        {
          "output_type": "stream",
          "name": "stdout",
          "text": [
            "[[1. 1. 1.]\n",
            " [1. 1. 1.]]\n"
          ]
        }
      ]
    },
    {
      "cell_type": "code",
      "source": [
        "#creating dimensional array of particular value\n",
        "\n",
        "z = np.full((2,3),4)\n",
        "print(z)"
      ],
      "metadata": {
        "colab": {
          "base_uri": "https://localhost:8080/"
        },
        "id": "XAxnh_PsX4DY",
        "outputId": "0d9bcb3b-cdc3-44f4-b242-cd4f2c73576a"
      },
      "execution_count": 46,
      "outputs": [
        {
          "output_type": "stream",
          "name": "stdout",
          "text": [
            "[[4 4 4]\n",
            " [4 4 4]]\n"
          ]
        }
      ]
    },
    {
      "cell_type": "code",
      "source": [
        "#creating array of identity matrix\n",
        "\n",
        "c = np.eye(5)\n",
        "print(c)"
      ],
      "metadata": {
        "colab": {
          "base_uri": "https://localhost:8080/"
        },
        "id": "Vex2TbpiYKTC",
        "outputId": "36fda45e-3961-4076-cbba-390d8cd43b46"
      },
      "execution_count": 47,
      "outputs": [
        {
          "output_type": "stream",
          "name": "stdout",
          "text": [
            "[[1. 0. 0. 0. 0.]\n",
            " [0. 1. 0. 0. 0.]\n",
            " [0. 0. 1. 0. 0.]\n",
            " [0. 0. 0. 1. 0.]\n",
            " [0. 0. 0. 0. 1.]]\n"
          ]
        }
      ]
    },
    {
      "cell_type": "code",
      "source": [
        "#creating a numpy array with random values\n",
        "\n",
        "b = np.random.random((3,4))\n",
        "print(b)"
      ],
      "metadata": {
        "colab": {
          "base_uri": "https://localhost:8080/"
        },
        "id": "4prVj52PYk9V",
        "outputId": "37ce89de-d330-44fb-a870-2cb1f7d88698"
      },
      "execution_count": 51,
      "outputs": [
        {
          "output_type": "stream",
          "name": "stdout",
          "text": [
            "[[0.24241818 0.14630251 0.74747854 0.74908602]\n",
            " [0.3975401  0.96378183 0.47381114 0.64025251]\n",
            " [0.30070822 0.36123278 0.51627487 0.68982296]]\n"
          ]
        }
      ]
    },
    {
      "cell_type": "code",
      "source": [
        "#creating a random value using numpy specifying the range and the size\n",
        "\n",
        "x = np.random.randint(5,100,(4,5))\n",
        "print(x)"
      ],
      "metadata": {
        "colab": {
          "base_uri": "https://localhost:8080/"
        },
        "id": "sgl0Yd3waMT1",
        "outputId": "e4c01366-88bf-470e-f03f-46ce3ad2e104"
      },
      "execution_count": 52,
      "outputs": [
        {
          "output_type": "stream",
          "name": "stdout",
          "text": [
            "[[40 26 34 45 94]\n",
            " [74  8 53 94 58]\n",
            " [50 82 93 74 91]\n",
            " [16 98 89 82 71]]\n"
          ]
        }
      ]
    },
    {
      "cell_type": "code",
      "source": [
        "#how can we create array of evenly value -->specifying the number of values we are creating\n",
        "\n",
        "f=np.linspace(20,30,5)\n",
        "print(f)"
      ],
      "metadata": {
        "colab": {
          "base_uri": "https://localhost:8080/"
        },
        "id": "N2F1mzMCas1c",
        "outputId": "47ec5946-f926-4477-ba93-dc1a6f784a7a"
      },
      "execution_count": 65,
      "outputs": [
        {
          "output_type": "stream",
          "name": "stdout",
          "text": [
            "[20.  22.5 25.  27.5 30. ]\n"
          ]
        }
      ]
    },
    {
      "cell_type": "code",
      "source": [
        "#creating evenly spaced value array in steps of a particular value\n",
        "\n",
        "e = np.arange(10,2000,4)\n",
        "print(e)"
      ],
      "metadata": {
        "id": "srD_gHWKcN2I"
      },
      "execution_count": null,
      "outputs": []
    },
    {
      "cell_type": "code",
      "source": [
        "#converting list to numpy values\n",
        "\n",
        "w = [1,2,3,4,5]\n",
        "\n",
        "np_array=np.asarray(w) #asarray convert a list to numpy array\n",
        "print(np_array)\n",
        "type(np_array)"
      ],
      "metadata": {
        "colab": {
          "base_uri": "https://localhost:8080/"
        },
        "id": "ejhqjVpkdL2k",
        "outputId": "65512420-1729-4eb4-fe4c-268c51c90b6b"
      },
      "execution_count": 69,
      "outputs": [
        {
          "output_type": "stream",
          "name": "stdout",
          "text": [
            "[1 2 3 4 5]\n"
          ]
        },
        {
          "output_type": "execute_result",
          "data": {
            "text/plain": [
              "numpy.ndarray"
            ]
          },
          "metadata": {},
          "execution_count": 69
        }
      ]
    },
    {
      "cell_type": "markdown",
      "source": [
        "Analysing Numpy array\n",
        "\n",
        "getting information about numpy array"
      ],
      "metadata": {
        "id": "ACjSvZ7wdvGD"
      }
    },
    {
      "cell_type": "code",
      "source": [
        "v=np.random.randint(10,50,(3,3))\n",
        "\n",
        "print(v)\n",
        "\n",
        "print(v.shape) #array dimension\n",
        "\n",
        "print(v.ndim) # no of dimensions in the array\n",
        "\n",
        "print(v.size) # checking the size of the array\n",
        "\n",
        "print(v.dtype) #checking the datatye of values in the array"
      ],
      "metadata": {
        "colab": {
          "base_uri": "https://localhost:8080/"
        },
        "id": "98Vc5jsld1or",
        "outputId": "73db7063-5769-4453-daa3-e44a3f2f6ec5"
      },
      "execution_count": 74,
      "outputs": [
        {
          "output_type": "stream",
          "name": "stdout",
          "text": [
            "[[37 20 21]\n",
            " [35 36 27]\n",
            " [28 27 13]]\n",
            "(3, 3)\n",
            "2\n",
            "9\n",
            "int64\n"
          ]
        }
      ]
    },
    {
      "cell_type": "markdown",
      "source": [
        "Mathematical Operation on numpy Array"
      ],
      "metadata": {
        "id": "5eYmeLW4fTi3"
      }
    },
    {
      "cell_type": "code",
      "source": [
        "list = [2,3,4,5]\n",
        "list1 = [6,7,8,9]\n",
        "\n",
        "print(list + list1) #concatenation of two list\n"
      ],
      "metadata": {
        "colab": {
          "base_uri": "https://localhost:8080/"
        },
        "id": "pqdG6VJxfaA7",
        "outputId": "c5c59d11-f9b5-4855-c7e7-b80c9e96e16a"
      },
      "execution_count": 1,
      "outputs": [
        {
          "output_type": "stream",
          "name": "stdout",
          "text": [
            "[2, 3, 4, 5, 6, 7, 8, 9]\n"
          ]
        }
      ]
    },
    {
      "cell_type": "code",
      "source": [
        "import numpy as np"
      ],
      "metadata": {
        "id": "HmeZ50aoaC_l"
      },
      "execution_count": 3,
      "outputs": []
    },
    {
      "cell_type": "code",
      "source": [
        "m = np.random.randint(1,20,(4,3))\n",
        "n = np.random.randint(1,15,(4,3))\n",
        "print(m)\n",
        "print(n)"
      ],
      "metadata": {
        "colab": {
          "base_uri": "https://localhost:8080/"
        },
        "id": "JXYfNro5ZkRR",
        "outputId": "de732831-881b-4fad-8120-097499ed8cfc"
      },
      "execution_count": 5,
      "outputs": [
        {
          "output_type": "stream",
          "name": "stdout",
          "text": [
            "[[ 1 11  3]\n",
            " [ 4 10  9]\n",
            " [ 7 17  6]\n",
            " [ 2 18  6]]\n",
            "[[ 9  5  4]\n",
            " [10  3 12]\n",
            " [ 7  5  7]\n",
            " [14 13  3]]\n"
          ]
        }
      ]
    },
    {
      "cell_type": "code",
      "source": [
        "print(m+n)\n",
        "print(m-n)\n",
        "print(m/n)\n",
        "print(m%n)\n"
      ],
      "metadata": {
        "colab": {
          "base_uri": "https://localhost:8080/"
        },
        "id": "jANoFjNHaUDv",
        "outputId": "277532fe-aae4-4349-c0cd-63a2bd684b93"
      },
      "execution_count": 6,
      "outputs": [
        {
          "output_type": "stream",
          "name": "stdout",
          "text": [
            "[[10 16  7]\n",
            " [14 13 21]\n",
            " [14 22 13]\n",
            " [16 31  9]]\n",
            "[[ -8   6  -1]\n",
            " [ -6   7  -3]\n",
            " [  0  12  -1]\n",
            " [-12   5   3]]\n",
            "[[0.11111111 2.2        0.75      ]\n",
            " [0.4        3.33333333 0.75      ]\n",
            " [1.         3.4        0.85714286]\n",
            " [0.14285714 1.38461538 2.        ]]\n",
            "[[1 1 3]\n",
            " [4 1 9]\n",
            " [0 2 6]\n",
            " [2 5 0]]\n"
          ]
        }
      ]
    },
    {
      "cell_type": "code",
      "source": [
        "m = np.random.randint(1,20,(4,3))\n",
        "n = np.random.randint(1,15,(4,3))\n",
        "#adding two arrays using numpy\n",
        "\n",
        "print(np.add(m,n))\n",
        "print(np.subtract(m,n))\n",
        "print(np.multiply(m,n))\n",
        "print(np.divide(m,n))"
      ],
      "metadata": {
        "colab": {
          "base_uri": "https://localhost:8080/"
        },
        "id": "8keGMIggamRv",
        "outputId": "5b33abb6-3a31-4a82-9073-cafbe765b8b5"
      },
      "execution_count": 7,
      "outputs": [
        {
          "output_type": "stream",
          "name": "stdout",
          "text": [
            "[[21 14 20]\n",
            " [17 13 20]\n",
            " [26 29 11]\n",
            " [ 5 21 20]]\n",
            "[[  3  -2   6]\n",
            " [ 11 -11   0]\n",
            " [ 12   3  -1]\n",
            " [ -3  -1  14]]\n",
            "[[108  48  91]\n",
            " [ 42  12 100]\n",
            " [133 208  30]\n",
            " [  4 110  51]]\n",
            "[[1.33333333 0.75       1.85714286]\n",
            " [4.66666667 0.08333333 1.        ]\n",
            " [2.71428571 1.23076923 0.83333333]\n",
            " [0.25       0.90909091 5.66666667]]\n"
          ]
        }
      ]
    },
    {
      "cell_type": "code",
      "source": [
        "#Array Manipulation\n",
        "\n",
        "array = np.random.randint(0,9,(2,2))\n",
        "print(array)\n",
        "print(array.shape)\n",
        "\n",
        "#finding the transpose of an array\n",
        "trans=np.transpose(array)\n",
        "print(trans)\n",
        "print(trans.shape)\n",
        "\n",
        "#another way of finding transpose\n",
        "\n",
        "trans1 = array.T\n",
        "print(trans1)\n",
        "print(trans1.shape)"
      ],
      "metadata": {
        "colab": {
          "base_uri": "https://localhost:8080/"
        },
        "id": "LVtxr55KbFIm",
        "outputId": "9b7e6409-0c6a-4c92-d5cd-35c10f47a5a2"
      },
      "execution_count": 10,
      "outputs": [
        {
          "output_type": "stream",
          "name": "stdout",
          "text": [
            "[[2 5]\n",
            " [0 3]]\n",
            "(2, 2)\n",
            "[[2 0]\n",
            " [5 3]]\n",
            "(2, 2)\n",
            "[[2 0]\n",
            " [5 3]]\n",
            "(2, 2)\n"
          ]
        }
      ]
    },
    {
      "cell_type": "code",
      "source": [
        "#reshaping the array\n",
        "\n",
        "a = np.random.randint(1,10,(2,3))\n",
        "print(a)\n",
        "print(a.shape)\n",
        "\n",
        "b= a.reshape(3,2)\n",
        "print(b)\n",
        "print(b.shape)"
      ],
      "metadata": {
        "colab": {
          "base_uri": "https://localhost:8080/"
        },
        "id": "XQs06PoxcJvx",
        "outputId": "895c189b-8cf6-4d00-8f4d-5bdc6e8f87fe"
      },
      "execution_count": 11,
      "outputs": [
        {
          "output_type": "stream",
          "name": "stdout",
          "text": [
            "[[3 3 1]\n",
            " [7 9 2]]\n",
            "(2, 3)\n",
            "[[3 3]\n",
            " [1 7]\n",
            " [9 2]]\n",
            "(3, 2)\n"
          ]
        }
      ]
    },
    {
      "cell_type": "markdown",
      "source": [
        "PANDAS LIBRARY\n",
        "\n",
        "Pandas library is used for data processing and analysis\n",
        "\n",
        "Pandas Frame\n",
        "Pandas dataframe is two dimensional tabular data structure with labeled axes (row and columns)"
      ],
      "metadata": {
        "id": "fszMVm7McxJQ"
      }
    },
    {
      "cell_type": "code",
      "source": [
        "# Mount your Google Drive files Following code make mount your google drive\n",
        "from google.colab import drive\n",
        "drive.mount('/content/gdrive')\n",
        "\n",
        "# Now upload the kaggle.json file\n",
        "from google.colab import files\n",
        "files.upload() #this will prompt you to upload the kaggle.json\n"
      ],
      "metadata": {
        "colab": {
          "base_uri": "https://localhost:8080/",
          "height": 148
        },
        "id": "oEE2QShemx9w",
        "outputId": "5e67585c-e6d5-4f69-d1c7-7846e317d06a"
      },
      "execution_count": 12,
      "outputs": [
        {
          "output_type": "stream",
          "name": "stdout",
          "text": [
            "Mounted at /content/gdrive\n"
          ]
        },
        {
          "output_type": "display_data",
          "data": {
            "text/plain": [
              "<IPython.core.display.HTML object>"
            ],
            "text/html": [
              "\n",
              "     <input type=\"file\" id=\"files-06287787-5035-4d51-a933-85799f55f3dd\" name=\"files[]\" multiple disabled\n",
              "        style=\"border:none\" />\n",
              "     <output id=\"result-06287787-5035-4d51-a933-85799f55f3dd\">\n",
              "      Upload widget is only available when the cell has been executed in the\n",
              "      current browser session. Please rerun this cell to enable.\n",
              "      </output>\n",
              "      <script>// Copyright 2017 Google LLC\n",
              "//\n",
              "// Licensed under the Apache License, Version 2.0 (the \"License\");\n",
              "// you may not use this file except in compliance with the License.\n",
              "// You may obtain a copy of the License at\n",
              "//\n",
              "//      http://www.apache.org/licenses/LICENSE-2.0\n",
              "//\n",
              "// Unless required by applicable law or agreed to in writing, software\n",
              "// distributed under the License is distributed on an \"AS IS\" BASIS,\n",
              "// WITHOUT WARRANTIES OR CONDITIONS OF ANY KIND, either express or implied.\n",
              "// See the License for the specific language governing permissions and\n",
              "// limitations under the License.\n",
              "\n",
              "/**\n",
              " * @fileoverview Helpers for google.colab Python module.\n",
              " */\n",
              "(function(scope) {\n",
              "function span(text, styleAttributes = {}) {\n",
              "  const element = document.createElement('span');\n",
              "  element.textContent = text;\n",
              "  for (const key of Object.keys(styleAttributes)) {\n",
              "    element.style[key] = styleAttributes[key];\n",
              "  }\n",
              "  return element;\n",
              "}\n",
              "\n",
              "// Max number of bytes which will be uploaded at a time.\n",
              "const MAX_PAYLOAD_SIZE = 100 * 1024;\n",
              "\n",
              "function _uploadFiles(inputId, outputId) {\n",
              "  const steps = uploadFilesStep(inputId, outputId);\n",
              "  const outputElement = document.getElementById(outputId);\n",
              "  // Cache steps on the outputElement to make it available for the next call\n",
              "  // to uploadFilesContinue from Python.\n",
              "  outputElement.steps = steps;\n",
              "\n",
              "  return _uploadFilesContinue(outputId);\n",
              "}\n",
              "\n",
              "// This is roughly an async generator (not supported in the browser yet),\n",
              "// where there are multiple asynchronous steps and the Python side is going\n",
              "// to poll for completion of each step.\n",
              "// This uses a Promise to block the python side on completion of each step,\n",
              "// then passes the result of the previous step as the input to the next step.\n",
              "function _uploadFilesContinue(outputId) {\n",
              "  const outputElement = document.getElementById(outputId);\n",
              "  const steps = outputElement.steps;\n",
              "\n",
              "  const next = steps.next(outputElement.lastPromiseValue);\n",
              "  return Promise.resolve(next.value.promise).then((value) => {\n",
              "    // Cache the last promise value to make it available to the next\n",
              "    // step of the generator.\n",
              "    outputElement.lastPromiseValue = value;\n",
              "    return next.value.response;\n",
              "  });\n",
              "}\n",
              "\n",
              "/**\n",
              " * Generator function which is called between each async step of the upload\n",
              " * process.\n",
              " * @param {string} inputId Element ID of the input file picker element.\n",
              " * @param {string} outputId Element ID of the output display.\n",
              " * @return {!Iterable<!Object>} Iterable of next steps.\n",
              " */\n",
              "function* uploadFilesStep(inputId, outputId) {\n",
              "  const inputElement = document.getElementById(inputId);\n",
              "  inputElement.disabled = false;\n",
              "\n",
              "  const outputElement = document.getElementById(outputId);\n",
              "  outputElement.innerHTML = '';\n",
              "\n",
              "  const pickedPromise = new Promise((resolve) => {\n",
              "    inputElement.addEventListener('change', (e) => {\n",
              "      resolve(e.target.files);\n",
              "    });\n",
              "  });\n",
              "\n",
              "  const cancel = document.createElement('button');\n",
              "  inputElement.parentElement.appendChild(cancel);\n",
              "  cancel.textContent = 'Cancel upload';\n",
              "  const cancelPromise = new Promise((resolve) => {\n",
              "    cancel.onclick = () => {\n",
              "      resolve(null);\n",
              "    };\n",
              "  });\n",
              "\n",
              "  // Wait for the user to pick the files.\n",
              "  const files = yield {\n",
              "    promise: Promise.race([pickedPromise, cancelPromise]),\n",
              "    response: {\n",
              "      action: 'starting',\n",
              "    }\n",
              "  };\n",
              "\n",
              "  cancel.remove();\n",
              "\n",
              "  // Disable the input element since further picks are not allowed.\n",
              "  inputElement.disabled = true;\n",
              "\n",
              "  if (!files) {\n",
              "    return {\n",
              "      response: {\n",
              "        action: 'complete',\n",
              "      }\n",
              "    };\n",
              "  }\n",
              "\n",
              "  for (const file of files) {\n",
              "    const li = document.createElement('li');\n",
              "    li.append(span(file.name, {fontWeight: 'bold'}));\n",
              "    li.append(span(\n",
              "        `(${file.type || 'n/a'}) - ${file.size} bytes, ` +\n",
              "        `last modified: ${\n",
              "            file.lastModifiedDate ? file.lastModifiedDate.toLocaleDateString() :\n",
              "                                    'n/a'} - `));\n",
              "    const percent = span('0% done');\n",
              "    li.appendChild(percent);\n",
              "\n",
              "    outputElement.appendChild(li);\n",
              "\n",
              "    const fileDataPromise = new Promise((resolve) => {\n",
              "      const reader = new FileReader();\n",
              "      reader.onload = (e) => {\n",
              "        resolve(e.target.result);\n",
              "      };\n",
              "      reader.readAsArrayBuffer(file);\n",
              "    });\n",
              "    // Wait for the data to be ready.\n",
              "    let fileData = yield {\n",
              "      promise: fileDataPromise,\n",
              "      response: {\n",
              "        action: 'continue',\n",
              "      }\n",
              "    };\n",
              "\n",
              "    // Use a chunked sending to avoid message size limits. See b/62115660.\n",
              "    let position = 0;\n",
              "    do {\n",
              "      const length = Math.min(fileData.byteLength - position, MAX_PAYLOAD_SIZE);\n",
              "      const chunk = new Uint8Array(fileData, position, length);\n",
              "      position += length;\n",
              "\n",
              "      const base64 = btoa(String.fromCharCode.apply(null, chunk));\n",
              "      yield {\n",
              "        response: {\n",
              "          action: 'append',\n",
              "          file: file.name,\n",
              "          data: base64,\n",
              "        },\n",
              "      };\n",
              "\n",
              "      let percentDone = fileData.byteLength === 0 ?\n",
              "          100 :\n",
              "          Math.round((position / fileData.byteLength) * 100);\n",
              "      percent.textContent = `${percentDone}% done`;\n",
              "\n",
              "    } while (position < fileData.byteLength);\n",
              "  }\n",
              "\n",
              "  // All done.\n",
              "  yield {\n",
              "    response: {\n",
              "      action: 'complete',\n",
              "    }\n",
              "  };\n",
              "}\n",
              "\n",
              "scope.google = scope.google || {};\n",
              "scope.google.colab = scope.google.colab || {};\n",
              "scope.google.colab._files = {\n",
              "  _uploadFiles,\n",
              "  _uploadFilesContinue,\n",
              "};\n",
              "})(self);\n",
              "</script> "
            ]
          },
          "metadata": {}
        },
        {
          "output_type": "stream",
          "name": "stdout",
          "text": [
            "Saving diabetics.csv to diabetics.csv\n"
          ]
        },
        {
          "output_type": "execute_result",
          "data": {
            "text/plain": [
              "{'diabetics.csv': b'Pregnancies,Glucose,BloodPressure,SkinThickness,Insulin,BMI,DiabetesPedigreeFunction,Age,Outcome\\r\\n6,148,72,35,0,33.6,0.627,50,1\\r\\n1,85,66,29,0,26.6,0.351,31,0\\r\\n8,183,64,0,0,23.3,0.672,32,1\\r\\n1,89,66,23,94,28.1,0.167,21,0\\r\\n0,137,40,35,168,43.1,2.288,33,1\\r\\n5,116,74,0,0,25.6,0.201,30,0\\r\\n3,78,50,32,88,31,0.248,26,1\\r\\n10,115,0,0,0,35.3,0.134,29,0\\r\\n2,197,70,45,543,30.5,0.158,53,1\\r\\n8,125,96,0,0,0,0.232,54,1\\r\\n4,110,92,0,0,37.6,0.191,30,0\\r\\n10,168,74,0,0,38,0.537,34,1\\r\\n10,139,80,0,0,27.1,1.441,57,0\\r\\n1,189,60,23,846,30.1,0.398,59,1\\r\\n5,166,72,19,175,25.8,0.587,51,1\\r\\n7,100,0,0,0,30,0.484,32,1\\r\\n0,118,84,47,230,45.8,0.551,31,1\\r\\n7,107,74,0,0,29.6,0.254,31,1\\r\\n1,103,30,38,83,43.3,0.183,33,0\\r\\n1,115,70,30,96,34.6,0.529,32,1\\r\\n3,126,88,41,235,39.3,0.704,27,0\\r\\n8,99,84,0,0,35.4,0.388,50,0\\r\\n7,196,90,0,0,39.8,0.451,41,1\\r\\n9,119,80,35,0,29,0.263,29,1\\r\\n11,143,94,33,146,36.6,0.254,51,1\\r\\n10,125,70,26,115,31.1,0.205,41,1\\r\\n7,147,76,0,0,39.4,0.257,43,1\\r\\n1,97,66,15,140,23.2,0.487,22,0\\r\\n13,145,82,19,110,22.2,0.245,57,0\\r\\n5,117,92,0,0,34.1,0.337,38,0\\r\\n5,109,75,26,0,36,0.546,60,0\\r\\n3,158,76,36,245,31.6,0.851,28,1\\r\\n3,88,58,11,54,24.8,0.267,22,0\\r\\n6,92,92,0,0,19.9,0.188,28,0\\r\\n10,122,78,31,0,27.6,0.512,45,0\\r\\n4,103,60,33,192,24,0.966,33,0\\r\\n11,138,76,0,0,33.2,0.42,35,0\\r\\n9,102,76,37,0,32.9,0.665,46,1\\r\\n2,90,68,42,0,38.2,0.503,27,1\\r\\n4,111,72,47,207,37.1,1.39,56,1\\r\\n3,180,64,25,70,34,0.271,26,0\\r\\n7,133,84,0,0,40.2,0.696,37,0\\r\\n7,106,92,18,0,22.7,0.235,48,0\\r\\n9,171,110,24,240,45.4,0.721,54,1\\r\\n7,159,64,0,0,27.4,0.294,40,0\\r\\n0,180,66,39,0,42,1.893,25,1\\r\\n1,146,56,0,0,29.7,0.564,29,0\\r\\n2,71,70,27,0,28,0.586,22,0\\r\\n7,103,66,32,0,39.1,0.344,31,1\\r\\n7,105,0,0,0,0,0.305,24,0\\r\\n1,103,80,11,82,19.4,0.491,22,0\\r\\n1,101,50,15,36,24.2,0.526,26,0\\r\\n5,88,66,21,23,24.4,0.342,30,0\\r\\n8,176,90,34,300,33.7,0.467,58,1\\r\\n7,150,66,42,342,34.7,0.718,42,0\\r\\n1,73,50,10,0,23,0.248,21,0\\r\\n7,187,68,39,304,37.7,0.254,41,1\\r\\n0,100,88,60,110,46.8,0.962,31,0\\r\\n0,146,82,0,0,40.5,1.781,44,0\\r\\n0,105,64,41,142,41.5,0.173,22,0\\r\\n2,84,0,0,0,0,0.304,21,0\\r\\n8,133,72,0,0,32.9,0.27,39,1\\r\\n5,44,62,0,0,25,0.587,36,0\\r\\n2,141,58,34,128,25.4,0.699,24,0\\r\\n7,114,66,0,0,32.8,0.258,42,1\\r\\n5,99,74,27,0,29,0.203,32,0\\r\\n0,109,88,30,0,32.5,0.855,38,1\\r\\n2,109,92,0,0,42.7,0.845,54,0\\r\\n1,95,66,13,38,19.6,0.334,25,0\\r\\n4,146,85,27,100,28.9,0.189,27,0\\r\\n2,100,66,20,90,32.9,0.867,28,1\\r\\n5,139,64,35,140,28.6,0.411,26,0\\r\\n13,126,90,0,0,43.4,0.583,42,1\\r\\n4,129,86,20,270,35.1,0.231,23,0\\r\\n1,79,75,30,0,32,0.396,22,0\\r\\n1,0,48,20,0,24.7,0.14,22,0\\r\\n7,62,78,0,0,32.6,0.391,41,0\\r\\n5,95,72,33,0,37.7,0.37,27,0\\r\\n0,131,0,0,0,43.2,0.27,26,1\\r\\n2,112,66,22,0,25,0.307,24,0\\r\\n3,113,44,13,0,22.4,0.14,22,0\\r\\n2,74,0,0,0,0,0.102,22,0\\r\\n7,83,78,26,71,29.3,0.767,36,0\\r\\n0,101,65,28,0,24.6,0.237,22,0\\r\\n5,137,108,0,0,48.8,0.227,37,1\\r\\n2,110,74,29,125,32.4,0.698,27,0\\r\\n13,106,72,54,0,36.6,0.178,45,0\\r\\n2,100,68,25,71,38.5,0.324,26,0\\r\\n15,136,70,32,110,37.1,0.153,43,1\\r\\n1,107,68,19,0,26.5,0.165,24,0\\r\\n1,80,55,0,0,19.1,0.258,21,0\\r\\n4,123,80,15,176,32,0.443,34,0\\r\\n7,81,78,40,48,46.7,0.261,42,0\\r\\n4,134,72,0,0,23.8,0.277,60,1\\r\\n2,142,82,18,64,24.7,0.761,21,0\\r\\n6,144,72,27,228,33.9,0.255,40,0\\r\\n2,92,62,28,0,31.6,0.13,24,0\\r\\n1,71,48,18,76,20.4,0.323,22,0\\r\\n6,93,50,30,64,28.7,0.356,23,0\\r\\n1,122,90,51,220,49.7,0.325,31,1\\r\\n1,163,72,0,0,39,1.222,33,1\\r\\n1,151,60,0,0,26.1,0.179,22,0\\r\\n0,125,96,0,0,22.5,0.262,21,0\\r\\n1,81,72,18,40,26.6,0.283,24,0\\r\\n2,85,65,0,0,39.6,0.93,27,0\\r\\n1,126,56,29,152,28.7,0.801,21,0\\r\\n1,96,122,0,0,22.4,0.207,27,0\\r\\n4,144,58,28,140,29.5,0.287,37,0\\r\\n3,83,58,31,18,34.3,0.336,25,0\\r\\n0,95,85,25,36,37.4,0.247,24,1\\r\\n3,171,72,33,135,33.3,0.199,24,1\\r\\n8,155,62,26,495,34,0.543,46,1\\r\\n1,89,76,34,37,31.2,0.192,23,0\\r\\n4,76,62,0,0,34,0.391,25,0\\r\\n7,160,54,32,175,30.5,0.588,39,1\\r\\n4,146,92,0,0,31.2,0.539,61,1\\r\\n5,124,74,0,0,34,0.22,38,1\\r\\n5,78,48,0,0,33.7,0.654,25,0\\r\\n4,97,60,23,0,28.2,0.443,22,0\\r\\n4,99,76,15,51,23.2,0.223,21,0\\r\\n0,162,76,56,100,53.2,0.759,25,1\\r\\n6,111,64,39,0,34.2,0.26,24,0\\r\\n2,107,74,30,100,33.6,0.404,23,0\\r\\n5,132,80,0,0,26.8,0.186,69,0\\r\\n0,113,76,0,0,33.3,0.278,23,1\\r\\n1,88,30,42,99,55,0.496,26,1\\r\\n3,120,70,30,135,42.9,0.452,30,0\\r\\n1,118,58,36,94,33.3,0.261,23,0\\r\\n1,117,88,24,145,34.5,0.403,40,1\\r\\n0,105,84,0,0,27.9,0.741,62,1\\r\\n4,173,70,14,168,29.7,0.361,33,1\\r\\n9,122,56,0,0,33.3,1.114,33,1\\r\\n3,170,64,37,225,34.5,0.356,30,1\\r\\n8,84,74,31,0,38.3,0.457,39,0\\r\\n2,96,68,13,49,21.1,0.647,26,0\\r\\n2,125,60,20,140,33.8,0.088,31,0\\r\\n0,100,70,26,50,30.8,0.597,21,0\\r\\n0,93,60,25,92,28.7,0.532,22,0\\r\\n0,129,80,0,0,31.2,0.703,29,0\\r\\n5,105,72,29,325,36.9,0.159,28,0\\r\\n3,128,78,0,0,21.1,0.268,55,0\\r\\n5,106,82,30,0,39.5,0.286,38,0\\r\\n2,108,52,26,63,32.5,0.318,22,0\\r\\n10,108,66,0,0,32.4,0.272,42,1\\r\\n4,154,62,31,284,32.8,0.237,23,0\\r\\n0,102,75,23,0,0,0.572,21,0\\r\\n9,57,80,37,0,32.8,0.096,41,0\\r\\n2,106,64,35,119,30.5,1.4,34,0\\r\\n5,147,78,0,0,33.7,0.218,65,0\\r\\n2,90,70,17,0,27.3,0.085,22,0\\r\\n1,136,74,50,204,37.4,0.399,24,0\\r\\n4,114,65,0,0,21.9,0.432,37,0\\r\\n9,156,86,28,155,34.3,1.189,42,1\\r\\n1,153,82,42,485,40.6,0.687,23,0\\r\\n8,188,78,0,0,47.9,0.137,43,1\\r\\n7,152,88,44,0,50,0.337,36,1\\r\\n2,99,52,15,94,24.6,0.637,21,0\\r\\n1,109,56,21,135,25.2,0.833,23,0\\r\\n2,88,74,19,53,29,0.229,22,0\\r\\n17,163,72,41,114,40.9,0.817,47,1\\r\\n4,151,90,38,0,29.7,0.294,36,0\\r\\n7,102,74,40,105,37.2,0.204,45,0\\r\\n0,114,80,34,285,44.2,0.167,27,0\\r\\n2,100,64,23,0,29.7,0.368,21,0\\r\\n0,131,88,0,0,31.6,0.743,32,1\\r\\n6,104,74,18,156,29.9,0.722,41,1\\r\\n3,148,66,25,0,32.5,0.256,22,0\\r\\n4,120,68,0,0,29.6,0.709,34,0\\r\\n4,110,66,0,0,31.9,0.471,29,0\\r\\n3,111,90,12,78,28.4,0.495,29,0\\r\\n6,102,82,0,0,30.8,0.18,36,1\\r\\n6,134,70,23,130,35.4,0.542,29,1\\r\\n2,87,0,23,0,28.9,0.773,25,0\\r\\n1,79,60,42,48,43.5,0.678,23,0\\r\\n2,75,64,24,55,29.7,0.37,33,0\\r\\n8,179,72,42,130,32.7,0.719,36,1\\r\\n6,85,78,0,0,31.2,0.382,42,0\\r\\n0,129,110,46,130,67.1,0.319,26,1\\r\\n5,143,78,0,0,45,0.19,47,0\\r\\n5,130,82,0,0,39.1,0.956,37,1\\r\\n6,87,80,0,0,23.2,0.084,32,0\\r\\n0,119,64,18,92,34.9,0.725,23,0\\r\\n1,0,74,20,23,27.7,0.299,21,0\\r\\n5,73,60,0,0,26.8,0.268,27,0\\r\\n4,141,74,0,0,27.6,0.244,40,0\\r\\n7,194,68,28,0,35.9,0.745,41,1\\r\\n8,181,68,36,495,30.1,0.615,60,1\\r\\n1,128,98,41,58,32,1.321,33,1\\r\\n8,109,76,39,114,27.9,0.64,31,1\\r\\n5,139,80,35,160,31.6,0.361,25,1\\r\\n3,111,62,0,0,22.6,0.142,21,0\\r\\n9,123,70,44,94,33.1,0.374,40,0\\r\\n7,159,66,0,0,30.4,0.383,36,1\\r\\n11,135,0,0,0,52.3,0.578,40,1\\r\\n8,85,55,20,0,24.4,0.136,42,0\\r\\n5,158,84,41,210,39.4,0.395,29,1\\r\\n1,105,58,0,0,24.3,0.187,21,0\\r\\n3,107,62,13,48,22.9,0.678,23,1\\r\\n4,109,64,44,99,34.8,0.905,26,1\\r\\n4,148,60,27,318,30.9,0.15,29,1\\r\\n0,113,80,16,0,31,0.874,21,0\\r\\n1,138,82,0,0,40.1,0.236,28,0\\r\\n0,108,68,20,0,27.3,0.787,32,0\\r\\n2,99,70,16,44,20.4,0.235,27,0\\r\\n6,103,72,32,190,37.7,0.324,55,0\\r\\n5,111,72,28,0,23.9,0.407,27,0\\r\\n8,196,76,29,280,37.5,0.605,57,1\\r\\n5,162,104,0,0,37.7,0.151,52,1\\r\\n1,96,64,27,87,33.2,0.289,21,0\\r\\n7,184,84,33,0,35.5,0.355,41,1\\r\\n2,81,60,22,0,27.7,0.29,25,0\\r\\n0,147,85,54,0,42.8,0.375,24,0\\r\\n7,179,95,31,0,34.2,0.164,60,0\\r\\n0,140,65,26,130,42.6,0.431,24,1\\r\\n9,112,82,32,175,34.2,0.26,36,1\\r\\n12,151,70,40,271,41.8,0.742,38,1\\r\\n5,109,62,41,129,35.8,0.514,25,1\\r\\n6,125,68,30,120,30,0.464,32,0\\r\\n5,85,74,22,0,29,1.224,32,1\\r\\n5,112,66,0,0,37.8,0.261,41,1\\r\\n0,177,60,29,478,34.6,1.072,21,1\\r\\n2,158,90,0,0,31.6,0.805,66,1\\r\\n7,119,0,0,0,25.2,0.209,37,0\\r\\n7,142,60,33,190,28.8,0.687,61,0\\r\\n1,100,66,15,56,23.6,0.666,26,0\\r\\n1,87,78,27,32,34.6,0.101,22,0\\r\\n0,101,76,0,0,35.7,0.198,26,0\\r\\n3,162,52,38,0,37.2,0.652,24,1\\r\\n4,197,70,39,744,36.7,2.329,31,0\\r\\n0,117,80,31,53,45.2,0.089,24,0\\r\\n4,142,86,0,0,44,0.645,22,1\\r\\n6,134,80,37,370,46.2,0.238,46,1\\r\\n1,79,80,25,37,25.4,0.583,22,0\\r\\n4,122,68,0,0,35,0.394,29,0\\r\\n3,74,68,28,45,29.7,0.293,23,0\\r\\n4,171,72,0,0,43.6,0.479,26,1\\r\\n7,181,84,21,192,35.9,0.586,51,1\\r\\n0,179,90,27,0,44.1,0.686,23,1\\r\\n9,164,84,21,0,30.8,0.831,32,1\\r\\n0,104,76,0,0,18.4,0.582,27,0\\r\\n1,91,64,24,0,29.2,0.192,21,0\\r\\n4,91,70,32,88,33.1,0.446,22,0\\r\\n3,139,54,0,0,25.6,0.402,22,1\\r\\n6,119,50,22,176,27.1,1.318,33,1\\r\\n2,146,76,35,194,38.2,0.329,29,0\\r\\n9,184,85,15,0,30,1.213,49,1\\r\\n10,122,68,0,0,31.2,0.258,41,0\\r\\n0,165,90,33,680,52.3,0.427,23,0\\r\\n9,124,70,33,402,35.4,0.282,34,0\\r\\n1,111,86,19,0,30.1,0.143,23,0\\r\\n9,106,52,0,0,31.2,0.38,42,0\\r\\n2,129,84,0,0,28,0.284,27,0\\r\\n2,90,80,14,55,24.4,0.249,24,0\\r\\n0,86,68,32,0,35.8,0.238,25,0\\r\\n12,92,62,7,258,27.6,0.926,44,1\\r\\n1,113,64,35,0,33.6,0.543,21,1\\r\\n3,111,56,39,0,30.1,0.557,30,0\\r\\n2,114,68,22,0,28.7,0.092,25,0\\r\\n1,193,50,16,375,25.9,0.655,24,0\\r\\n11,155,76,28,150,33.3,1.353,51,1\\r\\n3,191,68,15,130,30.9,0.299,34,0\\r\\n3,141,0,0,0,30,0.761,27,1\\r\\n4,95,70,32,0,32.1,0.612,24,0\\r\\n3,142,80,15,0,32.4,0.2,63,0\\r\\n4,123,62,0,0,32,0.226,35,1\\r\\n5,96,74,18,67,33.6,0.997,43,0\\r\\n0,138,0,0,0,36.3,0.933,25,1\\r\\n2,128,64,42,0,40,1.101,24,0\\r\\n0,102,52,0,0,25.1,0.078,21,0\\r\\n2,146,0,0,0,27.5,0.24,28,1\\r\\n10,101,86,37,0,45.6,1.136,38,1\\r\\n2,108,62,32,56,25.2,0.128,21,0\\r\\n3,122,78,0,0,23,0.254,40,0\\r\\n1,71,78,50,45,33.2,0.422,21,0\\r\\n13,106,70,0,0,34.2,0.251,52,0\\r\\n2,100,70,52,57,40.5,0.677,25,0\\r\\n7,106,60,24,0,26.5,0.296,29,1\\r\\n0,104,64,23,116,27.8,0.454,23,0\\r\\n5,114,74,0,0,24.9,0.744,57,0\\r\\n2,108,62,10,278,25.3,0.881,22,0\\r\\n0,146,70,0,0,37.9,0.334,28,1\\r\\n10,129,76,28,122,35.9,0.28,39,0\\r\\n7,133,88,15,155,32.4,0.262,37,0\\r\\n7,161,86,0,0,30.4,0.165,47,1\\r\\n2,108,80,0,0,27,0.259,52,1\\r\\n7,136,74,26,135,26,0.647,51,0\\r\\n5,155,84,44,545,38.7,0.619,34,0\\r\\n1,119,86,39,220,45.6,0.808,29,1\\r\\n4,96,56,17,49,20.8,0.34,26,0\\r\\n5,108,72,43,75,36.1,0.263,33,0\\r\\n0,78,88,29,40,36.9,0.434,21,0\\r\\n0,107,62,30,74,36.6,0.757,25,1\\r\\n2,128,78,37,182,43.3,1.224,31,1\\r\\n1,128,48,45,194,40.5,0.613,24,1\\r\\n0,161,50,0,0,21.9,0.254,65,0\\r\\n6,151,62,31,120,35.5,0.692,28,0\\r\\n2,146,70,38,360,28,0.337,29,1\\r\\n0,126,84,29,215,30.7,0.52,24,0\\r\\n14,100,78,25,184,36.6,0.412,46,1\\r\\n8,112,72,0,0,23.6,0.84,58,0\\r\\n0,167,0,0,0,32.3,0.839,30,1\\r\\n2,144,58,33,135,31.6,0.422,25,1\\r\\n5,77,82,41,42,35.8,0.156,35,0\\r\\n5,115,98,0,0,52.9,0.209,28,1\\r\\n3,150,76,0,0,21,0.207,37,0\\r\\n2,120,76,37,105,39.7,0.215,29,0\\r\\n10,161,68,23,132,25.5,0.326,47,1\\r\\n0,137,68,14,148,24.8,0.143,21,0\\r\\n0,128,68,19,180,30.5,1.391,25,1\\r\\n2,124,68,28,205,32.9,0.875,30,1\\r\\n6,80,66,30,0,26.2,0.313,41,0\\r\\n0,106,70,37,148,39.4,0.605,22,0\\r\\n2,155,74,17,96,26.6,0.433,27,1\\r\\n3,113,50,10,85,29.5,0.626,25,0\\r\\n7,109,80,31,0,35.9,1.127,43,1\\r\\n2,112,68,22,94,34.1,0.315,26,0\\r\\n3,99,80,11,64,19.3,0.284,30,0\\r\\n3,182,74,0,0,30.5,0.345,29,1\\r\\n3,115,66,39,140,38.1,0.15,28,0\\r\\n6,194,78,0,0,23.5,0.129,59,1\\r\\n4,129,60,12,231,27.5,0.527,31,0\\r\\n3,112,74,30,0,31.6,0.197,25,1\\r\\n0,124,70,20,0,27.4,0.254,36,1\\r\\n13,152,90,33,29,26.8,0.731,43,1\\r\\n2,112,75,32,0,35.7,0.148,21,0\\r\\n1,157,72,21,168,25.6,0.123,24,0\\r\\n1,122,64,32,156,35.1,0.692,30,1\\r\\n10,179,70,0,0,35.1,0.2,37,0\\r\\n2,102,86,36,120,45.5,0.127,23,1\\r\\n6,105,70,32,68,30.8,0.122,37,0\\r\\n8,118,72,19,0,23.1,1.476,46,0\\r\\n2,87,58,16,52,32.7,0.166,25,0\\r\\n1,180,0,0,0,43.3,0.282,41,1\\r\\n12,106,80,0,0,23.6,0.137,44,0\\r\\n1,95,60,18,58,23.9,0.26,22,0\\r\\n0,165,76,43,255,47.9,0.259,26,0\\r\\n0,117,0,0,0,33.8,0.932,44,0\\r\\n5,115,76,0,0,31.2,0.343,44,1\\r\\n9,152,78,34,171,34.2,0.893,33,1\\r\\n7,178,84,0,0,39.9,0.331,41,1\\r\\n1,130,70,13,105,25.9,0.472,22,0\\r\\n1,95,74,21,73,25.9,0.673,36,0\\r\\n1,0,68,35,0,32,0.389,22,0\\r\\n5,122,86,0,0,34.7,0.29,33,0\\r\\n8,95,72,0,0,36.8,0.485,57,0\\r\\n8,126,88,36,108,38.5,0.349,49,0\\r\\n1,139,46,19,83,28.7,0.654,22,0\\r\\n3,116,0,0,0,23.5,0.187,23,0\\r\\n3,99,62,19,74,21.8,0.279,26,0\\r\\n5,0,80,32,0,41,0.346,37,1\\r\\n4,92,80,0,0,42.2,0.237,29,0\\r\\n4,137,84,0,0,31.2,0.252,30,0\\r\\n3,61,82,28,0,34.4,0.243,46,0\\r\\n1,90,62,12,43,27.2,0.58,24,0\\r\\n3,90,78,0,0,42.7,0.559,21,0\\r\\n9,165,88,0,0,30.4,0.302,49,1\\r\\n1,125,50,40,167,33.3,0.962,28,1\\r\\n13,129,0,30,0,39.9,0.569,44,1\\r\\n12,88,74,40,54,35.3,0.378,48,0\\r\\n1,196,76,36,249,36.5,0.875,29,1\\r\\n5,189,64,33,325,31.2,0.583,29,1\\r\\n5,158,70,0,0,29.8,0.207,63,0\\r\\n5,103,108,37,0,39.2,0.305,65,0\\r\\n4,146,78,0,0,38.5,0.52,67,1\\r\\n4,147,74,25,293,34.9,0.385,30,0\\r\\n5,99,54,28,83,34,0.499,30,0\\r\\n6,124,72,0,0,27.6,0.368,29,1\\r\\n0,101,64,17,0,21,0.252,21,0\\r\\n3,81,86,16,66,27.5,0.306,22,0\\r\\n1,133,102,28,140,32.8,0.234,45,1\\r\\n3,173,82,48,465,38.4,2.137,25,1\\r\\n0,118,64,23,89,0,1.731,21,0\\r\\n0,84,64,22,66,35.8,0.545,21,0\\r\\n2,105,58,40,94,34.9,0.225,25,0\\r\\n2,122,52,43,158,36.2,0.816,28,0\\r\\n12,140,82,43,325,39.2,0.528,58,1\\r\\n0,98,82,15,84,25.2,0.299,22,0\\r\\n1,87,60,37,75,37.2,0.509,22,0\\r\\n4,156,75,0,0,48.3,0.238,32,1\\r\\n0,93,100,39,72,43.4,1.021,35,0\\r\\n1,107,72,30,82,30.8,0.821,24,0\\r\\n0,105,68,22,0,20,0.236,22,0\\r\\n1,109,60,8,182,25.4,0.947,21,0\\r\\n1,90,62,18,59,25.1,1.268,25,0\\r\\n1,125,70,24,110,24.3,0.221,25,0\\r\\n1,119,54,13,50,22.3,0.205,24,0\\r\\n5,116,74,29,0,32.3,0.66,35,1\\r\\n8,105,100,36,0,43.3,0.239,45,1\\r\\n5,144,82,26,285,32,0.452,58,1\\r\\n3,100,68,23,81,31.6,0.949,28,0\\r\\n1,100,66,29,196,32,0.444,42,0\\r\\n5,166,76,0,0,45.7,0.34,27,1\\r\\n1,131,64,14,415,23.7,0.389,21,0\\r\\n4,116,72,12,87,22.1,0.463,37,0\\r\\n4,158,78,0,0,32.9,0.803,31,1\\r\\n2,127,58,24,275,27.7,1.6,25,0\\r\\n3,96,56,34,115,24.7,0.944,39,0\\r\\n0,131,66,40,0,34.3,0.196,22,1\\r\\n3,82,70,0,0,21.1,0.389,25,0\\r\\n3,193,70,31,0,34.9,0.241,25,1\\r\\n4,95,64,0,0,32,0.161,31,1\\r\\n6,137,61,0,0,24.2,0.151,55,0\\r\\n5,136,84,41,88,35,0.286,35,1\\r\\n9,72,78,25,0,31.6,0.28,38,0\\r\\n5,168,64,0,0,32.9,0.135,41,1\\r\\n2,123,48,32,165,42.1,0.52,26,0\\r\\n4,115,72,0,0,28.9,0.376,46,1\\r\\n0,101,62,0,0,21.9,0.336,25,0\\r\\n8,197,74,0,0,25.9,1.191,39,1\\r\\n1,172,68,49,579,42.4,0.702,28,1\\r\\n6,102,90,39,0,35.7,0.674,28,0\\r\\n1,112,72,30,176,34.4,0.528,25,0\\r\\n1,143,84,23,310,42.4,1.076,22,0\\r\\n1,143,74,22,61,26.2,0.256,21,0\\r\\n0,138,60,35,167,34.6,0.534,21,1\\r\\n3,173,84,33,474,35.7,0.258,22,1\\r\\n1,97,68,21,0,27.2,1.095,22,0\\r\\n4,144,82,32,0,38.5,0.554,37,1\\r\\n1,83,68,0,0,18.2,0.624,27,0\\r\\n3,129,64,29,115,26.4,0.219,28,1\\r\\n1,119,88,41,170,45.3,0.507,26,0\\r\\n2,94,68,18,76,26,0.561,21,0\\r\\n0,102,64,46,78,40.6,0.496,21,0\\r\\n2,115,64,22,0,30.8,0.421,21,0\\r\\n8,151,78,32,210,42.9,0.516,36,1\\r\\n4,184,78,39,277,37,0.264,31,1\\r\\n0,94,0,0,0,0,0.256,25,0\\r\\n1,181,64,30,180,34.1,0.328,38,1\\r\\n0,135,94,46,145,40.6,0.284,26,0\\r\\n1,95,82,25,180,35,0.233,43,1\\r\\n2,99,0,0,0,22.2,0.108,23,0\\r\\n3,89,74,16,85,30.4,0.551,38,0\\r\\n1,80,74,11,60,30,0.527,22,0\\r\\n2,139,75,0,0,25.6,0.167,29,0\\r\\n1,90,68,8,0,24.5,1.138,36,0\\r\\n0,141,0,0,0,42.4,0.205,29,1\\r\\n12,140,85,33,0,37.4,0.244,41,0\\r\\n5,147,75,0,0,29.9,0.434,28,0\\r\\n1,97,70,15,0,18.2,0.147,21,0\\r\\n6,107,88,0,0,36.8,0.727,31,0\\r\\n0,189,104,25,0,34.3,0.435,41,1\\r\\n2,83,66,23,50,32.2,0.497,22,0\\r\\n4,117,64,27,120,33.2,0.23,24,0\\r\\n8,108,70,0,0,30.5,0.955,33,1\\r\\n4,117,62,12,0,29.7,0.38,30,1\\r\\n0,180,78,63,14,59.4,2.42,25,1\\r\\n1,100,72,12,70,25.3,0.658,28,0\\r\\n0,95,80,45,92,36.5,0.33,26,0\\r\\n0,104,64,37,64,33.6,0.51,22,1\\r\\n0,120,74,18,63,30.5,0.285,26,0\\r\\n1,82,64,13,95,21.2,0.415,23,0\\r\\n2,134,70,0,0,28.9,0.542,23,1\\r\\n0,91,68,32,210,39.9,0.381,25,0\\r\\n2,119,0,0,0,19.6,0.832,72,0\\r\\n2,100,54,28,105,37.8,0.498,24,0\\r\\n14,175,62,30,0,33.6,0.212,38,1\\r\\n1,135,54,0,0,26.7,0.687,62,0\\r\\n5,86,68,28,71,30.2,0.364,24,0\\r\\n10,148,84,48,237,37.6,1.001,51,1\\r\\n9,134,74,33,60,25.9,0.46,81,0\\r\\n9,120,72,22,56,20.8,0.733,48,0\\r\\n1,71,62,0,0,21.8,0.416,26,0\\r\\n8,74,70,40,49,35.3,0.705,39,0\\r\\n5,88,78,30,0,27.6,0.258,37,0\\r\\n10,115,98,0,0,24,1.022,34,0\\r\\n0,124,56,13,105,21.8,0.452,21,0\\r\\n0,74,52,10,36,27.8,0.269,22,0\\r\\n0,97,64,36,100,36.8,0.6,25,0\\r\\n8,120,0,0,0,30,0.183,38,1\\r\\n6,154,78,41,140,46.1,0.571,27,0\\r\\n1,144,82,40,0,41.3,0.607,28,0\\r\\n0,137,70,38,0,33.2,0.17,22,0\\r\\n0,119,66,27,0,38.8,0.259,22,0\\r\\n7,136,90,0,0,29.9,0.21,50,0\\r\\n4,114,64,0,0,28.9,0.126,24,0\\r\\n0,137,84,27,0,27.3,0.231,59,0\\r\\n2,105,80,45,191,33.7,0.711,29,1\\r\\n7,114,76,17,110,23.8,0.466,31,0\\r\\n8,126,74,38,75,25.9,0.162,39,0\\r\\n4,132,86,31,0,28,0.419,63,0\\r\\n3,158,70,30,328,35.5,0.344,35,1\\r\\n0,123,88,37,0,35.2,0.197,29,0\\r\\n4,85,58,22,49,27.8,0.306,28,0\\r\\n0,84,82,31,125,38.2,0.233,23,0\\r\\n0,145,0,0,0,44.2,0.63,31,1\\r\\n0,135,68,42,250,42.3,0.365,24,1\\r\\n1,139,62,41,480,40.7,0.536,21,0\\r\\n0,173,78,32,265,46.5,1.159,58,0\\r\\n4,99,72,17,0,25.6,0.294,28,0\\r\\n8,194,80,0,0,26.1,0.551,67,0\\r\\n2,83,65,28,66,36.8,0.629,24,0\\r\\n2,89,90,30,0,33.5,0.292,42,0\\r\\n4,99,68,38,0,32.8,0.145,33,0\\r\\n4,125,70,18,122,28.9,1.144,45,1\\r\\n3,80,0,0,0,0,0.174,22,0\\r\\n6,166,74,0,0,26.6,0.304,66,0\\r\\n5,110,68,0,0,26,0.292,30,0\\r\\n2,81,72,15,76,30.1,0.547,25,0\\r\\n7,195,70,33,145,25.1,0.163,55,1\\r\\n6,154,74,32,193,29.3,0.839,39,0\\r\\n2,117,90,19,71,25.2,0.313,21,0\\r\\n3,84,72,32,0,37.2,0.267,28,0\\r\\n6,0,68,41,0,39,0.727,41,1\\r\\n7,94,64,25,79,33.3,0.738,41,0\\r\\n3,96,78,39,0,37.3,0.238,40,0\\r\\n10,75,82,0,0,33.3,0.263,38,0\\r\\n0,180,90,26,90,36.5,0.314,35,1\\r\\n1,130,60,23,170,28.6,0.692,21,0\\r\\n2,84,50,23,76,30.4,0.968,21,0\\r\\n8,120,78,0,0,25,0.409,64,0\\r\\n12,84,72,31,0,29.7,0.297,46,1\\r\\n0,139,62,17,210,22.1,0.207,21,0\\r\\n9,91,68,0,0,24.2,0.2,58,0\\r\\n2,91,62,0,0,27.3,0.525,22,0\\r\\n3,99,54,19,86,25.6,0.154,24,0\\r\\n3,163,70,18,105,31.6,0.268,28,1\\r\\n9,145,88,34,165,30.3,0.771,53,1\\r\\n7,125,86,0,0,37.6,0.304,51,0\\r\\n13,76,60,0,0,32.8,0.18,41,0\\r\\n6,129,90,7,326,19.6,0.582,60,0\\r\\n2,68,70,32,66,25,0.187,25,0\\r\\n3,124,80,33,130,33.2,0.305,26,0\\r\\n6,114,0,0,0,0,0.189,26,0\\r\\n9,130,70,0,0,34.2,0.652,45,1\\r\\n3,125,58,0,0,31.6,0.151,24,0\\r\\n3,87,60,18,0,21.8,0.444,21,0\\r\\n1,97,64,19,82,18.2,0.299,21,0\\r\\n3,116,74,15,105,26.3,0.107,24,0\\r\\n0,117,66,31,188,30.8,0.493,22,0\\r\\n0,111,65,0,0,24.6,0.66,31,0\\r\\n2,122,60,18,106,29.8,0.717,22,0\\r\\n0,107,76,0,0,45.3,0.686,24,0\\r\\n1,86,66,52,65,41.3,0.917,29,0\\r\\n6,91,0,0,0,29.8,0.501,31,0\\r\\n1,77,56,30,56,33.3,1.251,24,0\\r\\n4,132,0,0,0,32.9,0.302,23,1\\r\\n0,105,90,0,0,29.6,0.197,46,0\\r\\n0,57,60,0,0,21.7,0.735,67,0\\r\\n0,127,80,37,210,36.3,0.804,23,0\\r\\n3,129,92,49,155,36.4,0.968,32,1\\r\\n8,100,74,40,215,39.4,0.661,43,1\\r\\n3,128,72,25,190,32.4,0.549,27,1\\r\\n10,90,85,32,0,34.9,0.825,56,1\\r\\n4,84,90,23,56,39.5,0.159,25,0\\r\\n1,88,78,29,76,32,0.365,29,0\\r\\n8,186,90,35,225,34.5,0.423,37,1\\r\\n5,187,76,27,207,43.6,1.034,53,1\\r\\n4,131,68,21,166,33.1,0.16,28,0\\r\\n1,164,82,43,67,32.8,0.341,50,0\\r\\n4,189,110,31,0,28.5,0.68,37,0\\r\\n1,116,70,28,0,27.4,0.204,21,0\\r\\n3,84,68,30,106,31.9,0.591,25,0\\r\\n6,114,88,0,0,27.8,0.247,66,0\\r\\n1,88,62,24,44,29.9,0.422,23,0\\r\\n1,84,64,23,115,36.9,0.471,28,0\\r\\n7,124,70,33,215,25.5,0.161,37,0\\r\\n1,97,70,40,0,38.1,0.218,30,0\\r\\n8,110,76,0,0,27.8,0.237,58,0\\r\\n11,103,68,40,0,46.2,0.126,42,0\\r\\n11,85,74,0,0,30.1,0.3,35,0\\r\\n6,125,76,0,0,33.8,0.121,54,1\\r\\n0,198,66,32,274,41.3,0.502,28,1\\r\\n1,87,68,34,77,37.6,0.401,24,0\\r\\n6,99,60,19,54,26.9,0.497,32,0\\r\\n0,91,80,0,0,32.4,0.601,27,0\\r\\n2,95,54,14,88,26.1,0.748,22,0\\r\\n1,99,72,30,18,38.6,0.412,21,0\\r\\n6,92,62,32,126,32,0.085,46,0\\r\\n4,154,72,29,126,31.3,0.338,37,0\\r\\n0,121,66,30,165,34.3,0.203,33,1\\r\\n3,78,70,0,0,32.5,0.27,39,0\\r\\n2,130,96,0,0,22.6,0.268,21,0\\r\\n3,111,58,31,44,29.5,0.43,22,0\\r\\n2,98,60,17,120,34.7,0.198,22,0\\r\\n1,143,86,30,330,30.1,0.892,23,0\\r\\n1,119,44,47,63,35.5,0.28,25,0\\r\\n6,108,44,20,130,24,0.813,35,0\\r\\n2,118,80,0,0,42.9,0.693,21,1\\r\\n10,133,68,0,0,27,0.245,36,0\\r\\n2,197,70,99,0,34.7,0.575,62,1\\r\\n0,151,90,46,0,42.1,0.371,21,1\\r\\n6,109,60,27,0,25,0.206,27,0\\r\\n12,121,78,17,0,26.5,0.259,62,0\\r\\n8,100,76,0,0,38.7,0.19,42,0\\r\\n8,124,76,24,600,28.7,0.687,52,1\\r\\n1,93,56,11,0,22.5,0.417,22,0\\r\\n8,143,66,0,0,34.9,0.129,41,1\\r\\n6,103,66,0,0,24.3,0.249,29,0\\r\\n3,176,86,27,156,33.3,1.154,52,1\\r\\n0,73,0,0,0,21.1,0.342,25,0\\r\\n11,111,84,40,0,46.8,0.925,45,1\\r\\n2,112,78,50,140,39.4,0.175,24,0\\r\\n3,132,80,0,0,34.4,0.402,44,1\\r\\n2,82,52,22,115,28.5,1.699,25,0\\r\\n6,123,72,45,230,33.6,0.733,34,0\\r\\n0,188,82,14,185,32,0.682,22,1\\r\\n0,67,76,0,0,45.3,0.194,46,0\\r\\n1,89,24,19,25,27.8,0.559,21,0\\r\\n1,173,74,0,0,36.8,0.088,38,1\\r\\n1,109,38,18,120,23.1,0.407,26,0\\r\\n1,108,88,19,0,27.1,0.4,24,0\\r\\n6,96,0,0,0,23.7,0.19,28,0\\r\\n1,124,74,36,0,27.8,0.1,30,0\\r\\n7,150,78,29,126,35.2,0.692,54,1\\r\\n4,183,0,0,0,28.4,0.212,36,1\\r\\n1,124,60,32,0,35.8,0.514,21,0\\r\\n1,181,78,42,293,40,1.258,22,1\\r\\n1,92,62,25,41,19.5,0.482,25,0\\r\\n0,152,82,39,272,41.5,0.27,27,0\\r\\n1,111,62,13,182,24,0.138,23,0\\r\\n3,106,54,21,158,30.9,0.292,24,0\\r\\n3,174,58,22,194,32.9,0.593,36,1\\r\\n7,168,88,42,321,38.2,0.787,40,1\\r\\n6,105,80,28,0,32.5,0.878,26,0\\r\\n11,138,74,26,144,36.1,0.557,50,1\\r\\n3,106,72,0,0,25.8,0.207,27,0\\r\\n6,117,96,0,0,28.7,0.157,30,0\\r\\n2,68,62,13,15,20.1,0.257,23,0\\r\\n9,112,82,24,0,28.2,1.282,50,1\\r\\n0,119,0,0,0,32.4,0.141,24,1\\r\\n2,112,86,42,160,38.4,0.246,28,0\\r\\n2,92,76,20,0,24.2,1.698,28,0\\r\\n6,183,94,0,0,40.8,1.461,45,0\\r\\n0,94,70,27,115,43.5,0.347,21,0\\r\\n2,108,64,0,0,30.8,0.158,21,0\\r\\n4,90,88,47,54,37.7,0.362,29,0\\r\\n0,125,68,0,0,24.7,0.206,21,0\\r\\n0,132,78,0,0,32.4,0.393,21,0\\r\\n5,128,80,0,0,34.6,0.144,45,0\\r\\n4,94,65,22,0,24.7,0.148,21,0\\r\\n7,114,64,0,0,27.4,0.732,34,1\\r\\n0,102,78,40,90,34.5,0.238,24,0\\r\\n2,111,60,0,0,26.2,0.343,23,0\\r\\n1,128,82,17,183,27.5,0.115,22,0\\r\\n10,92,62,0,0,25.9,0.167,31,0\\r\\n13,104,72,0,0,31.2,0.465,38,1\\r\\n5,104,74,0,0,28.8,0.153,48,0\\r\\n2,94,76,18,66,31.6,0.649,23,0\\r\\n7,97,76,32,91,40.9,0.871,32,1\\r\\n1,100,74,12,46,19.5,0.149,28,0\\r\\n0,102,86,17,105,29.3,0.695,27,0\\r\\n4,128,70,0,0,34.3,0.303,24,0\\r\\n6,147,80,0,0,29.5,0.178,50,1\\r\\n4,90,0,0,0,28,0.61,31,0\\r\\n3,103,72,30,152,27.6,0.73,27,0\\r\\n2,157,74,35,440,39.4,0.134,30,0\\r\\n1,167,74,17,144,23.4,0.447,33,1\\r\\n0,179,50,36,159,37.8,0.455,22,1\\r\\n11,136,84,35,130,28.3,0.26,42,1\\r\\n0,107,60,25,0,26.4,0.133,23,0\\r\\n1,91,54,25,100,25.2,0.234,23,0\\r\\n1,117,60,23,106,33.8,0.466,27,0\\r\\n5,123,74,40,77,34.1,0.269,28,0\\r\\n2,120,54,0,0,26.8,0.455,27,0\\r\\n1,106,70,28,135,34.2,0.142,22,0\\r\\n2,155,52,27,540,38.7,0.24,25,1\\r\\n2,101,58,35,90,21.8,0.155,22,0\\r\\n1,120,80,48,200,38.9,1.162,41,0\\r\\n11,127,106,0,0,39,0.19,51,0\\r\\n3,80,82,31,70,34.2,1.292,27,1\\r\\n10,162,84,0,0,27.7,0.182,54,0\\r\\n1,199,76,43,0,42.9,1.394,22,1\\r\\n8,167,106,46,231,37.6,0.165,43,1\\r\\n9,145,80,46,130,37.9,0.637,40,1\\r\\n6,115,60,39,0,33.7,0.245,40,1\\r\\n1,112,80,45,132,34.8,0.217,24,0\\r\\n4,145,82,18,0,32.5,0.235,70,1\\r\\n10,111,70,27,0,27.5,0.141,40,1\\r\\n6,98,58,33,190,34,0.43,43,0\\r\\n9,154,78,30,100,30.9,0.164,45,0\\r\\n6,165,68,26,168,33.6,0.631,49,0\\r\\n1,99,58,10,0,25.4,0.551,21,0\\r\\n10,68,106,23,49,35.5,0.285,47,0\\r\\n3,123,100,35,240,57.3,0.88,22,0\\r\\n8,91,82,0,0,35.6,0.587,68,0\\r\\n6,195,70,0,0,30.9,0.328,31,1\\r\\n9,156,86,0,0,24.8,0.23,53,1\\r\\n0,93,60,0,0,35.3,0.263,25,0\\r\\n3,121,52,0,0,36,0.127,25,1\\r\\n2,101,58,17,265,24.2,0.614,23,0\\r\\n2,56,56,28,45,24.2,0.332,22,0\\r\\n0,162,76,36,0,49.6,0.364,26,1\\r\\n0,95,64,39,105,44.6,0.366,22,0\\r\\n4,125,80,0,0,32.3,0.536,27,1\\r\\n5,136,82,0,0,0,0.64,69,0\\r\\n2,129,74,26,205,33.2,0.591,25,0\\r\\n3,130,64,0,0,23.1,0.314,22,0\\r\\n1,107,50,19,0,28.3,0.181,29,0\\r\\n1,140,74,26,180,24.1,0.828,23,0\\r\\n1,144,82,46,180,46.1,0.335,46,1\\r\\n8,107,80,0,0,24.6,0.856,34,0\\r\\n13,158,114,0,0,42.3,0.257,44,1\\r\\n2,121,70,32,95,39.1,0.886,23,0\\r\\n7,129,68,49,125,38.5,0.439,43,1\\r\\n2,90,60,0,0,23.5,0.191,25,0\\r\\n7,142,90,24,480,30.4,0.128,43,1\\r\\n3,169,74,19,125,29.9,0.268,31,1\\r\\n0,99,0,0,0,25,0.253,22,0\\r\\n4,127,88,11,155,34.5,0.598,28,0\\r\\n4,118,70,0,0,44.5,0.904,26,0\\r\\n2,122,76,27,200,35.9,0.483,26,0\\r\\n6,125,78,31,0,27.6,0.565,49,1\\r\\n1,168,88,29,0,35,0.905,52,1\\r\\n2,129,0,0,0,38.5,0.304,41,0\\r\\n4,110,76,20,100,28.4,0.118,27,0\\r\\n6,80,80,36,0,39.8,0.177,28,0\\r\\n10,115,0,0,0,0,0.261,30,1\\r\\n2,127,46,21,335,34.4,0.176,22,0\\r\\n9,164,78,0,0,32.8,0.148,45,1\\r\\n2,93,64,32,160,38,0.674,23,1\\r\\n3,158,64,13,387,31.2,0.295,24,0\\r\\n5,126,78,27,22,29.6,0.439,40,0\\r\\n10,129,62,36,0,41.2,0.441,38,1\\r\\n0,134,58,20,291,26.4,0.352,21,0\\r\\n3,102,74,0,0,29.5,0.121,32,0\\r\\n7,187,50,33,392,33.9,0.826,34,1\\r\\n3,173,78,39,185,33.8,0.97,31,1\\r\\n10,94,72,18,0,23.1,0.595,56,0\\r\\n1,108,60,46,178,35.5,0.415,24,0\\r\\n5,97,76,27,0,35.6,0.378,52,1\\r\\n4,83,86,19,0,29.3,0.317,34,0\\r\\n1,114,66,36,200,38.1,0.289,21,0\\r\\n1,149,68,29,127,29.3,0.349,42,1\\r\\n5,117,86,30,105,39.1,0.251,42,0\\r\\n1,111,94,0,0,32.8,0.265,45,0\\r\\n4,112,78,40,0,39.4,0.236,38,0\\r\\n1,116,78,29,180,36.1,0.496,25,0\\r\\n0,141,84,26,0,32.4,0.433,22,0\\r\\n2,175,88,0,0,22.9,0.326,22,0\\r\\n2,92,52,0,0,30.1,0.141,22,0\\r\\n3,130,78,23,79,28.4,0.323,34,1\\r\\n8,120,86,0,0,28.4,0.259,22,1\\r\\n2,174,88,37,120,44.5,0.646,24,1\\r\\n2,106,56,27,165,29,0.426,22,0\\r\\n2,105,75,0,0,23.3,0.56,53,0\\r\\n4,95,60,32,0,35.4,0.284,28,0\\r\\n0,126,86,27,120,27.4,0.515,21,0\\r\\n8,65,72,23,0,32,0.6,42,0\\r\\n2,99,60,17,160,36.6,0.453,21,0\\r\\n1,102,74,0,0,39.5,0.293,42,1\\r\\n11,120,80,37,150,42.3,0.785,48,1\\r\\n3,102,44,20,94,30.8,0.4,26,0\\r\\n1,109,58,18,116,28.5,0.219,22,0\\r\\n9,140,94,0,0,32.7,0.734,45,1\\r\\n13,153,88,37,140,40.6,1.174,39,0\\r\\n12,100,84,33,105,30,0.488,46,0\\r\\n1,147,94,41,0,49.3,0.358,27,1\\r\\n1,81,74,41,57,46.3,1.096,32,0\\r\\n3,187,70,22,200,36.4,0.408,36,1\\r\\n6,162,62,0,0,24.3,0.178,50,1\\r\\n4,136,70,0,0,31.2,1.182,22,1\\r\\n1,121,78,39,74,39,0.261,28,0\\r\\n3,108,62,24,0,26,0.223,25,0\\r\\n0,181,88,44,510,43.3,0.222,26,1\\r\\n8,154,78,32,0,32.4,0.443,45,1\\r\\n1,128,88,39,110,36.5,1.057,37,1\\r\\n7,137,90,41,0,32,0.391,39,0\\r\\n0,123,72,0,0,36.3,0.258,52,1\\r\\n1,106,76,0,0,37.5,0.197,26,0\\r\\n6,190,92,0,0,35.5,0.278,66,1\\r\\n2,88,58,26,16,28.4,0.766,22,0\\r\\n9,170,74,31,0,44,0.403,43,1\\r\\n9,89,62,0,0,22.5,0.142,33,0\\r\\n10,101,76,48,180,32.9,0.171,63,0\\r\\n2,122,70,27,0,36.8,0.34,27,0\\r\\n5,121,72,23,112,26.2,0.245,30,0\\r\\n1,126,60,0,0,30.1,0.349,47,1\\r\\n1,93,70,31,0,30.4,0.315,23,0\\r\\n'}"
            ]
          },
          "metadata": {},
          "execution_count": 12
        }
      ]
    },
    {
      "cell_type": "code",
      "source": [
        "#importing pandas library\n",
        "\n",
        "import pandas as pd"
      ],
      "metadata": {
        "id": "LNjk3AMNpWPs"
      },
      "execution_count": 19,
      "outputs": []
    },
    {
      "cell_type": "code",
      "source": [
        "# creating panda dataframe\n",
        "# importing the diabetics dataset\n",
        "\n",
        "from sklearn.datasets import load_diabetics\n",
        "\n",
        "diabetics_dataset = load_diabetics()"
      ],
      "metadata": {
        "id": "ZuAsAezttYf3"
      },
      "execution_count": null,
      "outputs": []
    },
    {
      "cell_type": "code",
      "source": [
        "# Mount your Google Drive files Following code make mount your google drive\n",
        "from google.colab import drive\n",
        "drive.mount('/content/gdrive')\n",
        "\n",
        "# Now upload the kaggle.json file\n",
        "from google.colab import files\n",
        "files.upload() #this will prompt you to upload the kaggle.json"
      ],
      "metadata": {
        "colab": {
          "base_uri": "https://localhost:8080/",
          "height": 129
        },
        "id": "u5UO35Gmwy9L",
        "outputId": "adbbde67-621f-42fe-e059-8b868f798e6f"
      },
      "execution_count": 24,
      "outputs": [
        {
          "output_type": "stream",
          "name": "stdout",
          "text": [
            "Drive already mounted at /content/gdrive; to attempt to forcibly remount, call drive.mount(\"/content/gdrive\", force_remount=True).\n"
          ]
        },
        {
          "output_type": "display_data",
          "data": {
            "text/plain": [
              "<IPython.core.display.HTML object>"
            ],
            "text/html": [
              "\n",
              "     <input type=\"file\" id=\"files-af81725b-f6de-4082-ab1d-e30f3926ee6e\" name=\"files[]\" multiple disabled\n",
              "        style=\"border:none\" />\n",
              "     <output id=\"result-af81725b-f6de-4082-ab1d-e30f3926ee6e\">\n",
              "      Upload widget is only available when the cell has been executed in the\n",
              "      current browser session. Please rerun this cell to enable.\n",
              "      </output>\n",
              "      <script>// Copyright 2017 Google LLC\n",
              "//\n",
              "// Licensed under the Apache License, Version 2.0 (the \"License\");\n",
              "// you may not use this file except in compliance with the License.\n",
              "// You may obtain a copy of the License at\n",
              "//\n",
              "//      http://www.apache.org/licenses/LICENSE-2.0\n",
              "//\n",
              "// Unless required by applicable law or agreed to in writing, software\n",
              "// distributed under the License is distributed on an \"AS IS\" BASIS,\n",
              "// WITHOUT WARRANTIES OR CONDITIONS OF ANY KIND, either express or implied.\n",
              "// See the License for the specific language governing permissions and\n",
              "// limitations under the License.\n",
              "\n",
              "/**\n",
              " * @fileoverview Helpers for google.colab Python module.\n",
              " */\n",
              "(function(scope) {\n",
              "function span(text, styleAttributes = {}) {\n",
              "  const element = document.createElement('span');\n",
              "  element.textContent = text;\n",
              "  for (const key of Object.keys(styleAttributes)) {\n",
              "    element.style[key] = styleAttributes[key];\n",
              "  }\n",
              "  return element;\n",
              "}\n",
              "\n",
              "// Max number of bytes which will be uploaded at a time.\n",
              "const MAX_PAYLOAD_SIZE = 100 * 1024;\n",
              "\n",
              "function _uploadFiles(inputId, outputId) {\n",
              "  const steps = uploadFilesStep(inputId, outputId);\n",
              "  const outputElement = document.getElementById(outputId);\n",
              "  // Cache steps on the outputElement to make it available for the next call\n",
              "  // to uploadFilesContinue from Python.\n",
              "  outputElement.steps = steps;\n",
              "\n",
              "  return _uploadFilesContinue(outputId);\n",
              "}\n",
              "\n",
              "// This is roughly an async generator (not supported in the browser yet),\n",
              "// where there are multiple asynchronous steps and the Python side is going\n",
              "// to poll for completion of each step.\n",
              "// This uses a Promise to block the python side on completion of each step,\n",
              "// then passes the result of the previous step as the input to the next step.\n",
              "function _uploadFilesContinue(outputId) {\n",
              "  const outputElement = document.getElementById(outputId);\n",
              "  const steps = outputElement.steps;\n",
              "\n",
              "  const next = steps.next(outputElement.lastPromiseValue);\n",
              "  return Promise.resolve(next.value.promise).then((value) => {\n",
              "    // Cache the last promise value to make it available to the next\n",
              "    // step of the generator.\n",
              "    outputElement.lastPromiseValue = value;\n",
              "    return next.value.response;\n",
              "  });\n",
              "}\n",
              "\n",
              "/**\n",
              " * Generator function which is called between each async step of the upload\n",
              " * process.\n",
              " * @param {string} inputId Element ID of the input file picker element.\n",
              " * @param {string} outputId Element ID of the output display.\n",
              " * @return {!Iterable<!Object>} Iterable of next steps.\n",
              " */\n",
              "function* uploadFilesStep(inputId, outputId) {\n",
              "  const inputElement = document.getElementById(inputId);\n",
              "  inputElement.disabled = false;\n",
              "\n",
              "  const outputElement = document.getElementById(outputId);\n",
              "  outputElement.innerHTML = '';\n",
              "\n",
              "  const pickedPromise = new Promise((resolve) => {\n",
              "    inputElement.addEventListener('change', (e) => {\n",
              "      resolve(e.target.files);\n",
              "    });\n",
              "  });\n",
              "\n",
              "  const cancel = document.createElement('button');\n",
              "  inputElement.parentElement.appendChild(cancel);\n",
              "  cancel.textContent = 'Cancel upload';\n",
              "  const cancelPromise = new Promise((resolve) => {\n",
              "    cancel.onclick = () => {\n",
              "      resolve(null);\n",
              "    };\n",
              "  });\n",
              "\n",
              "  // Wait for the user to pick the files.\n",
              "  const files = yield {\n",
              "    promise: Promise.race([pickedPromise, cancelPromise]),\n",
              "    response: {\n",
              "      action: 'starting',\n",
              "    }\n",
              "  };\n",
              "\n",
              "  cancel.remove();\n",
              "\n",
              "  // Disable the input element since further picks are not allowed.\n",
              "  inputElement.disabled = true;\n",
              "\n",
              "  if (!files) {\n",
              "    return {\n",
              "      response: {\n",
              "        action: 'complete',\n",
              "      }\n",
              "    };\n",
              "  }\n",
              "\n",
              "  for (const file of files) {\n",
              "    const li = document.createElement('li');\n",
              "    li.append(span(file.name, {fontWeight: 'bold'}));\n",
              "    li.append(span(\n",
              "        `(${file.type || 'n/a'}) - ${file.size} bytes, ` +\n",
              "        `last modified: ${\n",
              "            file.lastModifiedDate ? file.lastModifiedDate.toLocaleDateString() :\n",
              "                                    'n/a'} - `));\n",
              "    const percent = span('0% done');\n",
              "    li.appendChild(percent);\n",
              "\n",
              "    outputElement.appendChild(li);\n",
              "\n",
              "    const fileDataPromise = new Promise((resolve) => {\n",
              "      const reader = new FileReader();\n",
              "      reader.onload = (e) => {\n",
              "        resolve(e.target.result);\n",
              "      };\n",
              "      reader.readAsArrayBuffer(file);\n",
              "    });\n",
              "    // Wait for the data to be ready.\n",
              "    let fileData = yield {\n",
              "      promise: fileDataPromise,\n",
              "      response: {\n",
              "        action: 'continue',\n",
              "      }\n",
              "    };\n",
              "\n",
              "    // Use a chunked sending to avoid message size limits. See b/62115660.\n",
              "    let position = 0;\n",
              "    do {\n",
              "      const length = Math.min(fileData.byteLength - position, MAX_PAYLOAD_SIZE);\n",
              "      const chunk = new Uint8Array(fileData, position, length);\n",
              "      position += length;\n",
              "\n",
              "      const base64 = btoa(String.fromCharCode.apply(null, chunk));\n",
              "      yield {\n",
              "        response: {\n",
              "          action: 'append',\n",
              "          file: file.name,\n",
              "          data: base64,\n",
              "        },\n",
              "      };\n",
              "\n",
              "      let percentDone = fileData.byteLength === 0 ?\n",
              "          100 :\n",
              "          Math.round((position / fileData.byteLength) * 100);\n",
              "      percent.textContent = `${percentDone}% done`;\n",
              "\n",
              "    } while (position < fileData.byteLength);\n",
              "  }\n",
              "\n",
              "  // All done.\n",
              "  yield {\n",
              "    response: {\n",
              "      action: 'complete',\n",
              "    }\n",
              "  };\n",
              "}\n",
              "\n",
              "scope.google = scope.google || {};\n",
              "scope.google.colab = scope.google.colab || {};\n",
              "scope.google.colab._files = {\n",
              "  _uploadFiles,\n",
              "  _uploadFilesContinue,\n",
              "};\n",
              "})(self);\n",
              "</script> "
            ]
          },
          "metadata": {}
        },
        {
          "output_type": "stream",
          "name": "stdout",
          "text": [
            "Saving kaggle.json to kaggle.json\n"
          ]
        },
        {
          "output_type": "execute_result",
          "data": {
            "text/plain": [
              "{'kaggle.json': b'{\"username\":\"kehindeolatunji\",\"key\":\"c5795061b9d1a708d842dc58c358ac9b\"}'}"
            ]
          },
          "metadata": {},
          "execution_count": 24
        }
      ]
    },
    {
      "cell_type": "code",
      "source": [
        "# make sure kaggle.json file is present\n",
        "!ls -lha kaggle.json"
      ],
      "metadata": {
        "colab": {
          "base_uri": "https://localhost:8080/"
        },
        "id": "nZaUL1SKxCqy",
        "outputId": "c9ad6ac0-4c07-43f3-d90d-cd2daf4f2630"
      },
      "execution_count": 25,
      "outputs": [
        {
          "output_type": "stream",
          "name": "stdout",
          "text": [
            "-rw-r--r-- 1 root root 71 Feb  2 10:54 kaggle.json\n"
          ]
        }
      ]
    },
    {
      "cell_type": "code",
      "source": [
        "# Install kaggle API client\n",
        "!pip install -q kaggle"
      ],
      "metadata": {
        "id": "iEQWR3C-xMRG"
      },
      "execution_count": 26,
      "outputs": []
    },
    {
      "cell_type": "code",
      "source": [
        "# kaggle API client expects the file to be in ~/.kaggle so move it there\n",
        "\n",
        "!mkdir -p ~/.kaggle\n",
        "!cp kaggle.json ~/.kaggle/"
      ],
      "metadata": {
        "id": "YnvPueGhxYON"
      },
      "execution_count": 29,
      "outputs": []
    },
    {
      "cell_type": "code",
      "source": [
        "# we need to set permissions\n",
        "!chmod 600 /root/.kaggle/kaggle.json"
      ],
      "metadata": {
        "id": "L2BlZ_83xq_4"
      },
      "execution_count": 30,
      "outputs": []
    },
    {
      "cell_type": "code",
      "source": [
        "# check your directory before downloading the datasets\n",
        "!pwd"
      ],
      "metadata": {
        "colab": {
          "base_uri": "https://localhost:8080/"
        },
        "id": "7mTQerv-x7ZY",
        "outputId": "fd3a65da-6d68-4a95-9871-c2a9737d3d53"
      },
      "execution_count": 31,
      "outputs": [
        {
          "output_type": "stream",
          "name": "stdout",
          "text": [
            "/content\n"
          ]
        }
      ]
    },
    {
      "cell_type": "code",
      "source": [
        "# list all available datasets\n",
        "!kaggle datasets list"
      ],
      "metadata": {
        "colab": {
          "base_uri": "https://localhost:8080/"
        },
        "id": "kNgoFZJ6yEKp",
        "outputId": "cd0b39ea-99f0-4ae7-c10f-28f4b561b74e"
      },
      "execution_count": 32,
      "outputs": [
        {
          "output_type": "stream",
          "name": "stdout",
          "text": [
            "ref                                                              title                                                size  lastUpdated          downloadCount  voteCount  usabilityRating  \n",
            "---------------------------------------------------------------  --------------------------------------------------  -----  -------------------  -------------  ---------  ---------------  \n",
            "ahsan81/hotel-reservations-classification-dataset                Hotel Reservations Dataset                          480KB  2023-01-04 12:50:31           7311        260  1.0              \n",
            "themrityunjaypathak/most-subscribed-1000-youtube-channels        Most Subscribed 1000 Youtube Channels                28KB  2023-01-21 14:42:05           1362         51  1.0              \n",
            "senapatirajesh/netflix-tv-shows-and-movies                       Latest Netflix TV shows and movies                    1MB  2023-01-14 17:03:12           2736         72  0.9411765        \n",
            "ulrikthygepedersen/online-retail-dataset                         Online Retail Dataset                                 7MB  2023-01-20 13:50:59            992         27  1.0              \n",
            "yanmaksi/big-startup-secsees-fail-dataset-from-crunchbase        🚀Startup Success/Fail Dataset from Crunchbase         3MB  2023-01-22 19:14:28            925         33  1.0              \n",
            "yashwanthkumarmn/motorcycles-in-india                            Motorcycles in India                                  9KB  2023-01-14 09:35:13           1118         26  1.0              \n",
            "salimwid/technology-company-layoffs-20222023-data                Technology Company Layoffs (2022-2023)               13KB  2023-01-24 07:07:51           1048         35  1.0              \n",
            "cesaber/spam-email-data-spamassassin-2002                        Spam Email Data original & CSV file (Spamassassin)   12MB  2023-01-24 09:16:05            409         28  1.0              \n",
            "ahbab911/top-250-korean-dramas-kdrama-dataset                    Top 250 Korean Dramas (KDrama) Dataset               90KB  2023-01-21 10:06:24            754         35  1.0              \n",
            "rakkesharv/spotify-top-10000-streamed-songs                      Spotify Top 10000 Streamed Songs                    280KB  2023-01-02 08:17:15           2933         85  1.0              \n",
            "rishikeshkonapure/home-loan-approval                             Home Loan Approval                                   13KB  2023-01-12 06:28:57           2212         52  1.0              \n",
            "themrityunjaypathak/imdb-top-100-movies                          IMDb Top 100 Movies                                   4KB  2023-01-11 17:15:09           1852         52  1.0              \n",
            "ahsan81/job-placement-dataset                                    Job Placement Dataset                                 4KB  2023-01-09 09:58:49           1326         34  1.0              \n",
            "yashsrivastava51213/revenue-and-profit-of-fortune-500-companies  Revenue and Profit of Fortune 500 Companies.        328KB  2023-01-22 05:46:13            573         27  0.88235295       \n",
            "thedevastator/rotten-tomatoes-top-movies-ratings-and-technical   Rotten Tomatoes Top Movies Ratings and Technical    685KB  2023-01-17 09:43:42            867         37  1.0              \n",
            "thedevastator/global-fossil-co2-emissions-by-country-2002-2022   Emissions by Country                                  2MB  2023-01-24 04:24:10           2724         80  1.0              \n",
            "thedevastator/supermarket-ordering-invoicing-and-sales-analysi   Supermarket Ordering, Invoicing, and Sales            4MB  2023-01-15 15:37:10           1088         30  0.9411765        \n",
            "shibumohapatra/customer-life-time-value                          Customer Life Time Value                              2MB  2023-01-23 09:52:06            471         25  1.0              \n",
            "karkavelrajaj/amazon-sales-dataset                               Amazon Sales Dataset                                  2MB  2023-01-17 06:21:15           1593         50  1.0              \n",
            "dansbecker/melbourne-housing-snapshot                            Melbourne Housing Snapshot                          451KB  2018-06-05 12:52:24         105786       1204  0.7058824        \n"
          ]
        }
      ]
    },
    {
      "cell_type": "code",
      "source": [
        "# download the required dataset from kaggle\n",
        "!kaggle datasets download -d karkavelrajaj/amazon-sales-dataset\n",
        "\n"
      ],
      "metadata": {
        "colab": {
          "base_uri": "https://localhost:8080/"
        },
        "id": "S2CWau1TyeU9",
        "outputId": "474b6f62-50ab-495d-c121-3ba7f22aa3ce"
      },
      "execution_count": 35,
      "outputs": [
        {
          "output_type": "stream",
          "name": "stdout",
          "text": [
            "amazon-sales-dataset.zip: Skipping, found more recently modified local copy (use --force to force download)\n"
          ]
        }
      ]
    },
    {
      "cell_type": "code",
      "source": [
        "# If your file is a zip file you can unzip with the following code\n",
        "!unzip amazon-sales-dataset.zip"
      ],
      "metadata": {
        "colab": {
          "base_uri": "https://localhost:8080/"
        },
        "id": "d02BovzpzB9x",
        "outputId": "8f765266-8b04-4f62-df28-1e8c3ac0c2b0"
      },
      "execution_count": 36,
      "outputs": [
        {
          "output_type": "stream",
          "name": "stdout",
          "text": [
            "Archive:  amazon-sales-dataset.zip\n",
            "  inflating: amazon.csv              \n"
          ]
        }
      ]
    },
    {
      "cell_type": "code",
      "source": [
        "import pandas as pd\n",
        "import numpy as np\n",
        "\n"
      ],
      "metadata": {
        "id": "ABM5NXUy0BaS"
      },
      "execution_count": null,
      "outputs": []
    },
    {
      "cell_type": "code",
      "source": [
        "#importing data from local drive\n",
        "\n",
        "from google.colab import files\n",
        "uploaded = files.upload()"
      ],
      "metadata": {
        "colab": {
          "base_uri": "https://localhost:8080/",
          "height": 73
        },
        "id": "wkrGWSpRk3qv",
        "outputId": "2fb7783a-51fc-4e89-e637-5f1fbb43fa13"
      },
      "execution_count": 5,
      "outputs": [
        {
          "output_type": "display_data",
          "data": {
            "text/plain": [
              "<IPython.core.display.HTML object>"
            ],
            "text/html": [
              "\n",
              "     <input type=\"file\" id=\"files-aaf4b03f-12f2-428d-b637-84d934a36704\" name=\"files[]\" multiple disabled\n",
              "        style=\"border:none\" />\n",
              "     <output id=\"result-aaf4b03f-12f2-428d-b637-84d934a36704\">\n",
              "      Upload widget is only available when the cell has been executed in the\n",
              "      current browser session. Please rerun this cell to enable.\n",
              "      </output>\n",
              "      <script>// Copyright 2017 Google LLC\n",
              "//\n",
              "// Licensed under the Apache License, Version 2.0 (the \"License\");\n",
              "// you may not use this file except in compliance with the License.\n",
              "// You may obtain a copy of the License at\n",
              "//\n",
              "//      http://www.apache.org/licenses/LICENSE-2.0\n",
              "//\n",
              "// Unless required by applicable law or agreed to in writing, software\n",
              "// distributed under the License is distributed on an \"AS IS\" BASIS,\n",
              "// WITHOUT WARRANTIES OR CONDITIONS OF ANY KIND, either express or implied.\n",
              "// See the License for the specific language governing permissions and\n",
              "// limitations under the License.\n",
              "\n",
              "/**\n",
              " * @fileoverview Helpers for google.colab Python module.\n",
              " */\n",
              "(function(scope) {\n",
              "function span(text, styleAttributes = {}) {\n",
              "  const element = document.createElement('span');\n",
              "  element.textContent = text;\n",
              "  for (const key of Object.keys(styleAttributes)) {\n",
              "    element.style[key] = styleAttributes[key];\n",
              "  }\n",
              "  return element;\n",
              "}\n",
              "\n",
              "// Max number of bytes which will be uploaded at a time.\n",
              "const MAX_PAYLOAD_SIZE = 100 * 1024;\n",
              "\n",
              "function _uploadFiles(inputId, outputId) {\n",
              "  const steps = uploadFilesStep(inputId, outputId);\n",
              "  const outputElement = document.getElementById(outputId);\n",
              "  // Cache steps on the outputElement to make it available for the next call\n",
              "  // to uploadFilesContinue from Python.\n",
              "  outputElement.steps = steps;\n",
              "\n",
              "  return _uploadFilesContinue(outputId);\n",
              "}\n",
              "\n",
              "// This is roughly an async generator (not supported in the browser yet),\n",
              "// where there are multiple asynchronous steps and the Python side is going\n",
              "// to poll for completion of each step.\n",
              "// This uses a Promise to block the python side on completion of each step,\n",
              "// then passes the result of the previous step as the input to the next step.\n",
              "function _uploadFilesContinue(outputId) {\n",
              "  const outputElement = document.getElementById(outputId);\n",
              "  const steps = outputElement.steps;\n",
              "\n",
              "  const next = steps.next(outputElement.lastPromiseValue);\n",
              "  return Promise.resolve(next.value.promise).then((value) => {\n",
              "    // Cache the last promise value to make it available to the next\n",
              "    // step of the generator.\n",
              "    outputElement.lastPromiseValue = value;\n",
              "    return next.value.response;\n",
              "  });\n",
              "}\n",
              "\n",
              "/**\n",
              " * Generator function which is called between each async step of the upload\n",
              " * process.\n",
              " * @param {string} inputId Element ID of the input file picker element.\n",
              " * @param {string} outputId Element ID of the output display.\n",
              " * @return {!Iterable<!Object>} Iterable of next steps.\n",
              " */\n",
              "function* uploadFilesStep(inputId, outputId) {\n",
              "  const inputElement = document.getElementById(inputId);\n",
              "  inputElement.disabled = false;\n",
              "\n",
              "  const outputElement = document.getElementById(outputId);\n",
              "  outputElement.innerHTML = '';\n",
              "\n",
              "  const pickedPromise = new Promise((resolve) => {\n",
              "    inputElement.addEventListener('change', (e) => {\n",
              "      resolve(e.target.files);\n",
              "    });\n",
              "  });\n",
              "\n",
              "  const cancel = document.createElement('button');\n",
              "  inputElement.parentElement.appendChild(cancel);\n",
              "  cancel.textContent = 'Cancel upload';\n",
              "  const cancelPromise = new Promise((resolve) => {\n",
              "    cancel.onclick = () => {\n",
              "      resolve(null);\n",
              "    };\n",
              "  });\n",
              "\n",
              "  // Wait for the user to pick the files.\n",
              "  const files = yield {\n",
              "    promise: Promise.race([pickedPromise, cancelPromise]),\n",
              "    response: {\n",
              "      action: 'starting',\n",
              "    }\n",
              "  };\n",
              "\n",
              "  cancel.remove();\n",
              "\n",
              "  // Disable the input element since further picks are not allowed.\n",
              "  inputElement.disabled = true;\n",
              "\n",
              "  if (!files) {\n",
              "    return {\n",
              "      response: {\n",
              "        action: 'complete',\n",
              "      }\n",
              "    };\n",
              "  }\n",
              "\n",
              "  for (const file of files) {\n",
              "    const li = document.createElement('li');\n",
              "    li.append(span(file.name, {fontWeight: 'bold'}));\n",
              "    li.append(span(\n",
              "        `(${file.type || 'n/a'}) - ${file.size} bytes, ` +\n",
              "        `last modified: ${\n",
              "            file.lastModifiedDate ? file.lastModifiedDate.toLocaleDateString() :\n",
              "                                    'n/a'} - `));\n",
              "    const percent = span('0% done');\n",
              "    li.appendChild(percent);\n",
              "\n",
              "    outputElement.appendChild(li);\n",
              "\n",
              "    const fileDataPromise = new Promise((resolve) => {\n",
              "      const reader = new FileReader();\n",
              "      reader.onload = (e) => {\n",
              "        resolve(e.target.result);\n",
              "      };\n",
              "      reader.readAsArrayBuffer(file);\n",
              "    });\n",
              "    // Wait for the data to be ready.\n",
              "    let fileData = yield {\n",
              "      promise: fileDataPromise,\n",
              "      response: {\n",
              "        action: 'continue',\n",
              "      }\n",
              "    };\n",
              "\n",
              "    // Use a chunked sending to avoid message size limits. See b/62115660.\n",
              "    let position = 0;\n",
              "    do {\n",
              "      const length = Math.min(fileData.byteLength - position, MAX_PAYLOAD_SIZE);\n",
              "      const chunk = new Uint8Array(fileData, position, length);\n",
              "      position += length;\n",
              "\n",
              "      const base64 = btoa(String.fromCharCode.apply(null, chunk));\n",
              "      yield {\n",
              "        response: {\n",
              "          action: 'append',\n",
              "          file: file.name,\n",
              "          data: base64,\n",
              "        },\n",
              "      };\n",
              "\n",
              "      let percentDone = fileData.byteLength === 0 ?\n",
              "          100 :\n",
              "          Math.round((position / fileData.byteLength) * 100);\n",
              "      percent.textContent = `${percentDone}% done`;\n",
              "\n",
              "    } while (position < fileData.byteLength);\n",
              "  }\n",
              "\n",
              "  // All done.\n",
              "  yield {\n",
              "    response: {\n",
              "      action: 'complete',\n",
              "    }\n",
              "  };\n",
              "}\n",
              "\n",
              "scope.google = scope.google || {};\n",
              "scope.google.colab = scope.google.colab || {};\n",
              "scope.google.colab._files = {\n",
              "  _uploadFiles,\n",
              "  _uploadFilesContinue,\n",
              "};\n",
              "})(self);\n",
              "</script> "
            ]
          },
          "metadata": {}
        },
        {
          "output_type": "stream",
          "name": "stdout",
          "text": [
            "Saving diabetics.csv to diabetics.csv\n"
          ]
        }
      ]
    },
    {
      "cell_type": "code",
      "source": [
        "import io\n",
        "df2 = pd.read_csv(io.BytesIO(uploaded['diabetics.csv']))\n",
        "# Dataset is now stored in a Pandas Dataframe"
      ],
      "metadata": {
        "id": "aBIp_REWmtKH"
      },
      "execution_count": 6,
      "outputs": []
    },
    {
      "cell_type": "code",
      "source": [
        "sp = pd.read_csv(\"diabetics.csv\")\n",
        "\n",
        "print(sp)"
      ],
      "metadata": {
        "colab": {
          "base_uri": "https://localhost:8080/"
        },
        "id": "_w4Ao05pqCcq",
        "outputId": "1f96337f-7edb-4714-86c0-7224971abb0b"
      },
      "execution_count": 16,
      "outputs": [
        {
          "output_type": "stream",
          "name": "stdout",
          "text": [
            "     Pregnancies  Glucose  BloodPressure  SkinThickness  Insulin   BMI  \\\n",
            "0              6      148             72             35        0  33.6   \n",
            "1              1       85             66             29        0  26.6   \n",
            "2              8      183             64              0        0  23.3   \n",
            "3              1       89             66             23       94  28.1   \n",
            "4              0      137             40             35      168  43.1   \n",
            "..           ...      ...            ...            ...      ...   ...   \n",
            "763           10      101             76             48      180  32.9   \n",
            "764            2      122             70             27        0  36.8   \n",
            "765            5      121             72             23      112  26.2   \n",
            "766            1      126             60              0        0  30.1   \n",
            "767            1       93             70             31        0  30.4   \n",
            "\n",
            "     DiabetesPedigreeFunction  Age  Outcome  \n",
            "0                       0.627   50        1  \n",
            "1                       0.351   31        0  \n",
            "2                       0.672   32        1  \n",
            "3                       0.167   21        0  \n",
            "4                       2.288   33        1  \n",
            "..                        ...  ...      ...  \n",
            "763                     0.171   63        0  \n",
            "764                     0.340   27        0  \n",
            "765                     0.245   30        0  \n",
            "766                     0.349   47        1  \n",
            "767                     0.315   23        0  \n",
            "\n",
            "[768 rows x 9 columns]\n"
          ]
        }
      ]
    },
    {
      "cell_type": "code",
      "source": [
        "type(sp)"
      ],
      "metadata": {
        "colab": {
          "base_uri": "https://localhost:8080/"
        },
        "id": "cIU1xR_bynld",
        "outputId": "48c0bbb9-cfbf-47e4-dccb-a898a00f8ba0"
      },
      "execution_count": 25,
      "outputs": [
        {
          "output_type": "execute_result",
          "data": {
            "text/plain": [
              "pandas.core.frame.DataFrame"
            ]
          },
          "metadata": {},
          "execution_count": 25
        }
      ]
    },
    {
      "cell_type": "code",
      "source": [],
      "metadata": {
        "id": "tUMObKGxyncf"
      },
      "execution_count": null,
      "outputs": []
    },
    {
      "cell_type": "code",
      "source": [
        "print(sp.shape)\n",
        "print(sp.head())\n",
        "print(sp.tail())"
      ],
      "metadata": {
        "colab": {
          "base_uri": "https://localhost:8080/"
        },
        "id": "35upSOAcsuY4",
        "outputId": "80cb05ae-5b51-4375-a79b-42f254a1a65d"
      },
      "execution_count": 18,
      "outputs": [
        {
          "output_type": "stream",
          "name": "stdout",
          "text": [
            "(768, 9)\n",
            "   Pregnancies  Glucose  BloodPressure  SkinThickness  Insulin   BMI  \\\n",
            "0            6      148             72             35        0  33.6   \n",
            "1            1       85             66             29        0  26.6   \n",
            "2            8      183             64              0        0  23.3   \n",
            "3            1       89             66             23       94  28.1   \n",
            "4            0      137             40             35      168  43.1   \n",
            "\n",
            "   DiabetesPedigreeFunction  Age  Outcome  \n",
            "0                     0.627   50        1  \n",
            "1                     0.351   31        0  \n",
            "2                     0.672   32        1  \n",
            "3                     0.167   21        0  \n",
            "4                     2.288   33        1  \n",
            "     Pregnancies  Glucose  BloodPressure  SkinThickness  Insulin   BMI  \\\n",
            "763           10      101             76             48      180  32.9   \n",
            "764            2      122             70             27        0  36.8   \n",
            "765            5      121             72             23      112  26.2   \n",
            "766            1      126             60              0        0  30.1   \n",
            "767            1       93             70             31        0  30.4   \n",
            "\n",
            "     DiabetesPedigreeFunction  Age  Outcome  \n",
            "763                     0.171   63        0  \n",
            "764                     0.340   27        0  \n",
            "765                     0.245   30        0  \n",
            "766                     0.349   47        1  \n",
            "767                     0.315   23        0  \n"
          ]
        }
      ]
    },
    {
      "cell_type": "code",
      "source": [
        "# to print out max, min insulin\n",
        "\n",
        "max_insul = sp[\"Insulin\"].max()\n",
        "min_insul = sp[\"Insulin\"].min()\n",
        "med_insul = sp[\"Insulin\"].median()\n",
        "print(max_insul)\n",
        "print(min_insul)\n",
        "print(med_insul)\n",
        "print('')\n",
        "print(\"median values: \", sp.median().values)"
      ],
      "metadata": {
        "colab": {
          "base_uri": "https://localhost:8080/"
        },
        "id": "pzZWtg4UthCl",
        "outputId": "d6e615ff-8a39-453f-e4e3-0611838d04d1"
      },
      "execution_count": 24,
      "outputs": [
        {
          "output_type": "stream",
          "name": "stdout",
          "text": [
            "846\n",
            "0\n",
            "30.5\n",
            "\n",
            "median values:  [  3.     117.      72.      23.      30.5     32.       0.3725  29.\n",
            "   0.    ]\n"
          ]
        }
      ]
    },
    {
      "cell_type": "markdown",
      "source": [
        "Exporting dataframe data to csv file\n",
        "\n",
        "sp.to_csv('diabetics.csv')"
      ],
      "metadata": {
        "id": "YU9BltLRzRwX"
      }
    },
    {
      "cell_type": "code",
      "source": [
        "#exporting dataframe data to csv file\n",
        "\n",
        "sp.to_csv('diabeticss.csv')"
      ],
      "metadata": {
        "id": "ml77clAew074"
      },
      "execution_count": 26,
      "outputs": []
    },
    {
      "cell_type": "markdown",
      "source": [
        "Exporting Dataframe to an Excel File"
      ],
      "metadata": {
        "id": "69wsj1WX00gm"
      }
    },
    {
      "cell_type": "markdown",
      "source": [
        "Printing a random values for the dataset"
      ],
      "metadata": {
        "id": "SisA-f6J1xfi"
      }
    },
    {
      "cell_type": "code",
      "source": [
        "random_sp = pd.DataFrame(np.random.rand(20,10))\n",
        "\n",
        "random_sp.head()"
      ],
      "metadata": {
        "colab": {
          "base_uri": "https://localhost:8080/",
          "height": 270
        },
        "id": "crIiMiv-13P1",
        "outputId": "74c71977-ec9b-420c-d939-4e99584d6c8c"
      },
      "execution_count": 30,
      "outputs": [
        {
          "output_type": "execute_result",
          "data": {
            "text/plain": [
              "          0         1         2         3         4         5         6  \\\n",
              "0  0.160398  0.447933  0.903493  0.042963  0.778648  0.914012  0.118362   \n",
              "1  0.329497  0.994745  0.506541  0.738093  0.957807  0.405003  0.890110   \n",
              "2  0.360183  0.160193  0.969595  0.742187  0.184045  0.978856  0.051314   \n",
              "3  0.226998  0.282936  0.040588  0.375466  0.118046  0.919289  0.053663   \n",
              "4  0.523233  0.716667  0.473464  0.137097  0.102776  0.154317  0.583929   \n",
              "\n",
              "          7         8         9  \n",
              "0  0.106388  0.253816  0.474671  \n",
              "1  0.642479  0.376134  0.896684  \n",
              "2  0.915816  0.766816  0.943055  \n",
              "3  0.099683  0.868856  0.686666  \n",
              "4  0.148270  0.312708  0.137242  "
            ],
            "text/html": [
              "\n",
              "  <div id=\"df-d0045be0-0b75-4b2f-8e53-d5381b5791bf\">\n",
              "    <div class=\"colab-df-container\">\n",
              "      <div>\n",
              "<style scoped>\n",
              "    .dataframe tbody tr th:only-of-type {\n",
              "        vertical-align: middle;\n",
              "    }\n",
              "\n",
              "    .dataframe tbody tr th {\n",
              "        vertical-align: top;\n",
              "    }\n",
              "\n",
              "    .dataframe thead th {\n",
              "        text-align: right;\n",
              "    }\n",
              "</style>\n",
              "<table border=\"1\" class=\"dataframe\">\n",
              "  <thead>\n",
              "    <tr style=\"text-align: right;\">\n",
              "      <th></th>\n",
              "      <th>0</th>\n",
              "      <th>1</th>\n",
              "      <th>2</th>\n",
              "      <th>3</th>\n",
              "      <th>4</th>\n",
              "      <th>5</th>\n",
              "      <th>6</th>\n",
              "      <th>7</th>\n",
              "      <th>8</th>\n",
              "      <th>9</th>\n",
              "    </tr>\n",
              "  </thead>\n",
              "  <tbody>\n",
              "    <tr>\n",
              "      <th>0</th>\n",
              "      <td>0.160398</td>\n",
              "      <td>0.447933</td>\n",
              "      <td>0.903493</td>\n",
              "      <td>0.042963</td>\n",
              "      <td>0.778648</td>\n",
              "      <td>0.914012</td>\n",
              "      <td>0.118362</td>\n",
              "      <td>0.106388</td>\n",
              "      <td>0.253816</td>\n",
              "      <td>0.474671</td>\n",
              "    </tr>\n",
              "    <tr>\n",
              "      <th>1</th>\n",
              "      <td>0.329497</td>\n",
              "      <td>0.994745</td>\n",
              "      <td>0.506541</td>\n",
              "      <td>0.738093</td>\n",
              "      <td>0.957807</td>\n",
              "      <td>0.405003</td>\n",
              "      <td>0.890110</td>\n",
              "      <td>0.642479</td>\n",
              "      <td>0.376134</td>\n",
              "      <td>0.896684</td>\n",
              "    </tr>\n",
              "    <tr>\n",
              "      <th>2</th>\n",
              "      <td>0.360183</td>\n",
              "      <td>0.160193</td>\n",
              "      <td>0.969595</td>\n",
              "      <td>0.742187</td>\n",
              "      <td>0.184045</td>\n",
              "      <td>0.978856</td>\n",
              "      <td>0.051314</td>\n",
              "      <td>0.915816</td>\n",
              "      <td>0.766816</td>\n",
              "      <td>0.943055</td>\n",
              "    </tr>\n",
              "    <tr>\n",
              "      <th>3</th>\n",
              "      <td>0.226998</td>\n",
              "      <td>0.282936</td>\n",
              "      <td>0.040588</td>\n",
              "      <td>0.375466</td>\n",
              "      <td>0.118046</td>\n",
              "      <td>0.919289</td>\n",
              "      <td>0.053663</td>\n",
              "      <td>0.099683</td>\n",
              "      <td>0.868856</td>\n",
              "      <td>0.686666</td>\n",
              "    </tr>\n",
              "    <tr>\n",
              "      <th>4</th>\n",
              "      <td>0.523233</td>\n",
              "      <td>0.716667</td>\n",
              "      <td>0.473464</td>\n",
              "      <td>0.137097</td>\n",
              "      <td>0.102776</td>\n",
              "      <td>0.154317</td>\n",
              "      <td>0.583929</td>\n",
              "      <td>0.148270</td>\n",
              "      <td>0.312708</td>\n",
              "      <td>0.137242</td>\n",
              "    </tr>\n",
              "  </tbody>\n",
              "</table>\n",
              "</div>\n",
              "      <button class=\"colab-df-convert\" onclick=\"convertToInteractive('df-d0045be0-0b75-4b2f-8e53-d5381b5791bf')\"\n",
              "              title=\"Convert this dataframe to an interactive table.\"\n",
              "              style=\"display:none;\">\n",
              "        \n",
              "  <svg xmlns=\"http://www.w3.org/2000/svg\" height=\"24px\"viewBox=\"0 0 24 24\"\n",
              "       width=\"24px\">\n",
              "    <path d=\"M0 0h24v24H0V0z\" fill=\"none\"/>\n",
              "    <path d=\"M18.56 5.44l.94 2.06.94-2.06 2.06-.94-2.06-.94-.94-2.06-.94 2.06-2.06.94zm-11 1L8.5 8.5l.94-2.06 2.06-.94-2.06-.94L8.5 2.5l-.94 2.06-2.06.94zm10 10l.94 2.06.94-2.06 2.06-.94-2.06-.94-.94-2.06-.94 2.06-2.06.94z\"/><path d=\"M17.41 7.96l-1.37-1.37c-.4-.4-.92-.59-1.43-.59-.52 0-1.04.2-1.43.59L10.3 9.45l-7.72 7.72c-.78.78-.78 2.05 0 2.83L4 21.41c.39.39.9.59 1.41.59.51 0 1.02-.2 1.41-.59l7.78-7.78 2.81-2.81c.8-.78.8-2.07 0-2.86zM5.41 20L4 18.59l7.72-7.72 1.47 1.35L5.41 20z\"/>\n",
              "  </svg>\n",
              "      </button>\n",
              "      \n",
              "  <style>\n",
              "    .colab-df-container {\n",
              "      display:flex;\n",
              "      flex-wrap:wrap;\n",
              "      gap: 12px;\n",
              "    }\n",
              "\n",
              "    .colab-df-convert {\n",
              "      background-color: #E8F0FE;\n",
              "      border: none;\n",
              "      border-radius: 50%;\n",
              "      cursor: pointer;\n",
              "      display: none;\n",
              "      fill: #1967D2;\n",
              "      height: 32px;\n",
              "      padding: 0 0 0 0;\n",
              "      width: 32px;\n",
              "    }\n",
              "\n",
              "    .colab-df-convert:hover {\n",
              "      background-color: #E2EBFA;\n",
              "      box-shadow: 0px 1px 2px rgba(60, 64, 67, 0.3), 0px 1px 3px 1px rgba(60, 64, 67, 0.15);\n",
              "      fill: #174EA6;\n",
              "    }\n",
              "\n",
              "    [theme=dark] .colab-df-convert {\n",
              "      background-color: #3B4455;\n",
              "      fill: #D2E3FC;\n",
              "    }\n",
              "\n",
              "    [theme=dark] .colab-df-convert:hover {\n",
              "      background-color: #434B5C;\n",
              "      box-shadow: 0px 1px 3px 1px rgba(0, 0, 0, 0.15);\n",
              "      filter: drop-shadow(0px 1px 2px rgba(0, 0, 0, 0.3));\n",
              "      fill: #FFFFFF;\n",
              "    }\n",
              "  </style>\n",
              "\n",
              "      <script>\n",
              "        const buttonEl =\n",
              "          document.querySelector('#df-d0045be0-0b75-4b2f-8e53-d5381b5791bf button.colab-df-convert');\n",
              "        buttonEl.style.display =\n",
              "          google.colab.kernel.accessAllowed ? 'block' : 'none';\n",
              "\n",
              "        async function convertToInteractive(key) {\n",
              "          const element = document.querySelector('#df-d0045be0-0b75-4b2f-8e53-d5381b5791bf');\n",
              "          const dataTable =\n",
              "            await google.colab.kernel.invokeFunction('convertToInteractive',\n",
              "                                                     [key], {});\n",
              "          if (!dataTable) return;\n",
              "\n",
              "          const docLinkHtml = 'Like what you see? Visit the ' +\n",
              "            '<a target=\"_blank\" href=https://colab.research.google.com/notebooks/data_table.ipynb>data table notebook</a>'\n",
              "            + ' to learn more about interactive tables.';\n",
              "          element.innerHTML = '';\n",
              "          dataTable['output_type'] = 'display_data';\n",
              "          await google.colab.output.renderOutput(dataTable, element);\n",
              "          const docLink = document.createElement('div');\n",
              "          docLink.innerHTML = docLinkHtml;\n",
              "          element.appendChild(docLink);\n",
              "        }\n",
              "      </script>\n",
              "    </div>\n",
              "  </div>\n",
              "  "
            ]
          },
          "metadata": {},
          "execution_count": 30
        }
      ]
    },
    {
      "cell_type": "markdown",
      "source": [
        "Inpsecting a Dataframe"
      ],
      "metadata": {
        "id": "BE5DeM_d2TcY"
      }
    },
    {
      "cell_type": "code",
      "source": [
        "sp.shape"
      ],
      "metadata": {
        "colab": {
          "base_uri": "https://localhost:8080/"
        },
        "id": "zzBtwXzD2R7-",
        "outputId": "bcc29ce1-5a3b-45c0-cb30-76f3c19aedad"
      },
      "execution_count": 31,
      "outputs": [
        {
          "output_type": "execute_result",
          "data": {
            "text/plain": [
              "(768, 9)"
            ]
          },
          "metadata": {},
          "execution_count": 31
        }
      ]
    },
    {
      "cell_type": "markdown",
      "source": [
        "Getting Information about dataset"
      ],
      "metadata": {
        "id": "_Mce3PSV23Yg"
      }
    },
    {
      "cell_type": "code",
      "source": [
        "sp.info()"
      ],
      "metadata": {
        "colab": {
          "base_uri": "https://localhost:8080/"
        },
        "id": "T-gfQBwi2mF-",
        "outputId": "818fcd47-f31d-454f-aa4c-84912e989106"
      },
      "execution_count": 32,
      "outputs": [
        {
          "output_type": "stream",
          "name": "stdout",
          "text": [
            "<class 'pandas.core.frame.DataFrame'>\n",
            "RangeIndex: 768 entries, 0 to 767\n",
            "Data columns (total 9 columns):\n",
            " #   Column                    Non-Null Count  Dtype  \n",
            "---  ------                    --------------  -----  \n",
            " 0   Pregnancies               768 non-null    int64  \n",
            " 1   Glucose                   768 non-null    int64  \n",
            " 2   BloodPressure             768 non-null    int64  \n",
            " 3   SkinThickness             768 non-null    int64  \n",
            " 4   Insulin                   768 non-null    int64  \n",
            " 5   BMI                       768 non-null    float64\n",
            " 6   DiabetesPedigreeFunction  768 non-null    float64\n",
            " 7   Age                       768 non-null    int64  \n",
            " 8   Outcome                   768 non-null    int64  \n",
            "dtypes: float64(2), int64(7)\n",
            "memory usage: 54.1 KB\n"
          ]
        }
      ]
    },
    {
      "cell_type": "code",
      "source": [
        "#finding the number of missing values in each columns\n",
        "\n",
        "sp.isnull().sum()"
      ],
      "metadata": {
        "colab": {
          "base_uri": "https://localhost:8080/"
        },
        "id": "3Yfndgm_3UJk",
        "outputId": "297d9d18-37e2-4f70-e575-a06ca6c8a661"
      },
      "execution_count": 35,
      "outputs": [
        {
          "output_type": "execute_result",
          "data": {
            "text/plain": [
              "Pregnancies                 0\n",
              "Glucose                     0\n",
              "BloodPressure               0\n",
              "SkinThickness               0\n",
              "Insulin                     0\n",
              "BMI                         0\n",
              "DiabetesPedigreeFunction    0\n",
              "Age                         0\n",
              "Outcome                     0\n",
              "dtype: int64"
            ]
          },
          "metadata": {},
          "execution_count": 35
        }
      ]
    },
    {
      "cell_type": "code",
      "source": [
        "# printing some informations about our dataset\n",
        "# couting specific values in our dataset based on labels\n",
        "\n",
        "sp.value_counts('Outcome')\n",
        "\n"
      ],
      "metadata": {
        "colab": {
          "base_uri": "https://localhost:8080/"
        },
        "id": "ajMCKnwb31JW",
        "outputId": "f73a17b1-c839-474a-f29c-c83a77b53d5a"
      },
      "execution_count": 39,
      "outputs": [
        {
          "output_type": "execute_result",
          "data": {
            "text/plain": [
              "Outcome\n",
              "0    500\n",
              "1    268\n",
              "dtype: int64"
            ]
          },
          "metadata": {},
          "execution_count": 39
        }
      ]
    },
    {
      "cell_type": "code",
      "source": [
        "print(\"\")\n",
        "sp.value_counts('BMI')"
      ],
      "metadata": {
        "colab": {
          "base_uri": "https://localhost:8080/"
        },
        "id": "AxSPo5155Ojm",
        "outputId": "91734cd7-6a4c-47a0-fc12-0c0aa82db950"
      },
      "execution_count": 40,
      "outputs": [
        {
          "output_type": "stream",
          "name": "stdout",
          "text": [
            "\n"
          ]
        },
        {
          "output_type": "execute_result",
          "data": {
            "text/plain": [
              "BMI\n",
              "32.0    13\n",
              "31.6    12\n",
              "31.2    12\n",
              "0.0     11\n",
              "32.4    10\n",
              "        ..\n",
              "31.1     1\n",
              "39.7     1\n",
              "39.6     1\n",
              "31.3     1\n",
              "67.1     1\n",
              "Length: 248, dtype: int64"
            ]
          },
          "metadata": {},
          "execution_count": 40
        }
      ]
    },
    {
      "cell_type": "code",
      "source": [
        "#grouping the values based on the mean\n",
        "sp.groupby('BMI').mean()"
      ],
      "metadata": {
        "colab": {
          "base_uri": "https://localhost:8080/",
          "height": 519
        },
        "id": "0MZeIA_V5SAw",
        "outputId": "e56f6a61-6392-4f55-9e83-43068140fc1a"
      },
      "execution_count": 41,
      "outputs": [
        {
          "output_type": "execute_result",
          "data": {
            "text/plain": [
              "      Pregnancies     Glucose  BloodPressure  SkinThickness     Insulin  \\\n",
              "BMI                                                                       \n",
              "0.0      3.909091  104.272727      28.818182       4.181818    8.090909   \n",
              "18.2     1.000000   92.333333      67.333333      11.333333   27.333333   \n",
              "18.4     0.000000  104.000000      76.000000       0.000000    0.000000   \n",
              "19.1     1.000000   80.000000      55.000000       0.000000    0.000000   \n",
              "19.3     3.000000   99.000000      80.000000      11.000000   64.000000   \n",
              "...           ...         ...            ...            ...         ...   \n",
              "53.2     0.000000  162.000000      76.000000      56.000000  100.000000   \n",
              "55.0     1.000000   88.000000      30.000000      42.000000   99.000000   \n",
              "57.3     3.000000  123.000000     100.000000      35.000000  240.000000   \n",
              "59.4     0.000000  180.000000      78.000000      63.000000   14.000000   \n",
              "67.1     0.000000  129.000000     110.000000      46.000000  130.000000   \n",
              "\n",
              "      DiabetesPedigreeFunction        Age   Outcome  \n",
              "BMI                                                  \n",
              "0.0                   0.433273  30.454545  0.181818  \n",
              "18.2                  0.356667  23.000000  0.000000  \n",
              "18.4                  0.582000  27.000000  0.000000  \n",
              "19.1                  0.258000  21.000000  0.000000  \n",
              "19.3                  0.284000  30.000000  0.000000  \n",
              "...                        ...        ...       ...  \n",
              "53.2                  0.759000  25.000000  1.000000  \n",
              "55.0                  0.496000  26.000000  1.000000  \n",
              "57.3                  0.880000  22.000000  0.000000  \n",
              "59.4                  2.420000  25.000000  1.000000  \n",
              "67.1                  0.319000  26.000000  1.000000  \n",
              "\n",
              "[248 rows x 8 columns]"
            ],
            "text/html": [
              "\n",
              "  <div id=\"df-a94d67b2-30e6-431b-a3a4-b672446bed74\">\n",
              "    <div class=\"colab-df-container\">\n",
              "      <div>\n",
              "<style scoped>\n",
              "    .dataframe tbody tr th:only-of-type {\n",
              "        vertical-align: middle;\n",
              "    }\n",
              "\n",
              "    .dataframe tbody tr th {\n",
              "        vertical-align: top;\n",
              "    }\n",
              "\n",
              "    .dataframe thead th {\n",
              "        text-align: right;\n",
              "    }\n",
              "</style>\n",
              "<table border=\"1\" class=\"dataframe\">\n",
              "  <thead>\n",
              "    <tr style=\"text-align: right;\">\n",
              "      <th></th>\n",
              "      <th>Pregnancies</th>\n",
              "      <th>Glucose</th>\n",
              "      <th>BloodPressure</th>\n",
              "      <th>SkinThickness</th>\n",
              "      <th>Insulin</th>\n",
              "      <th>DiabetesPedigreeFunction</th>\n",
              "      <th>Age</th>\n",
              "      <th>Outcome</th>\n",
              "    </tr>\n",
              "    <tr>\n",
              "      <th>BMI</th>\n",
              "      <th></th>\n",
              "      <th></th>\n",
              "      <th></th>\n",
              "      <th></th>\n",
              "      <th></th>\n",
              "      <th></th>\n",
              "      <th></th>\n",
              "      <th></th>\n",
              "    </tr>\n",
              "  </thead>\n",
              "  <tbody>\n",
              "    <tr>\n",
              "      <th>0.0</th>\n",
              "      <td>3.909091</td>\n",
              "      <td>104.272727</td>\n",
              "      <td>28.818182</td>\n",
              "      <td>4.181818</td>\n",
              "      <td>8.090909</td>\n",
              "      <td>0.433273</td>\n",
              "      <td>30.454545</td>\n",
              "      <td>0.181818</td>\n",
              "    </tr>\n",
              "    <tr>\n",
              "      <th>18.2</th>\n",
              "      <td>1.000000</td>\n",
              "      <td>92.333333</td>\n",
              "      <td>67.333333</td>\n",
              "      <td>11.333333</td>\n",
              "      <td>27.333333</td>\n",
              "      <td>0.356667</td>\n",
              "      <td>23.000000</td>\n",
              "      <td>0.000000</td>\n",
              "    </tr>\n",
              "    <tr>\n",
              "      <th>18.4</th>\n",
              "      <td>0.000000</td>\n",
              "      <td>104.000000</td>\n",
              "      <td>76.000000</td>\n",
              "      <td>0.000000</td>\n",
              "      <td>0.000000</td>\n",
              "      <td>0.582000</td>\n",
              "      <td>27.000000</td>\n",
              "      <td>0.000000</td>\n",
              "    </tr>\n",
              "    <tr>\n",
              "      <th>19.1</th>\n",
              "      <td>1.000000</td>\n",
              "      <td>80.000000</td>\n",
              "      <td>55.000000</td>\n",
              "      <td>0.000000</td>\n",
              "      <td>0.000000</td>\n",
              "      <td>0.258000</td>\n",
              "      <td>21.000000</td>\n",
              "      <td>0.000000</td>\n",
              "    </tr>\n",
              "    <tr>\n",
              "      <th>19.3</th>\n",
              "      <td>3.000000</td>\n",
              "      <td>99.000000</td>\n",
              "      <td>80.000000</td>\n",
              "      <td>11.000000</td>\n",
              "      <td>64.000000</td>\n",
              "      <td>0.284000</td>\n",
              "      <td>30.000000</td>\n",
              "      <td>0.000000</td>\n",
              "    </tr>\n",
              "    <tr>\n",
              "      <th>...</th>\n",
              "      <td>...</td>\n",
              "      <td>...</td>\n",
              "      <td>...</td>\n",
              "      <td>...</td>\n",
              "      <td>...</td>\n",
              "      <td>...</td>\n",
              "      <td>...</td>\n",
              "      <td>...</td>\n",
              "    </tr>\n",
              "    <tr>\n",
              "      <th>53.2</th>\n",
              "      <td>0.000000</td>\n",
              "      <td>162.000000</td>\n",
              "      <td>76.000000</td>\n",
              "      <td>56.000000</td>\n",
              "      <td>100.000000</td>\n",
              "      <td>0.759000</td>\n",
              "      <td>25.000000</td>\n",
              "      <td>1.000000</td>\n",
              "    </tr>\n",
              "    <tr>\n",
              "      <th>55.0</th>\n",
              "      <td>1.000000</td>\n",
              "      <td>88.000000</td>\n",
              "      <td>30.000000</td>\n",
              "      <td>42.000000</td>\n",
              "      <td>99.000000</td>\n",
              "      <td>0.496000</td>\n",
              "      <td>26.000000</td>\n",
              "      <td>1.000000</td>\n",
              "    </tr>\n",
              "    <tr>\n",
              "      <th>57.3</th>\n",
              "      <td>3.000000</td>\n",
              "      <td>123.000000</td>\n",
              "      <td>100.000000</td>\n",
              "      <td>35.000000</td>\n",
              "      <td>240.000000</td>\n",
              "      <td>0.880000</td>\n",
              "      <td>22.000000</td>\n",
              "      <td>0.000000</td>\n",
              "    </tr>\n",
              "    <tr>\n",
              "      <th>59.4</th>\n",
              "      <td>0.000000</td>\n",
              "      <td>180.000000</td>\n",
              "      <td>78.000000</td>\n",
              "      <td>63.000000</td>\n",
              "      <td>14.000000</td>\n",
              "      <td>2.420000</td>\n",
              "      <td>25.000000</td>\n",
              "      <td>1.000000</td>\n",
              "    </tr>\n",
              "    <tr>\n",
              "      <th>67.1</th>\n",
              "      <td>0.000000</td>\n",
              "      <td>129.000000</td>\n",
              "      <td>110.000000</td>\n",
              "      <td>46.000000</td>\n",
              "      <td>130.000000</td>\n",
              "      <td>0.319000</td>\n",
              "      <td>26.000000</td>\n",
              "      <td>1.000000</td>\n",
              "    </tr>\n",
              "  </tbody>\n",
              "</table>\n",
              "<p>248 rows × 8 columns</p>\n",
              "</div>\n",
              "      <button class=\"colab-df-convert\" onclick=\"convertToInteractive('df-a94d67b2-30e6-431b-a3a4-b672446bed74')\"\n",
              "              title=\"Convert this dataframe to an interactive table.\"\n",
              "              style=\"display:none;\">\n",
              "        \n",
              "  <svg xmlns=\"http://www.w3.org/2000/svg\" height=\"24px\"viewBox=\"0 0 24 24\"\n",
              "       width=\"24px\">\n",
              "    <path d=\"M0 0h24v24H0V0z\" fill=\"none\"/>\n",
              "    <path d=\"M18.56 5.44l.94 2.06.94-2.06 2.06-.94-2.06-.94-.94-2.06-.94 2.06-2.06.94zm-11 1L8.5 8.5l.94-2.06 2.06-.94-2.06-.94L8.5 2.5l-.94 2.06-2.06.94zm10 10l.94 2.06.94-2.06 2.06-.94-2.06-.94-.94-2.06-.94 2.06-2.06.94z\"/><path d=\"M17.41 7.96l-1.37-1.37c-.4-.4-.92-.59-1.43-.59-.52 0-1.04.2-1.43.59L10.3 9.45l-7.72 7.72c-.78.78-.78 2.05 0 2.83L4 21.41c.39.39.9.59 1.41.59.51 0 1.02-.2 1.41-.59l7.78-7.78 2.81-2.81c.8-.78.8-2.07 0-2.86zM5.41 20L4 18.59l7.72-7.72 1.47 1.35L5.41 20z\"/>\n",
              "  </svg>\n",
              "      </button>\n",
              "      \n",
              "  <style>\n",
              "    .colab-df-container {\n",
              "      display:flex;\n",
              "      flex-wrap:wrap;\n",
              "      gap: 12px;\n",
              "    }\n",
              "\n",
              "    .colab-df-convert {\n",
              "      background-color: #E8F0FE;\n",
              "      border: none;\n",
              "      border-radius: 50%;\n",
              "      cursor: pointer;\n",
              "      display: none;\n",
              "      fill: #1967D2;\n",
              "      height: 32px;\n",
              "      padding: 0 0 0 0;\n",
              "      width: 32px;\n",
              "    }\n",
              "\n",
              "    .colab-df-convert:hover {\n",
              "      background-color: #E2EBFA;\n",
              "      box-shadow: 0px 1px 2px rgba(60, 64, 67, 0.3), 0px 1px 3px 1px rgba(60, 64, 67, 0.15);\n",
              "      fill: #174EA6;\n",
              "    }\n",
              "\n",
              "    [theme=dark] .colab-df-convert {\n",
              "      background-color: #3B4455;\n",
              "      fill: #D2E3FC;\n",
              "    }\n",
              "\n",
              "    [theme=dark] .colab-df-convert:hover {\n",
              "      background-color: #434B5C;\n",
              "      box-shadow: 0px 1px 3px 1px rgba(0, 0, 0, 0.15);\n",
              "      filter: drop-shadow(0px 1px 2px rgba(0, 0, 0, 0.3));\n",
              "      fill: #FFFFFF;\n",
              "    }\n",
              "  </style>\n",
              "\n",
              "      <script>\n",
              "        const buttonEl =\n",
              "          document.querySelector('#df-a94d67b2-30e6-431b-a3a4-b672446bed74 button.colab-df-convert');\n",
              "        buttonEl.style.display =\n",
              "          google.colab.kernel.accessAllowed ? 'block' : 'none';\n",
              "\n",
              "        async function convertToInteractive(key) {\n",
              "          const element = document.querySelector('#df-a94d67b2-30e6-431b-a3a4-b672446bed74');\n",
              "          const dataTable =\n",
              "            await google.colab.kernel.invokeFunction('convertToInteractive',\n",
              "                                                     [key], {});\n",
              "          if (!dataTable) return;\n",
              "\n",
              "          const docLinkHtml = 'Like what you see? Visit the ' +\n",
              "            '<a target=\"_blank\" href=https://colab.research.google.com/notebooks/data_table.ipynb>data table notebook</a>'\n",
              "            + ' to learn more about interactive tables.';\n",
              "          element.innerHTML = '';\n",
              "          dataTable['output_type'] = 'display_data';\n",
              "          await google.colab.output.renderOutput(dataTable, element);\n",
              "          const docLink = document.createElement('div');\n",
              "          docLink.innerHTML = docLinkHtml;\n",
              "          element.appendChild(docLink);\n",
              "        }\n",
              "      </script>\n",
              "    </div>\n",
              "  </div>\n",
              "  "
            ]
          },
          "metadata": {},
          "execution_count": 41
        }
      ]
    },
    {
      "cell_type": "code",
      "source": [
        "sp.groupby('Glucose').mean()"
      ],
      "metadata": {
        "colab": {
          "base_uri": "https://localhost:8080/",
          "height": 519
        },
        "id": "skp1fY4N54Ra",
        "outputId": "72b6cd19-ed73-4acc-d31f-0b1c691842b0"
      },
      "execution_count": 42,
      "outputs": [
        {
          "output_type": "execute_result",
          "data": {
            "text/plain": [
              "         Pregnancies  BloodPressure  SkinThickness     Insulin        BMI  \\\n",
              "Glucose                                                                     \n",
              "0           2.800000      67.600000      29.600000    4.600000  32.880000   \n",
              "44          5.000000      62.000000       0.000000    0.000000  25.000000   \n",
              "56          2.000000      56.000000      28.000000   45.000000  24.200000   \n",
              "57          4.500000      70.000000      18.500000    0.000000  27.250000   \n",
              "61          3.000000      82.000000      28.000000    0.000000  34.400000   \n",
              "...              ...            ...            ...         ...        ...   \n",
              "195         6.500000      70.000000      16.500000   72.500000  28.000000   \n",
              "196         5.333333      80.666667      21.666667  176.333333  37.933333   \n",
              "197         4.000000      71.000000      45.750000  321.750000  31.950000   \n",
              "198         0.000000      66.000000      32.000000  274.000000  41.300000   \n",
              "199         1.000000      76.000000      43.000000    0.000000  42.900000   \n",
              "\n",
              "         DiabetesPedigreeFunction        Age  Outcome  \n",
              "Glucose                                                \n",
              "0                        0.380200  28.600000     0.40  \n",
              "44                       0.587000  36.000000     0.00  \n",
              "56                       0.332000  22.000000     0.00  \n",
              "57                       0.415500  54.000000     0.00  \n",
              "61                       0.243000  46.000000     0.00  \n",
              "...                           ...        ...      ...  \n",
              "195                      0.245500  43.000000     1.00  \n",
              "196                      0.643667  42.333333     1.00  \n",
              "197                      1.063250  46.250000     0.75  \n",
              "198                      0.502000  28.000000     1.00  \n",
              "199                      1.394000  22.000000     1.00  \n",
              "\n",
              "[136 rows x 8 columns]"
            ],
            "text/html": [
              "\n",
              "  <div id=\"df-e09f34d8-9bc9-400c-9cbc-d0d781910d84\">\n",
              "    <div class=\"colab-df-container\">\n",
              "      <div>\n",
              "<style scoped>\n",
              "    .dataframe tbody tr th:only-of-type {\n",
              "        vertical-align: middle;\n",
              "    }\n",
              "\n",
              "    .dataframe tbody tr th {\n",
              "        vertical-align: top;\n",
              "    }\n",
              "\n",
              "    .dataframe thead th {\n",
              "        text-align: right;\n",
              "    }\n",
              "</style>\n",
              "<table border=\"1\" class=\"dataframe\">\n",
              "  <thead>\n",
              "    <tr style=\"text-align: right;\">\n",
              "      <th></th>\n",
              "      <th>Pregnancies</th>\n",
              "      <th>BloodPressure</th>\n",
              "      <th>SkinThickness</th>\n",
              "      <th>Insulin</th>\n",
              "      <th>BMI</th>\n",
              "      <th>DiabetesPedigreeFunction</th>\n",
              "      <th>Age</th>\n",
              "      <th>Outcome</th>\n",
              "    </tr>\n",
              "    <tr>\n",
              "      <th>Glucose</th>\n",
              "      <th></th>\n",
              "      <th></th>\n",
              "      <th></th>\n",
              "      <th></th>\n",
              "      <th></th>\n",
              "      <th></th>\n",
              "      <th></th>\n",
              "      <th></th>\n",
              "    </tr>\n",
              "  </thead>\n",
              "  <tbody>\n",
              "    <tr>\n",
              "      <th>0</th>\n",
              "      <td>2.800000</td>\n",
              "      <td>67.600000</td>\n",
              "      <td>29.600000</td>\n",
              "      <td>4.600000</td>\n",
              "      <td>32.880000</td>\n",
              "      <td>0.380200</td>\n",
              "      <td>28.600000</td>\n",
              "      <td>0.40</td>\n",
              "    </tr>\n",
              "    <tr>\n",
              "      <th>44</th>\n",
              "      <td>5.000000</td>\n",
              "      <td>62.000000</td>\n",
              "      <td>0.000000</td>\n",
              "      <td>0.000000</td>\n",
              "      <td>25.000000</td>\n",
              "      <td>0.587000</td>\n",
              "      <td>36.000000</td>\n",
              "      <td>0.00</td>\n",
              "    </tr>\n",
              "    <tr>\n",
              "      <th>56</th>\n",
              "      <td>2.000000</td>\n",
              "      <td>56.000000</td>\n",
              "      <td>28.000000</td>\n",
              "      <td>45.000000</td>\n",
              "      <td>24.200000</td>\n",
              "      <td>0.332000</td>\n",
              "      <td>22.000000</td>\n",
              "      <td>0.00</td>\n",
              "    </tr>\n",
              "    <tr>\n",
              "      <th>57</th>\n",
              "      <td>4.500000</td>\n",
              "      <td>70.000000</td>\n",
              "      <td>18.500000</td>\n",
              "      <td>0.000000</td>\n",
              "      <td>27.250000</td>\n",
              "      <td>0.415500</td>\n",
              "      <td>54.000000</td>\n",
              "      <td>0.00</td>\n",
              "    </tr>\n",
              "    <tr>\n",
              "      <th>61</th>\n",
              "      <td>3.000000</td>\n",
              "      <td>82.000000</td>\n",
              "      <td>28.000000</td>\n",
              "      <td>0.000000</td>\n",
              "      <td>34.400000</td>\n",
              "      <td>0.243000</td>\n",
              "      <td>46.000000</td>\n",
              "      <td>0.00</td>\n",
              "    </tr>\n",
              "    <tr>\n",
              "      <th>...</th>\n",
              "      <td>...</td>\n",
              "      <td>...</td>\n",
              "      <td>...</td>\n",
              "      <td>...</td>\n",
              "      <td>...</td>\n",
              "      <td>...</td>\n",
              "      <td>...</td>\n",
              "      <td>...</td>\n",
              "    </tr>\n",
              "    <tr>\n",
              "      <th>195</th>\n",
              "      <td>6.500000</td>\n",
              "      <td>70.000000</td>\n",
              "      <td>16.500000</td>\n",
              "      <td>72.500000</td>\n",
              "      <td>28.000000</td>\n",
              "      <td>0.245500</td>\n",
              "      <td>43.000000</td>\n",
              "      <td>1.00</td>\n",
              "    </tr>\n",
              "    <tr>\n",
              "      <th>196</th>\n",
              "      <td>5.333333</td>\n",
              "      <td>80.666667</td>\n",
              "      <td>21.666667</td>\n",
              "      <td>176.333333</td>\n",
              "      <td>37.933333</td>\n",
              "      <td>0.643667</td>\n",
              "      <td>42.333333</td>\n",
              "      <td>1.00</td>\n",
              "    </tr>\n",
              "    <tr>\n",
              "      <th>197</th>\n",
              "      <td>4.000000</td>\n",
              "      <td>71.000000</td>\n",
              "      <td>45.750000</td>\n",
              "      <td>321.750000</td>\n",
              "      <td>31.950000</td>\n",
              "      <td>1.063250</td>\n",
              "      <td>46.250000</td>\n",
              "      <td>0.75</td>\n",
              "    </tr>\n",
              "    <tr>\n",
              "      <th>198</th>\n",
              "      <td>0.000000</td>\n",
              "      <td>66.000000</td>\n",
              "      <td>32.000000</td>\n",
              "      <td>274.000000</td>\n",
              "      <td>41.300000</td>\n",
              "      <td>0.502000</td>\n",
              "      <td>28.000000</td>\n",
              "      <td>1.00</td>\n",
              "    </tr>\n",
              "    <tr>\n",
              "      <th>199</th>\n",
              "      <td>1.000000</td>\n",
              "      <td>76.000000</td>\n",
              "      <td>43.000000</td>\n",
              "      <td>0.000000</td>\n",
              "      <td>42.900000</td>\n",
              "      <td>1.394000</td>\n",
              "      <td>22.000000</td>\n",
              "      <td>1.00</td>\n",
              "    </tr>\n",
              "  </tbody>\n",
              "</table>\n",
              "<p>136 rows × 8 columns</p>\n",
              "</div>\n",
              "      <button class=\"colab-df-convert\" onclick=\"convertToInteractive('df-e09f34d8-9bc9-400c-9cbc-d0d781910d84')\"\n",
              "              title=\"Convert this dataframe to an interactive table.\"\n",
              "              style=\"display:none;\">\n",
              "        \n",
              "  <svg xmlns=\"http://www.w3.org/2000/svg\" height=\"24px\"viewBox=\"0 0 24 24\"\n",
              "       width=\"24px\">\n",
              "    <path d=\"M0 0h24v24H0V0z\" fill=\"none\"/>\n",
              "    <path d=\"M18.56 5.44l.94 2.06.94-2.06 2.06-.94-2.06-.94-.94-2.06-.94 2.06-2.06.94zm-11 1L8.5 8.5l.94-2.06 2.06-.94-2.06-.94L8.5 2.5l-.94 2.06-2.06.94zm10 10l.94 2.06.94-2.06 2.06-.94-2.06-.94-.94-2.06-.94 2.06-2.06.94z\"/><path d=\"M17.41 7.96l-1.37-1.37c-.4-.4-.92-.59-1.43-.59-.52 0-1.04.2-1.43.59L10.3 9.45l-7.72 7.72c-.78.78-.78 2.05 0 2.83L4 21.41c.39.39.9.59 1.41.59.51 0 1.02-.2 1.41-.59l7.78-7.78 2.81-2.81c.8-.78.8-2.07 0-2.86zM5.41 20L4 18.59l7.72-7.72 1.47 1.35L5.41 20z\"/>\n",
              "  </svg>\n",
              "      </button>\n",
              "      \n",
              "  <style>\n",
              "    .colab-df-container {\n",
              "      display:flex;\n",
              "      flex-wrap:wrap;\n",
              "      gap: 12px;\n",
              "    }\n",
              "\n",
              "    .colab-df-convert {\n",
              "      background-color: #E8F0FE;\n",
              "      border: none;\n",
              "      border-radius: 50%;\n",
              "      cursor: pointer;\n",
              "      display: none;\n",
              "      fill: #1967D2;\n",
              "      height: 32px;\n",
              "      padding: 0 0 0 0;\n",
              "      width: 32px;\n",
              "    }\n",
              "\n",
              "    .colab-df-convert:hover {\n",
              "      background-color: #E2EBFA;\n",
              "      box-shadow: 0px 1px 2px rgba(60, 64, 67, 0.3), 0px 1px 3px 1px rgba(60, 64, 67, 0.15);\n",
              "      fill: #174EA6;\n",
              "    }\n",
              "\n",
              "    [theme=dark] .colab-df-convert {\n",
              "      background-color: #3B4455;\n",
              "      fill: #D2E3FC;\n",
              "    }\n",
              "\n",
              "    [theme=dark] .colab-df-convert:hover {\n",
              "      background-color: #434B5C;\n",
              "      box-shadow: 0px 1px 3px 1px rgba(0, 0, 0, 0.15);\n",
              "      filter: drop-shadow(0px 1px 2px rgba(0, 0, 0, 0.3));\n",
              "      fill: #FFFFFF;\n",
              "    }\n",
              "  </style>\n",
              "\n",
              "      <script>\n",
              "        const buttonEl =\n",
              "          document.querySelector('#df-e09f34d8-9bc9-400c-9cbc-d0d781910d84 button.colab-df-convert');\n",
              "        buttonEl.style.display =\n",
              "          google.colab.kernel.accessAllowed ? 'block' : 'none';\n",
              "\n",
              "        async function convertToInteractive(key) {\n",
              "          const element = document.querySelector('#df-e09f34d8-9bc9-400c-9cbc-d0d781910d84');\n",
              "          const dataTable =\n",
              "            await google.colab.kernel.invokeFunction('convertToInteractive',\n",
              "                                                     [key], {});\n",
              "          if (!dataTable) return;\n",
              "\n",
              "          const docLinkHtml = 'Like what you see? Visit the ' +\n",
              "            '<a target=\"_blank\" href=https://colab.research.google.com/notebooks/data_table.ipynb>data table notebook</a>'\n",
              "            + ' to learn more about interactive tables.';\n",
              "          element.innerHTML = '';\n",
              "          dataTable['output_type'] = 'display_data';\n",
              "          await google.colab.output.renderOutput(dataTable, element);\n",
              "          const docLink = document.createElement('div');\n",
              "          docLink.innerHTML = docLinkHtml;\n",
              "          element.appendChild(docLink);\n",
              "        }\n",
              "      </script>\n",
              "    </div>\n",
              "  </div>\n",
              "  "
            ]
          },
          "metadata": {},
          "execution_count": 42
        }
      ]
    },
    {
      "cell_type": "code",
      "source": [
        "sp.groupby('Outcome').mean()"
      ],
      "metadata": {
        "colab": {
          "base_uri": "https://localhost:8080/",
          "height": 207
        },
        "id": "FFLDPsnQ6Dz2",
        "outputId": "f4462f22-b9ee-4a0b-d1e3-39fc84ebf4ca"
      },
      "execution_count": 43,
      "outputs": [
        {
          "output_type": "execute_result",
          "data": {
            "text/plain": [
              "         Pregnancies     Glucose  BloodPressure  SkinThickness     Insulin  \\\n",
              "Outcome                                                                      \n",
              "0           3.298000  109.980000      68.184000      19.664000   68.792000   \n",
              "1           4.865672  141.257463      70.824627      22.164179  100.335821   \n",
              "\n",
              "               BMI  DiabetesPedigreeFunction        Age  \n",
              "Outcome                                                  \n",
              "0        30.304200                  0.429734  31.190000  \n",
              "1        35.142537                  0.550500  37.067164  "
            ],
            "text/html": [
              "\n",
              "  <div id=\"df-1cabf095-ef85-4815-be81-ac46ab8e15ae\">\n",
              "    <div class=\"colab-df-container\">\n",
              "      <div>\n",
              "<style scoped>\n",
              "    .dataframe tbody tr th:only-of-type {\n",
              "        vertical-align: middle;\n",
              "    }\n",
              "\n",
              "    .dataframe tbody tr th {\n",
              "        vertical-align: top;\n",
              "    }\n",
              "\n",
              "    .dataframe thead th {\n",
              "        text-align: right;\n",
              "    }\n",
              "</style>\n",
              "<table border=\"1\" class=\"dataframe\">\n",
              "  <thead>\n",
              "    <tr style=\"text-align: right;\">\n",
              "      <th></th>\n",
              "      <th>Pregnancies</th>\n",
              "      <th>Glucose</th>\n",
              "      <th>BloodPressure</th>\n",
              "      <th>SkinThickness</th>\n",
              "      <th>Insulin</th>\n",
              "      <th>BMI</th>\n",
              "      <th>DiabetesPedigreeFunction</th>\n",
              "      <th>Age</th>\n",
              "    </tr>\n",
              "    <tr>\n",
              "      <th>Outcome</th>\n",
              "      <th></th>\n",
              "      <th></th>\n",
              "      <th></th>\n",
              "      <th></th>\n",
              "      <th></th>\n",
              "      <th></th>\n",
              "      <th></th>\n",
              "      <th></th>\n",
              "    </tr>\n",
              "  </thead>\n",
              "  <tbody>\n",
              "    <tr>\n",
              "      <th>0</th>\n",
              "      <td>3.298000</td>\n",
              "      <td>109.980000</td>\n",
              "      <td>68.184000</td>\n",
              "      <td>19.664000</td>\n",
              "      <td>68.792000</td>\n",
              "      <td>30.304200</td>\n",
              "      <td>0.429734</td>\n",
              "      <td>31.190000</td>\n",
              "    </tr>\n",
              "    <tr>\n",
              "      <th>1</th>\n",
              "      <td>4.865672</td>\n",
              "      <td>141.257463</td>\n",
              "      <td>70.824627</td>\n",
              "      <td>22.164179</td>\n",
              "      <td>100.335821</td>\n",
              "      <td>35.142537</td>\n",
              "      <td>0.550500</td>\n",
              "      <td>37.067164</td>\n",
              "    </tr>\n",
              "  </tbody>\n",
              "</table>\n",
              "</div>\n",
              "      <button class=\"colab-df-convert\" onclick=\"convertToInteractive('df-1cabf095-ef85-4815-be81-ac46ab8e15ae')\"\n",
              "              title=\"Convert this dataframe to an interactive table.\"\n",
              "              style=\"display:none;\">\n",
              "        \n",
              "  <svg xmlns=\"http://www.w3.org/2000/svg\" height=\"24px\"viewBox=\"0 0 24 24\"\n",
              "       width=\"24px\">\n",
              "    <path d=\"M0 0h24v24H0V0z\" fill=\"none\"/>\n",
              "    <path d=\"M18.56 5.44l.94 2.06.94-2.06 2.06-.94-2.06-.94-.94-2.06-.94 2.06-2.06.94zm-11 1L8.5 8.5l.94-2.06 2.06-.94-2.06-.94L8.5 2.5l-.94 2.06-2.06.94zm10 10l.94 2.06.94-2.06 2.06-.94-2.06-.94-.94-2.06-.94 2.06-2.06.94z\"/><path d=\"M17.41 7.96l-1.37-1.37c-.4-.4-.92-.59-1.43-.59-.52 0-1.04.2-1.43.59L10.3 9.45l-7.72 7.72c-.78.78-.78 2.05 0 2.83L4 21.41c.39.39.9.59 1.41.59.51 0 1.02-.2 1.41-.59l7.78-7.78 2.81-2.81c.8-.78.8-2.07 0-2.86zM5.41 20L4 18.59l7.72-7.72 1.47 1.35L5.41 20z\"/>\n",
              "  </svg>\n",
              "      </button>\n",
              "      \n",
              "  <style>\n",
              "    .colab-df-container {\n",
              "      display:flex;\n",
              "      flex-wrap:wrap;\n",
              "      gap: 12px;\n",
              "    }\n",
              "\n",
              "    .colab-df-convert {\n",
              "      background-color: #E8F0FE;\n",
              "      border: none;\n",
              "      border-radius: 50%;\n",
              "      cursor: pointer;\n",
              "      display: none;\n",
              "      fill: #1967D2;\n",
              "      height: 32px;\n",
              "      padding: 0 0 0 0;\n",
              "      width: 32px;\n",
              "    }\n",
              "\n",
              "    .colab-df-convert:hover {\n",
              "      background-color: #E2EBFA;\n",
              "      box-shadow: 0px 1px 2px rgba(60, 64, 67, 0.3), 0px 1px 3px 1px rgba(60, 64, 67, 0.15);\n",
              "      fill: #174EA6;\n",
              "    }\n",
              "\n",
              "    [theme=dark] .colab-df-convert {\n",
              "      background-color: #3B4455;\n",
              "      fill: #D2E3FC;\n",
              "    }\n",
              "\n",
              "    [theme=dark] .colab-df-convert:hover {\n",
              "      background-color: #434B5C;\n",
              "      box-shadow: 0px 1px 3px 1px rgba(0, 0, 0, 0.15);\n",
              "      filter: drop-shadow(0px 1px 2px rgba(0, 0, 0, 0.3));\n",
              "      fill: #FFFFFF;\n",
              "    }\n",
              "  </style>\n",
              "\n",
              "      <script>\n",
              "        const buttonEl =\n",
              "          document.querySelector('#df-1cabf095-ef85-4815-be81-ac46ab8e15ae button.colab-df-convert');\n",
              "        buttonEl.style.display =\n",
              "          google.colab.kernel.accessAllowed ? 'block' : 'none';\n",
              "\n",
              "        async function convertToInteractive(key) {\n",
              "          const element = document.querySelector('#df-1cabf095-ef85-4815-be81-ac46ab8e15ae');\n",
              "          const dataTable =\n",
              "            await google.colab.kernel.invokeFunction('convertToInteractive',\n",
              "                                                     [key], {});\n",
              "          if (!dataTable) return;\n",
              "\n",
              "          const docLinkHtml = 'Like what you see? Visit the ' +\n",
              "            '<a target=\"_blank\" href=https://colab.research.google.com/notebooks/data_table.ipynb>data table notebook</a>'\n",
              "            + ' to learn more about interactive tables.';\n",
              "          element.innerHTML = '';\n",
              "          dataTable['output_type'] = 'display_data';\n",
              "          await google.colab.output.renderOutput(dataTable, element);\n",
              "          const docLink = document.createElement('div');\n",
              "          docLink.innerHTML = docLinkHtml;\n",
              "          element.appendChild(docLink);\n",
              "        }\n",
              "      </script>\n",
              "    </div>\n",
              "  </div>\n",
              "  "
            ]
          },
          "metadata": {},
          "execution_count": 43
        }
      ]
    },
    {
      "cell_type": "markdown",
      "source": [
        "Statistical Measures\n",
        "\n",
        "Mean, Median, Standard deviation etc"
      ],
      "metadata": {
        "id": "f9g_49bv6UF8"
      }
    },
    {
      "cell_type": "code",
      "source": [
        "#counting the numbers of values in each columns of the dataset\n",
        "\n",
        "sp.count()"
      ],
      "metadata": {
        "colab": {
          "base_uri": "https://localhost:8080/"
        },
        "id": "V05c7yS96ecw",
        "outputId": "f4fa5dec-d8ae-415e-fbbc-94291ddc19b2"
      },
      "execution_count": 44,
      "outputs": [
        {
          "output_type": "execute_result",
          "data": {
            "text/plain": [
              "Pregnancies                 768\n",
              "Glucose                     768\n",
              "BloodPressure               768\n",
              "SkinThickness               768\n",
              "Insulin                     768\n",
              "BMI                         768\n",
              "DiabetesPedigreeFunction    768\n",
              "Age                         768\n",
              "Outcome                     768\n",
              "dtype: int64"
            ]
          },
          "metadata": {},
          "execution_count": 44
        }
      ]
    },
    {
      "cell_type": "code",
      "source": [
        "#Getting the mean value - column wise\n",
        "\n",
        "sp.mean()"
      ],
      "metadata": {
        "colab": {
          "base_uri": "https://localhost:8080/"
        },
        "id": "SDvDUec86xvV",
        "outputId": "0f26b67e-7fe6-4840-ee2a-fee56a0e01f7"
      },
      "execution_count": 45,
      "outputs": [
        {
          "output_type": "execute_result",
          "data": {
            "text/plain": [
              "Pregnancies                   3.845052\n",
              "Glucose                     120.894531\n",
              "BloodPressure                69.105469\n",
              "SkinThickness                20.536458\n",
              "Insulin                      79.799479\n",
              "BMI                          31.992578\n",
              "DiabetesPedigreeFunction      0.471876\n",
              "Age                          33.240885\n",
              "Outcome                       0.348958\n",
              "dtype: float64"
            ]
          },
          "metadata": {},
          "execution_count": 45
        }
      ]
    },
    {
      "cell_type": "code",
      "source": [
        "#standard deviation in each column\n",
        "sp.std()"
      ],
      "metadata": {
        "colab": {
          "base_uri": "https://localhost:8080/"
        },
        "id": "QW7Oy-7G66Di",
        "outputId": "4774bec4-20f2-4d7d-811e-c097a1f83994"
      },
      "execution_count": 46,
      "outputs": [
        {
          "output_type": "execute_result",
          "data": {
            "text/plain": [
              "Pregnancies                   3.369578\n",
              "Glucose                      31.972618\n",
              "BloodPressure                19.355807\n",
              "SkinThickness                15.952218\n",
              "Insulin                     115.244002\n",
              "BMI                           7.884160\n",
              "DiabetesPedigreeFunction      0.331329\n",
              "Age                          11.760232\n",
              "Outcome                       0.476951\n",
              "dtype: float64"
            ]
          },
          "metadata": {},
          "execution_count": 46
        }
      ]
    },
    {
      "cell_type": "code",
      "source": [
        "#minimum value in each column\n",
        "\n",
        "sp.min()"
      ],
      "metadata": {
        "colab": {
          "base_uri": "https://localhost:8080/"
        },
        "id": "Lqvl1pUl7F4-",
        "outputId": "9f552d1f-d806-4262-e4d7-89b99caa047b"
      },
      "execution_count": 47,
      "outputs": [
        {
          "output_type": "execute_result",
          "data": {
            "text/plain": [
              "Pregnancies                  0.000\n",
              "Glucose                      0.000\n",
              "BloodPressure                0.000\n",
              "SkinThickness                0.000\n",
              "Insulin                      0.000\n",
              "BMI                          0.000\n",
              "DiabetesPedigreeFunction     0.078\n",
              "Age                         21.000\n",
              "Outcome                      0.000\n",
              "dtype: float64"
            ]
          },
          "metadata": {},
          "execution_count": 47
        }
      ]
    },
    {
      "cell_type": "code",
      "source": [
        "#maximum value in each column\n",
        "\n",
        "sp.max()"
      ],
      "metadata": {
        "colab": {
          "base_uri": "https://localhost:8080/"
        },
        "id": "7gkpRlZn7ODL",
        "outputId": "6b6dd0e5-3542-4e8b-e68d-e4c39caf1f18"
      },
      "execution_count": 48,
      "outputs": [
        {
          "output_type": "execute_result",
          "data": {
            "text/plain": [
              "Pregnancies                  17.00\n",
              "Glucose                     199.00\n",
              "BloodPressure               122.00\n",
              "SkinThickness                99.00\n",
              "Insulin                     846.00\n",
              "BMI                          67.10\n",
              "DiabetesPedigreeFunction      2.42\n",
              "Age                          81.00\n",
              "Outcome                       1.00\n",
              "dtype: float64"
            ]
          },
          "metadata": {},
          "execution_count": 48
        }
      ]
    },
    {
      "cell_type": "code",
      "source": [
        "#median in each column\n",
        "\n",
        "sp.median()"
      ],
      "metadata": {
        "colab": {
          "base_uri": "https://localhost:8080/"
        },
        "id": "r7MzhwqL7W1a",
        "outputId": "bee48648-215d-483c-b863-a4adeae92c57"
      },
      "execution_count": 49,
      "outputs": [
        {
          "output_type": "execute_result",
          "data": {
            "text/plain": [
              "Pregnancies                   3.0000\n",
              "Glucose                     117.0000\n",
              "BloodPressure                72.0000\n",
              "SkinThickness                23.0000\n",
              "Insulin                      30.5000\n",
              "BMI                          32.0000\n",
              "DiabetesPedigreeFunction      0.3725\n",
              "Age                          29.0000\n",
              "Outcome                       0.0000\n",
              "dtype: float64"
            ]
          },
          "metadata": {},
          "execution_count": 49
        }
      ]
    },
    {
      "cell_type": "code",
      "source": [
        "#mode in each column\n",
        "\n",
        "sp.mode()"
      ],
      "metadata": {
        "colab": {
          "base_uri": "https://localhost:8080/",
          "height": 176
        },
        "id": "ypFHGrDy7e8z",
        "outputId": "5ae3b181-ab0a-4b19-c571-5d9bfe4bab10"
      },
      "execution_count": 50,
      "outputs": [
        {
          "output_type": "execute_result",
          "data": {
            "text/plain": [
              "   Pregnancies  Glucose  BloodPressure  SkinThickness  Insulin   BMI  \\\n",
              "0          1.0       99           70.0            0.0      0.0  32.0   \n",
              "1          NaN      100            NaN            NaN      NaN   NaN   \n",
              "\n",
              "   DiabetesPedigreeFunction   Age  Outcome  \n",
              "0                     0.254  22.0      0.0  \n",
              "1                     0.258   NaN      NaN  "
            ],
            "text/html": [
              "\n",
              "  <div id=\"df-d5d8a480-3eeb-48b7-aa75-008d71896b14\">\n",
              "    <div class=\"colab-df-container\">\n",
              "      <div>\n",
              "<style scoped>\n",
              "    .dataframe tbody tr th:only-of-type {\n",
              "        vertical-align: middle;\n",
              "    }\n",
              "\n",
              "    .dataframe tbody tr th {\n",
              "        vertical-align: top;\n",
              "    }\n",
              "\n",
              "    .dataframe thead th {\n",
              "        text-align: right;\n",
              "    }\n",
              "</style>\n",
              "<table border=\"1\" class=\"dataframe\">\n",
              "  <thead>\n",
              "    <tr style=\"text-align: right;\">\n",
              "      <th></th>\n",
              "      <th>Pregnancies</th>\n",
              "      <th>Glucose</th>\n",
              "      <th>BloodPressure</th>\n",
              "      <th>SkinThickness</th>\n",
              "      <th>Insulin</th>\n",
              "      <th>BMI</th>\n",
              "      <th>DiabetesPedigreeFunction</th>\n",
              "      <th>Age</th>\n",
              "      <th>Outcome</th>\n",
              "    </tr>\n",
              "  </thead>\n",
              "  <tbody>\n",
              "    <tr>\n",
              "      <th>0</th>\n",
              "      <td>1.0</td>\n",
              "      <td>99</td>\n",
              "      <td>70.0</td>\n",
              "      <td>0.0</td>\n",
              "      <td>0.0</td>\n",
              "      <td>32.0</td>\n",
              "      <td>0.254</td>\n",
              "      <td>22.0</td>\n",
              "      <td>0.0</td>\n",
              "    </tr>\n",
              "    <tr>\n",
              "      <th>1</th>\n",
              "      <td>NaN</td>\n",
              "      <td>100</td>\n",
              "      <td>NaN</td>\n",
              "      <td>NaN</td>\n",
              "      <td>NaN</td>\n",
              "      <td>NaN</td>\n",
              "      <td>0.258</td>\n",
              "      <td>NaN</td>\n",
              "      <td>NaN</td>\n",
              "    </tr>\n",
              "  </tbody>\n",
              "</table>\n",
              "</div>\n",
              "      <button class=\"colab-df-convert\" onclick=\"convertToInteractive('df-d5d8a480-3eeb-48b7-aa75-008d71896b14')\"\n",
              "              title=\"Convert this dataframe to an interactive table.\"\n",
              "              style=\"display:none;\">\n",
              "        \n",
              "  <svg xmlns=\"http://www.w3.org/2000/svg\" height=\"24px\"viewBox=\"0 0 24 24\"\n",
              "       width=\"24px\">\n",
              "    <path d=\"M0 0h24v24H0V0z\" fill=\"none\"/>\n",
              "    <path d=\"M18.56 5.44l.94 2.06.94-2.06 2.06-.94-2.06-.94-.94-2.06-.94 2.06-2.06.94zm-11 1L8.5 8.5l.94-2.06 2.06-.94-2.06-.94L8.5 2.5l-.94 2.06-2.06.94zm10 10l.94 2.06.94-2.06 2.06-.94-2.06-.94-.94-2.06-.94 2.06-2.06.94z\"/><path d=\"M17.41 7.96l-1.37-1.37c-.4-.4-.92-.59-1.43-.59-.52 0-1.04.2-1.43.59L10.3 9.45l-7.72 7.72c-.78.78-.78 2.05 0 2.83L4 21.41c.39.39.9.59 1.41.59.51 0 1.02-.2 1.41-.59l7.78-7.78 2.81-2.81c.8-.78.8-2.07 0-2.86zM5.41 20L4 18.59l7.72-7.72 1.47 1.35L5.41 20z\"/>\n",
              "  </svg>\n",
              "      </button>\n",
              "      \n",
              "  <style>\n",
              "    .colab-df-container {\n",
              "      display:flex;\n",
              "      flex-wrap:wrap;\n",
              "      gap: 12px;\n",
              "    }\n",
              "\n",
              "    .colab-df-convert {\n",
              "      background-color: #E8F0FE;\n",
              "      border: none;\n",
              "      border-radius: 50%;\n",
              "      cursor: pointer;\n",
              "      display: none;\n",
              "      fill: #1967D2;\n",
              "      height: 32px;\n",
              "      padding: 0 0 0 0;\n",
              "      width: 32px;\n",
              "    }\n",
              "\n",
              "    .colab-df-convert:hover {\n",
              "      background-color: #E2EBFA;\n",
              "      box-shadow: 0px 1px 2px rgba(60, 64, 67, 0.3), 0px 1px 3px 1px rgba(60, 64, 67, 0.15);\n",
              "      fill: #174EA6;\n",
              "    }\n",
              "\n",
              "    [theme=dark] .colab-df-convert {\n",
              "      background-color: #3B4455;\n",
              "      fill: #D2E3FC;\n",
              "    }\n",
              "\n",
              "    [theme=dark] .colab-df-convert:hover {\n",
              "      background-color: #434B5C;\n",
              "      box-shadow: 0px 1px 3px 1px rgba(0, 0, 0, 0.15);\n",
              "      filter: drop-shadow(0px 1px 2px rgba(0, 0, 0, 0.3));\n",
              "      fill: #FFFFFF;\n",
              "    }\n",
              "  </style>\n",
              "\n",
              "      <script>\n",
              "        const buttonEl =\n",
              "          document.querySelector('#df-d5d8a480-3eeb-48b7-aa75-008d71896b14 button.colab-df-convert');\n",
              "        buttonEl.style.display =\n",
              "          google.colab.kernel.accessAllowed ? 'block' : 'none';\n",
              "\n",
              "        async function convertToInteractive(key) {\n",
              "          const element = document.querySelector('#df-d5d8a480-3eeb-48b7-aa75-008d71896b14');\n",
              "          const dataTable =\n",
              "            await google.colab.kernel.invokeFunction('convertToInteractive',\n",
              "                                                     [key], {});\n",
              "          if (!dataTable) return;\n",
              "\n",
              "          const docLinkHtml = 'Like what you see? Visit the ' +\n",
              "            '<a target=\"_blank\" href=https://colab.research.google.com/notebooks/data_table.ipynb>data table notebook</a>'\n",
              "            + ' to learn more about interactive tables.';\n",
              "          element.innerHTML = '';\n",
              "          dataTable['output_type'] = 'display_data';\n",
              "          await google.colab.output.renderOutput(dataTable, element);\n",
              "          const docLink = document.createElement('div');\n",
              "          docLink.innerHTML = docLinkHtml;\n",
              "          element.appendChild(docLink);\n",
              "        }\n",
              "      </script>\n",
              "    </div>\n",
              "  </div>\n",
              "  "
            ]
          },
          "metadata": {},
          "execution_count": 50
        }
      ]
    },
    {
      "cell_type": "code",
      "source": [
        "#variance in each column\n",
        "\n",
        "sp.var()"
      ],
      "metadata": {
        "colab": {
          "base_uri": "https://localhost:8080/"
        },
        "id": "PexwAMo_7t7i",
        "outputId": "adc1da1d-e415-4f54-9e6f-ebf977140909"
      },
      "execution_count": 51,
      "outputs": [
        {
          "output_type": "execute_result",
          "data": {
            "text/plain": [
              "Pregnancies                    11.354056\n",
              "Glucose                      1022.248314\n",
              "BloodPressure                 374.647271\n",
              "SkinThickness                 254.473245\n",
              "Insulin                     13281.180078\n",
              "BMI                            62.159984\n",
              "DiabetesPedigreeFunction        0.109779\n",
              "Age                           138.303046\n",
              "Outcome                         0.227483\n",
              "dtype: float64"
            ]
          },
          "metadata": {},
          "execution_count": 51
        }
      ]
    },
    {
      "cell_type": "code",
      "source": [
        "# Getting all the statistical Measures in one table\n",
        "\n",
        "sp.describe()"
      ],
      "metadata": {
        "colab": {
          "base_uri": "https://localhost:8080/",
          "height": 364
        },
        "id": "xeCDjQ0w72sc",
        "outputId": "3b6518f6-137c-48b0-a156-9c3027fd3b2f"
      },
      "execution_count": 52,
      "outputs": [
        {
          "output_type": "execute_result",
          "data": {
            "text/plain": [
              "       Pregnancies     Glucose  BloodPressure  SkinThickness     Insulin  \\\n",
              "count   768.000000  768.000000     768.000000     768.000000  768.000000   \n",
              "mean      3.845052  120.894531      69.105469      20.536458   79.799479   \n",
              "std       3.369578   31.972618      19.355807      15.952218  115.244002   \n",
              "min       0.000000    0.000000       0.000000       0.000000    0.000000   \n",
              "25%       1.000000   99.000000      62.000000       0.000000    0.000000   \n",
              "50%       3.000000  117.000000      72.000000      23.000000   30.500000   \n",
              "75%       6.000000  140.250000      80.000000      32.000000  127.250000   \n",
              "max      17.000000  199.000000     122.000000      99.000000  846.000000   \n",
              "\n",
              "              BMI  DiabetesPedigreeFunction         Age     Outcome  \n",
              "count  768.000000                768.000000  768.000000  768.000000  \n",
              "mean    31.992578                  0.471876   33.240885    0.348958  \n",
              "std      7.884160                  0.331329   11.760232    0.476951  \n",
              "min      0.000000                  0.078000   21.000000    0.000000  \n",
              "25%     27.300000                  0.243750   24.000000    0.000000  \n",
              "50%     32.000000                  0.372500   29.000000    0.000000  \n",
              "75%     36.600000                  0.626250   41.000000    1.000000  \n",
              "max     67.100000                  2.420000   81.000000    1.000000  "
            ],
            "text/html": [
              "\n",
              "  <div id=\"df-e17fe3bd-b917-4f74-bd58-78396a86fb41\">\n",
              "    <div class=\"colab-df-container\">\n",
              "      <div>\n",
              "<style scoped>\n",
              "    .dataframe tbody tr th:only-of-type {\n",
              "        vertical-align: middle;\n",
              "    }\n",
              "\n",
              "    .dataframe tbody tr th {\n",
              "        vertical-align: top;\n",
              "    }\n",
              "\n",
              "    .dataframe thead th {\n",
              "        text-align: right;\n",
              "    }\n",
              "</style>\n",
              "<table border=\"1\" class=\"dataframe\">\n",
              "  <thead>\n",
              "    <tr style=\"text-align: right;\">\n",
              "      <th></th>\n",
              "      <th>Pregnancies</th>\n",
              "      <th>Glucose</th>\n",
              "      <th>BloodPressure</th>\n",
              "      <th>SkinThickness</th>\n",
              "      <th>Insulin</th>\n",
              "      <th>BMI</th>\n",
              "      <th>DiabetesPedigreeFunction</th>\n",
              "      <th>Age</th>\n",
              "      <th>Outcome</th>\n",
              "    </tr>\n",
              "  </thead>\n",
              "  <tbody>\n",
              "    <tr>\n",
              "      <th>count</th>\n",
              "      <td>768.000000</td>\n",
              "      <td>768.000000</td>\n",
              "      <td>768.000000</td>\n",
              "      <td>768.000000</td>\n",
              "      <td>768.000000</td>\n",
              "      <td>768.000000</td>\n",
              "      <td>768.000000</td>\n",
              "      <td>768.000000</td>\n",
              "      <td>768.000000</td>\n",
              "    </tr>\n",
              "    <tr>\n",
              "      <th>mean</th>\n",
              "      <td>3.845052</td>\n",
              "      <td>120.894531</td>\n",
              "      <td>69.105469</td>\n",
              "      <td>20.536458</td>\n",
              "      <td>79.799479</td>\n",
              "      <td>31.992578</td>\n",
              "      <td>0.471876</td>\n",
              "      <td>33.240885</td>\n",
              "      <td>0.348958</td>\n",
              "    </tr>\n",
              "    <tr>\n",
              "      <th>std</th>\n",
              "      <td>3.369578</td>\n",
              "      <td>31.972618</td>\n",
              "      <td>19.355807</td>\n",
              "      <td>15.952218</td>\n",
              "      <td>115.244002</td>\n",
              "      <td>7.884160</td>\n",
              "      <td>0.331329</td>\n",
              "      <td>11.760232</td>\n",
              "      <td>0.476951</td>\n",
              "    </tr>\n",
              "    <tr>\n",
              "      <th>min</th>\n",
              "      <td>0.000000</td>\n",
              "      <td>0.000000</td>\n",
              "      <td>0.000000</td>\n",
              "      <td>0.000000</td>\n",
              "      <td>0.000000</td>\n",
              "      <td>0.000000</td>\n",
              "      <td>0.078000</td>\n",
              "      <td>21.000000</td>\n",
              "      <td>0.000000</td>\n",
              "    </tr>\n",
              "    <tr>\n",
              "      <th>25%</th>\n",
              "      <td>1.000000</td>\n",
              "      <td>99.000000</td>\n",
              "      <td>62.000000</td>\n",
              "      <td>0.000000</td>\n",
              "      <td>0.000000</td>\n",
              "      <td>27.300000</td>\n",
              "      <td>0.243750</td>\n",
              "      <td>24.000000</td>\n",
              "      <td>0.000000</td>\n",
              "    </tr>\n",
              "    <tr>\n",
              "      <th>50%</th>\n",
              "      <td>3.000000</td>\n",
              "      <td>117.000000</td>\n",
              "      <td>72.000000</td>\n",
              "      <td>23.000000</td>\n",
              "      <td>30.500000</td>\n",
              "      <td>32.000000</td>\n",
              "      <td>0.372500</td>\n",
              "      <td>29.000000</td>\n",
              "      <td>0.000000</td>\n",
              "    </tr>\n",
              "    <tr>\n",
              "      <th>75%</th>\n",
              "      <td>6.000000</td>\n",
              "      <td>140.250000</td>\n",
              "      <td>80.000000</td>\n",
              "      <td>32.000000</td>\n",
              "      <td>127.250000</td>\n",
              "      <td>36.600000</td>\n",
              "      <td>0.626250</td>\n",
              "      <td>41.000000</td>\n",
              "      <td>1.000000</td>\n",
              "    </tr>\n",
              "    <tr>\n",
              "      <th>max</th>\n",
              "      <td>17.000000</td>\n",
              "      <td>199.000000</td>\n",
              "      <td>122.000000</td>\n",
              "      <td>99.000000</td>\n",
              "      <td>846.000000</td>\n",
              "      <td>67.100000</td>\n",
              "      <td>2.420000</td>\n",
              "      <td>81.000000</td>\n",
              "      <td>1.000000</td>\n",
              "    </tr>\n",
              "  </tbody>\n",
              "</table>\n",
              "</div>\n",
              "      <button class=\"colab-df-convert\" onclick=\"convertToInteractive('df-e17fe3bd-b917-4f74-bd58-78396a86fb41')\"\n",
              "              title=\"Convert this dataframe to an interactive table.\"\n",
              "              style=\"display:none;\">\n",
              "        \n",
              "  <svg xmlns=\"http://www.w3.org/2000/svg\" height=\"24px\"viewBox=\"0 0 24 24\"\n",
              "       width=\"24px\">\n",
              "    <path d=\"M0 0h24v24H0V0z\" fill=\"none\"/>\n",
              "    <path d=\"M18.56 5.44l.94 2.06.94-2.06 2.06-.94-2.06-.94-.94-2.06-.94 2.06-2.06.94zm-11 1L8.5 8.5l.94-2.06 2.06-.94-2.06-.94L8.5 2.5l-.94 2.06-2.06.94zm10 10l.94 2.06.94-2.06 2.06-.94-2.06-.94-.94-2.06-.94 2.06-2.06.94z\"/><path d=\"M17.41 7.96l-1.37-1.37c-.4-.4-.92-.59-1.43-.59-.52 0-1.04.2-1.43.59L10.3 9.45l-7.72 7.72c-.78.78-.78 2.05 0 2.83L4 21.41c.39.39.9.59 1.41.59.51 0 1.02-.2 1.41-.59l7.78-7.78 2.81-2.81c.8-.78.8-2.07 0-2.86zM5.41 20L4 18.59l7.72-7.72 1.47 1.35L5.41 20z\"/>\n",
              "  </svg>\n",
              "      </button>\n",
              "      \n",
              "  <style>\n",
              "    .colab-df-container {\n",
              "      display:flex;\n",
              "      flex-wrap:wrap;\n",
              "      gap: 12px;\n",
              "    }\n",
              "\n",
              "    .colab-df-convert {\n",
              "      background-color: #E8F0FE;\n",
              "      border: none;\n",
              "      border-radius: 50%;\n",
              "      cursor: pointer;\n",
              "      display: none;\n",
              "      fill: #1967D2;\n",
              "      height: 32px;\n",
              "      padding: 0 0 0 0;\n",
              "      width: 32px;\n",
              "    }\n",
              "\n",
              "    .colab-df-convert:hover {\n",
              "      background-color: #E2EBFA;\n",
              "      box-shadow: 0px 1px 2px rgba(60, 64, 67, 0.3), 0px 1px 3px 1px rgba(60, 64, 67, 0.15);\n",
              "      fill: #174EA6;\n",
              "    }\n",
              "\n",
              "    [theme=dark] .colab-df-convert {\n",
              "      background-color: #3B4455;\n",
              "      fill: #D2E3FC;\n",
              "    }\n",
              "\n",
              "    [theme=dark] .colab-df-convert:hover {\n",
              "      background-color: #434B5C;\n",
              "      box-shadow: 0px 1px 3px 1px rgba(0, 0, 0, 0.15);\n",
              "      filter: drop-shadow(0px 1px 2px rgba(0, 0, 0, 0.3));\n",
              "      fill: #FFFFFF;\n",
              "    }\n",
              "  </style>\n",
              "\n",
              "      <script>\n",
              "        const buttonEl =\n",
              "          document.querySelector('#df-e17fe3bd-b917-4f74-bd58-78396a86fb41 button.colab-df-convert');\n",
              "        buttonEl.style.display =\n",
              "          google.colab.kernel.accessAllowed ? 'block' : 'none';\n",
              "\n",
              "        async function convertToInteractive(key) {\n",
              "          const element = document.querySelector('#df-e17fe3bd-b917-4f74-bd58-78396a86fb41');\n",
              "          const dataTable =\n",
              "            await google.colab.kernel.invokeFunction('convertToInteractive',\n",
              "                                                     [key], {});\n",
              "          if (!dataTable) return;\n",
              "\n",
              "          const docLinkHtml = 'Like what you see? Visit the ' +\n",
              "            '<a target=\"_blank\" href=https://colab.research.google.com/notebooks/data_table.ipynb>data table notebook</a>'\n",
              "            + ' to learn more about interactive tables.';\n",
              "          element.innerHTML = '';\n",
              "          dataTable['output_type'] = 'display_data';\n",
              "          await google.colab.output.renderOutput(dataTable, element);\n",
              "          const docLink = document.createElement('div');\n",
              "          docLink.innerHTML = docLinkHtml;\n",
              "          element.appendChild(docLink);\n",
              "        }\n",
              "      </script>\n",
              "    </div>\n",
              "  </div>\n",
              "  "
            ]
          },
          "metadata": {},
          "execution_count": 52
        }
      ]
    },
    {
      "cell_type": "markdown",
      "source": [
        "Manipulating the Dataset"
      ],
      "metadata": {
        "id": "ErE4z7gk8Pj6"
      }
    },
    {
      "cell_type": "markdown",
      "source": [
        "Adding a column to the dataset\n",
        "\n",
        "sp['headings to add'] = sp.elements in the dataset that has no heading "
      ],
      "metadata": {
        "id": "8rRfbM2V94Rn"
      }
    },
    {
      "cell_type": "code",
      "source": [
        "#removing row or columns to the dataset\n",
        "sp.drop(index=0,axis=0) #removing rows by stating the index and axis\n",
        "\n"
      ],
      "metadata": {
        "colab": {
          "base_uri": "https://localhost:8080/",
          "height": 487
        },
        "id": "4FgvvRbZ91b2",
        "outputId": "3996832d-9a36-4e97-bcac-b53251bc7757"
      },
      "execution_count": 55,
      "outputs": [
        {
          "output_type": "execute_result",
          "data": {
            "text/plain": [
              "     Pregnancies  Glucose  BloodPressure  SkinThickness  Insulin   BMI  \\\n",
              "1              1       85             66             29        0  26.6   \n",
              "2              8      183             64              0        0  23.3   \n",
              "3              1       89             66             23       94  28.1   \n",
              "4              0      137             40             35      168  43.1   \n",
              "5              5      116             74              0        0  25.6   \n",
              "..           ...      ...            ...            ...      ...   ...   \n",
              "763           10      101             76             48      180  32.9   \n",
              "764            2      122             70             27        0  36.8   \n",
              "765            5      121             72             23      112  26.2   \n",
              "766            1      126             60              0        0  30.1   \n",
              "767            1       93             70             31        0  30.4   \n",
              "\n",
              "     DiabetesPedigreeFunction  Age  Outcome  \n",
              "1                       0.351   31        0  \n",
              "2                       0.672   32        1  \n",
              "3                       0.167   21        0  \n",
              "4                       2.288   33        1  \n",
              "5                       0.201   30        0  \n",
              "..                        ...  ...      ...  \n",
              "763                     0.171   63        0  \n",
              "764                     0.340   27        0  \n",
              "765                     0.245   30        0  \n",
              "766                     0.349   47        1  \n",
              "767                     0.315   23        0  \n",
              "\n",
              "[767 rows x 9 columns]"
            ],
            "text/html": [
              "\n",
              "  <div id=\"df-858ffac6-7d2e-4491-bc8b-6f915f113c21\">\n",
              "    <div class=\"colab-df-container\">\n",
              "      <div>\n",
              "<style scoped>\n",
              "    .dataframe tbody tr th:only-of-type {\n",
              "        vertical-align: middle;\n",
              "    }\n",
              "\n",
              "    .dataframe tbody tr th {\n",
              "        vertical-align: top;\n",
              "    }\n",
              "\n",
              "    .dataframe thead th {\n",
              "        text-align: right;\n",
              "    }\n",
              "</style>\n",
              "<table border=\"1\" class=\"dataframe\">\n",
              "  <thead>\n",
              "    <tr style=\"text-align: right;\">\n",
              "      <th></th>\n",
              "      <th>Pregnancies</th>\n",
              "      <th>Glucose</th>\n",
              "      <th>BloodPressure</th>\n",
              "      <th>SkinThickness</th>\n",
              "      <th>Insulin</th>\n",
              "      <th>BMI</th>\n",
              "      <th>DiabetesPedigreeFunction</th>\n",
              "      <th>Age</th>\n",
              "      <th>Outcome</th>\n",
              "    </tr>\n",
              "  </thead>\n",
              "  <tbody>\n",
              "    <tr>\n",
              "      <th>1</th>\n",
              "      <td>1</td>\n",
              "      <td>85</td>\n",
              "      <td>66</td>\n",
              "      <td>29</td>\n",
              "      <td>0</td>\n",
              "      <td>26.6</td>\n",
              "      <td>0.351</td>\n",
              "      <td>31</td>\n",
              "      <td>0</td>\n",
              "    </tr>\n",
              "    <tr>\n",
              "      <th>2</th>\n",
              "      <td>8</td>\n",
              "      <td>183</td>\n",
              "      <td>64</td>\n",
              "      <td>0</td>\n",
              "      <td>0</td>\n",
              "      <td>23.3</td>\n",
              "      <td>0.672</td>\n",
              "      <td>32</td>\n",
              "      <td>1</td>\n",
              "    </tr>\n",
              "    <tr>\n",
              "      <th>3</th>\n",
              "      <td>1</td>\n",
              "      <td>89</td>\n",
              "      <td>66</td>\n",
              "      <td>23</td>\n",
              "      <td>94</td>\n",
              "      <td>28.1</td>\n",
              "      <td>0.167</td>\n",
              "      <td>21</td>\n",
              "      <td>0</td>\n",
              "    </tr>\n",
              "    <tr>\n",
              "      <th>4</th>\n",
              "      <td>0</td>\n",
              "      <td>137</td>\n",
              "      <td>40</td>\n",
              "      <td>35</td>\n",
              "      <td>168</td>\n",
              "      <td>43.1</td>\n",
              "      <td>2.288</td>\n",
              "      <td>33</td>\n",
              "      <td>1</td>\n",
              "    </tr>\n",
              "    <tr>\n",
              "      <th>5</th>\n",
              "      <td>5</td>\n",
              "      <td>116</td>\n",
              "      <td>74</td>\n",
              "      <td>0</td>\n",
              "      <td>0</td>\n",
              "      <td>25.6</td>\n",
              "      <td>0.201</td>\n",
              "      <td>30</td>\n",
              "      <td>0</td>\n",
              "    </tr>\n",
              "    <tr>\n",
              "      <th>...</th>\n",
              "      <td>...</td>\n",
              "      <td>...</td>\n",
              "      <td>...</td>\n",
              "      <td>...</td>\n",
              "      <td>...</td>\n",
              "      <td>...</td>\n",
              "      <td>...</td>\n",
              "      <td>...</td>\n",
              "      <td>...</td>\n",
              "    </tr>\n",
              "    <tr>\n",
              "      <th>763</th>\n",
              "      <td>10</td>\n",
              "      <td>101</td>\n",
              "      <td>76</td>\n",
              "      <td>48</td>\n",
              "      <td>180</td>\n",
              "      <td>32.9</td>\n",
              "      <td>0.171</td>\n",
              "      <td>63</td>\n",
              "      <td>0</td>\n",
              "    </tr>\n",
              "    <tr>\n",
              "      <th>764</th>\n",
              "      <td>2</td>\n",
              "      <td>122</td>\n",
              "      <td>70</td>\n",
              "      <td>27</td>\n",
              "      <td>0</td>\n",
              "      <td>36.8</td>\n",
              "      <td>0.340</td>\n",
              "      <td>27</td>\n",
              "      <td>0</td>\n",
              "    </tr>\n",
              "    <tr>\n",
              "      <th>765</th>\n",
              "      <td>5</td>\n",
              "      <td>121</td>\n",
              "      <td>72</td>\n",
              "      <td>23</td>\n",
              "      <td>112</td>\n",
              "      <td>26.2</td>\n",
              "      <td>0.245</td>\n",
              "      <td>30</td>\n",
              "      <td>0</td>\n",
              "    </tr>\n",
              "    <tr>\n",
              "      <th>766</th>\n",
              "      <td>1</td>\n",
              "      <td>126</td>\n",
              "      <td>60</td>\n",
              "      <td>0</td>\n",
              "      <td>0</td>\n",
              "      <td>30.1</td>\n",
              "      <td>0.349</td>\n",
              "      <td>47</td>\n",
              "      <td>1</td>\n",
              "    </tr>\n",
              "    <tr>\n",
              "      <th>767</th>\n",
              "      <td>1</td>\n",
              "      <td>93</td>\n",
              "      <td>70</td>\n",
              "      <td>31</td>\n",
              "      <td>0</td>\n",
              "      <td>30.4</td>\n",
              "      <td>0.315</td>\n",
              "      <td>23</td>\n",
              "      <td>0</td>\n",
              "    </tr>\n",
              "  </tbody>\n",
              "</table>\n",
              "<p>767 rows × 9 columns</p>\n",
              "</div>\n",
              "      <button class=\"colab-df-convert\" onclick=\"convertToInteractive('df-858ffac6-7d2e-4491-bc8b-6f915f113c21')\"\n",
              "              title=\"Convert this dataframe to an interactive table.\"\n",
              "              style=\"display:none;\">\n",
              "        \n",
              "  <svg xmlns=\"http://www.w3.org/2000/svg\" height=\"24px\"viewBox=\"0 0 24 24\"\n",
              "       width=\"24px\">\n",
              "    <path d=\"M0 0h24v24H0V0z\" fill=\"none\"/>\n",
              "    <path d=\"M18.56 5.44l.94 2.06.94-2.06 2.06-.94-2.06-.94-.94-2.06-.94 2.06-2.06.94zm-11 1L8.5 8.5l.94-2.06 2.06-.94-2.06-.94L8.5 2.5l-.94 2.06-2.06.94zm10 10l.94 2.06.94-2.06 2.06-.94-2.06-.94-.94-2.06-.94 2.06-2.06.94z\"/><path d=\"M17.41 7.96l-1.37-1.37c-.4-.4-.92-.59-1.43-.59-.52 0-1.04.2-1.43.59L10.3 9.45l-7.72 7.72c-.78.78-.78 2.05 0 2.83L4 21.41c.39.39.9.59 1.41.59.51 0 1.02-.2 1.41-.59l7.78-7.78 2.81-2.81c.8-.78.8-2.07 0-2.86zM5.41 20L4 18.59l7.72-7.72 1.47 1.35L5.41 20z\"/>\n",
              "  </svg>\n",
              "      </button>\n",
              "      \n",
              "  <style>\n",
              "    .colab-df-container {\n",
              "      display:flex;\n",
              "      flex-wrap:wrap;\n",
              "      gap: 12px;\n",
              "    }\n",
              "\n",
              "    .colab-df-convert {\n",
              "      background-color: #E8F0FE;\n",
              "      border: none;\n",
              "      border-radius: 50%;\n",
              "      cursor: pointer;\n",
              "      display: none;\n",
              "      fill: #1967D2;\n",
              "      height: 32px;\n",
              "      padding: 0 0 0 0;\n",
              "      width: 32px;\n",
              "    }\n",
              "\n",
              "    .colab-df-convert:hover {\n",
              "      background-color: #E2EBFA;\n",
              "      box-shadow: 0px 1px 2px rgba(60, 64, 67, 0.3), 0px 1px 3px 1px rgba(60, 64, 67, 0.15);\n",
              "      fill: #174EA6;\n",
              "    }\n",
              "\n",
              "    [theme=dark] .colab-df-convert {\n",
              "      background-color: #3B4455;\n",
              "      fill: #D2E3FC;\n",
              "    }\n",
              "\n",
              "    [theme=dark] .colab-df-convert:hover {\n",
              "      background-color: #434B5C;\n",
              "      box-shadow: 0px 1px 3px 1px rgba(0, 0, 0, 0.15);\n",
              "      filter: drop-shadow(0px 1px 2px rgba(0, 0, 0, 0.3));\n",
              "      fill: #FFFFFF;\n",
              "    }\n",
              "  </style>\n",
              "\n",
              "      <script>\n",
              "        const buttonEl =\n",
              "          document.querySelector('#df-858ffac6-7d2e-4491-bc8b-6f915f113c21 button.colab-df-convert');\n",
              "        buttonEl.style.display =\n",
              "          google.colab.kernel.accessAllowed ? 'block' : 'none';\n",
              "\n",
              "        async function convertToInteractive(key) {\n",
              "          const element = document.querySelector('#df-858ffac6-7d2e-4491-bc8b-6f915f113c21');\n",
              "          const dataTable =\n",
              "            await google.colab.kernel.invokeFunction('convertToInteractive',\n",
              "                                                     [key], {});\n",
              "          if (!dataTable) return;\n",
              "\n",
              "          const docLinkHtml = 'Like what you see? Visit the ' +\n",
              "            '<a target=\"_blank\" href=https://colab.research.google.com/notebooks/data_table.ipynb>data table notebook</a>'\n",
              "            + ' to learn more about interactive tables.';\n",
              "          element.innerHTML = '';\n",
              "          dataTable['output_type'] = 'display_data';\n",
              "          await google.colab.output.renderOutput(dataTable, element);\n",
              "          const docLink = document.createElement('div');\n",
              "          docLink.innerHTML = docLinkHtml;\n",
              "          element.appendChild(docLink);\n",
              "        }\n",
              "      </script>\n",
              "    </div>\n",
              "  </div>\n",
              "  "
            ]
          },
          "metadata": {},
          "execution_count": 55
        }
      ]
    },
    {
      "cell_type": "code",
      "source": [
        "#removing column\n",
        "\n",
        "sp.drop(columns='SkinThickness', axis=1)"
      ],
      "metadata": {
        "colab": {
          "base_uri": "https://localhost:8080/",
          "height": 487
        },
        "id": "BtsPncheGD6E",
        "outputId": "4735b7c8-73fb-4c44-8576-fdc82cec65a7"
      },
      "execution_count": 57,
      "outputs": [
        {
          "output_type": "execute_result",
          "data": {
            "text/plain": [
              "     Pregnancies  Glucose  BloodPressure  Insulin   BMI  \\\n",
              "0              6      148             72        0  33.6   \n",
              "1              1       85             66        0  26.6   \n",
              "2              8      183             64        0  23.3   \n",
              "3              1       89             66       94  28.1   \n",
              "4              0      137             40      168  43.1   \n",
              "..           ...      ...            ...      ...   ...   \n",
              "763           10      101             76      180  32.9   \n",
              "764            2      122             70        0  36.8   \n",
              "765            5      121             72      112  26.2   \n",
              "766            1      126             60        0  30.1   \n",
              "767            1       93             70        0  30.4   \n",
              "\n",
              "     DiabetesPedigreeFunction  Age  Outcome  \n",
              "0                       0.627   50        1  \n",
              "1                       0.351   31        0  \n",
              "2                       0.672   32        1  \n",
              "3                       0.167   21        0  \n",
              "4                       2.288   33        1  \n",
              "..                        ...  ...      ...  \n",
              "763                     0.171   63        0  \n",
              "764                     0.340   27        0  \n",
              "765                     0.245   30        0  \n",
              "766                     0.349   47        1  \n",
              "767                     0.315   23        0  \n",
              "\n",
              "[768 rows x 8 columns]"
            ],
            "text/html": [
              "\n",
              "  <div id=\"df-95820f38-cb24-423a-971f-fe608ae93406\">\n",
              "    <div class=\"colab-df-container\">\n",
              "      <div>\n",
              "<style scoped>\n",
              "    .dataframe tbody tr th:only-of-type {\n",
              "        vertical-align: middle;\n",
              "    }\n",
              "\n",
              "    .dataframe tbody tr th {\n",
              "        vertical-align: top;\n",
              "    }\n",
              "\n",
              "    .dataframe thead th {\n",
              "        text-align: right;\n",
              "    }\n",
              "</style>\n",
              "<table border=\"1\" class=\"dataframe\">\n",
              "  <thead>\n",
              "    <tr style=\"text-align: right;\">\n",
              "      <th></th>\n",
              "      <th>Pregnancies</th>\n",
              "      <th>Glucose</th>\n",
              "      <th>BloodPressure</th>\n",
              "      <th>Insulin</th>\n",
              "      <th>BMI</th>\n",
              "      <th>DiabetesPedigreeFunction</th>\n",
              "      <th>Age</th>\n",
              "      <th>Outcome</th>\n",
              "    </tr>\n",
              "  </thead>\n",
              "  <tbody>\n",
              "    <tr>\n",
              "      <th>0</th>\n",
              "      <td>6</td>\n",
              "      <td>148</td>\n",
              "      <td>72</td>\n",
              "      <td>0</td>\n",
              "      <td>33.6</td>\n",
              "      <td>0.627</td>\n",
              "      <td>50</td>\n",
              "      <td>1</td>\n",
              "    </tr>\n",
              "    <tr>\n",
              "      <th>1</th>\n",
              "      <td>1</td>\n",
              "      <td>85</td>\n",
              "      <td>66</td>\n",
              "      <td>0</td>\n",
              "      <td>26.6</td>\n",
              "      <td>0.351</td>\n",
              "      <td>31</td>\n",
              "      <td>0</td>\n",
              "    </tr>\n",
              "    <tr>\n",
              "      <th>2</th>\n",
              "      <td>8</td>\n",
              "      <td>183</td>\n",
              "      <td>64</td>\n",
              "      <td>0</td>\n",
              "      <td>23.3</td>\n",
              "      <td>0.672</td>\n",
              "      <td>32</td>\n",
              "      <td>1</td>\n",
              "    </tr>\n",
              "    <tr>\n",
              "      <th>3</th>\n",
              "      <td>1</td>\n",
              "      <td>89</td>\n",
              "      <td>66</td>\n",
              "      <td>94</td>\n",
              "      <td>28.1</td>\n",
              "      <td>0.167</td>\n",
              "      <td>21</td>\n",
              "      <td>0</td>\n",
              "    </tr>\n",
              "    <tr>\n",
              "      <th>4</th>\n",
              "      <td>0</td>\n",
              "      <td>137</td>\n",
              "      <td>40</td>\n",
              "      <td>168</td>\n",
              "      <td>43.1</td>\n",
              "      <td>2.288</td>\n",
              "      <td>33</td>\n",
              "      <td>1</td>\n",
              "    </tr>\n",
              "    <tr>\n",
              "      <th>...</th>\n",
              "      <td>...</td>\n",
              "      <td>...</td>\n",
              "      <td>...</td>\n",
              "      <td>...</td>\n",
              "      <td>...</td>\n",
              "      <td>...</td>\n",
              "      <td>...</td>\n",
              "      <td>...</td>\n",
              "    </tr>\n",
              "    <tr>\n",
              "      <th>763</th>\n",
              "      <td>10</td>\n",
              "      <td>101</td>\n",
              "      <td>76</td>\n",
              "      <td>180</td>\n",
              "      <td>32.9</td>\n",
              "      <td>0.171</td>\n",
              "      <td>63</td>\n",
              "      <td>0</td>\n",
              "    </tr>\n",
              "    <tr>\n",
              "      <th>764</th>\n",
              "      <td>2</td>\n",
              "      <td>122</td>\n",
              "      <td>70</td>\n",
              "      <td>0</td>\n",
              "      <td>36.8</td>\n",
              "      <td>0.340</td>\n",
              "      <td>27</td>\n",
              "      <td>0</td>\n",
              "    </tr>\n",
              "    <tr>\n",
              "      <th>765</th>\n",
              "      <td>5</td>\n",
              "      <td>121</td>\n",
              "      <td>72</td>\n",
              "      <td>112</td>\n",
              "      <td>26.2</td>\n",
              "      <td>0.245</td>\n",
              "      <td>30</td>\n",
              "      <td>0</td>\n",
              "    </tr>\n",
              "    <tr>\n",
              "      <th>766</th>\n",
              "      <td>1</td>\n",
              "      <td>126</td>\n",
              "      <td>60</td>\n",
              "      <td>0</td>\n",
              "      <td>30.1</td>\n",
              "      <td>0.349</td>\n",
              "      <td>47</td>\n",
              "      <td>1</td>\n",
              "    </tr>\n",
              "    <tr>\n",
              "      <th>767</th>\n",
              "      <td>1</td>\n",
              "      <td>93</td>\n",
              "      <td>70</td>\n",
              "      <td>0</td>\n",
              "      <td>30.4</td>\n",
              "      <td>0.315</td>\n",
              "      <td>23</td>\n",
              "      <td>0</td>\n",
              "    </tr>\n",
              "  </tbody>\n",
              "</table>\n",
              "<p>768 rows × 8 columns</p>\n",
              "</div>\n",
              "      <button class=\"colab-df-convert\" onclick=\"convertToInteractive('df-95820f38-cb24-423a-971f-fe608ae93406')\"\n",
              "              title=\"Convert this dataframe to an interactive table.\"\n",
              "              style=\"display:none;\">\n",
              "        \n",
              "  <svg xmlns=\"http://www.w3.org/2000/svg\" height=\"24px\"viewBox=\"0 0 24 24\"\n",
              "       width=\"24px\">\n",
              "    <path d=\"M0 0h24v24H0V0z\" fill=\"none\"/>\n",
              "    <path d=\"M18.56 5.44l.94 2.06.94-2.06 2.06-.94-2.06-.94-.94-2.06-.94 2.06-2.06.94zm-11 1L8.5 8.5l.94-2.06 2.06-.94-2.06-.94L8.5 2.5l-.94 2.06-2.06.94zm10 10l.94 2.06.94-2.06 2.06-.94-2.06-.94-.94-2.06-.94 2.06-2.06.94z\"/><path d=\"M17.41 7.96l-1.37-1.37c-.4-.4-.92-.59-1.43-.59-.52 0-1.04.2-1.43.59L10.3 9.45l-7.72 7.72c-.78.78-.78 2.05 0 2.83L4 21.41c.39.39.9.59 1.41.59.51 0 1.02-.2 1.41-.59l7.78-7.78 2.81-2.81c.8-.78.8-2.07 0-2.86zM5.41 20L4 18.59l7.72-7.72 1.47 1.35L5.41 20z\"/>\n",
              "  </svg>\n",
              "      </button>\n",
              "      \n",
              "  <style>\n",
              "    .colab-df-container {\n",
              "      display:flex;\n",
              "      flex-wrap:wrap;\n",
              "      gap: 12px;\n",
              "    }\n",
              "\n",
              "    .colab-df-convert {\n",
              "      background-color: #E8F0FE;\n",
              "      border: none;\n",
              "      border-radius: 50%;\n",
              "      cursor: pointer;\n",
              "      display: none;\n",
              "      fill: #1967D2;\n",
              "      height: 32px;\n",
              "      padding: 0 0 0 0;\n",
              "      width: 32px;\n",
              "    }\n",
              "\n",
              "    .colab-df-convert:hover {\n",
              "      background-color: #E2EBFA;\n",
              "      box-shadow: 0px 1px 2px rgba(60, 64, 67, 0.3), 0px 1px 3px 1px rgba(60, 64, 67, 0.15);\n",
              "      fill: #174EA6;\n",
              "    }\n",
              "\n",
              "    [theme=dark] .colab-df-convert {\n",
              "      background-color: #3B4455;\n",
              "      fill: #D2E3FC;\n",
              "    }\n",
              "\n",
              "    [theme=dark] .colab-df-convert:hover {\n",
              "      background-color: #434B5C;\n",
              "      box-shadow: 0px 1px 3px 1px rgba(0, 0, 0, 0.15);\n",
              "      filter: drop-shadow(0px 1px 2px rgba(0, 0, 0, 0.3));\n",
              "      fill: #FFFFFF;\n",
              "    }\n",
              "  </style>\n",
              "\n",
              "      <script>\n",
              "        const buttonEl =\n",
              "          document.querySelector('#df-95820f38-cb24-423a-971f-fe608ae93406 button.colab-df-convert');\n",
              "        buttonEl.style.display =\n",
              "          google.colab.kernel.accessAllowed ? 'block' : 'none';\n",
              "\n",
              "        async function convertToInteractive(key) {\n",
              "          const element = document.querySelector('#df-95820f38-cb24-423a-971f-fe608ae93406');\n",
              "          const dataTable =\n",
              "            await google.colab.kernel.invokeFunction('convertToInteractive',\n",
              "                                                     [key], {});\n",
              "          if (!dataTable) return;\n",
              "\n",
              "          const docLinkHtml = 'Like what you see? Visit the ' +\n",
              "            '<a target=\"_blank\" href=https://colab.research.google.com/notebooks/data_table.ipynb>data table notebook</a>'\n",
              "            + ' to learn more about interactive tables.';\n",
              "          element.innerHTML = '';\n",
              "          dataTable['output_type'] = 'display_data';\n",
              "          await google.colab.output.renderOutput(dataTable, element);\n",
              "          const docLink = document.createElement('div');\n",
              "          docLink.innerHTML = docLinkHtml;\n",
              "          element.appendChild(docLink);\n",
              "        }\n",
              "      </script>\n",
              "    </div>\n",
              "  </div>\n",
              "  "
            ]
          },
          "metadata": {},
          "execution_count": 57
        }
      ]
    },
    {
      "cell_type": "code",
      "source": [
        "#locating a particular row\n",
        "\n",
        "sp.iloc[2]"
      ],
      "metadata": {
        "colab": {
          "base_uri": "https://localhost:8080/"
        },
        "id": "eJZhiZPlGju6",
        "outputId": "86f4761d-6672-401c-a56b-b06a23b3329e"
      },
      "execution_count": 58,
      "outputs": [
        {
          "output_type": "execute_result",
          "data": {
            "text/plain": [
              "Pregnancies                   8.000\n",
              "Glucose                     183.000\n",
              "BloodPressure                64.000\n",
              "SkinThickness                 0.000\n",
              "Insulin                       0.000\n",
              "BMI                          23.300\n",
              "DiabetesPedigreeFunction      0.672\n",
              "Age                          32.000\n",
              "Outcome                       1.000\n",
              "Name: 2, dtype: float64"
            ]
          },
          "metadata": {},
          "execution_count": 58
        }
      ]
    },
    {
      "cell_type": "code",
      "source": [
        "#locating a particular column \n",
        "\n",
        "print(sp.iloc[:,0]) #value for 1st column\n",
        "print(sp.iloc[:,1])  #value for 2nd column\n",
        "print(sp.iloc[:,2])  #value for 3rd column\n",
        "print(sp.iloc[:,-1])  #value for the last column"
      ],
      "metadata": {
        "colab": {
          "base_uri": "https://localhost:8080/"
        },
        "id": "HkVqY06lG8JU",
        "outputId": "457cf636-697c-4e14-e0c7-1ec365a69037"
      },
      "execution_count": 59,
      "outputs": [
        {
          "output_type": "stream",
          "name": "stdout",
          "text": [
            "0       6\n",
            "1       1\n",
            "2       8\n",
            "3       1\n",
            "4       0\n",
            "       ..\n",
            "763    10\n",
            "764     2\n",
            "765     5\n",
            "766     1\n",
            "767     1\n",
            "Name: Pregnancies, Length: 768, dtype: int64\n",
            "0      148\n",
            "1       85\n",
            "2      183\n",
            "3       89\n",
            "4      137\n",
            "      ... \n",
            "763    101\n",
            "764    122\n",
            "765    121\n",
            "766    126\n",
            "767     93\n",
            "Name: Glucose, Length: 768, dtype: int64\n",
            "0      72\n",
            "1      66\n",
            "2      64\n",
            "3      66\n",
            "4      40\n",
            "       ..\n",
            "763    76\n",
            "764    70\n",
            "765    72\n",
            "766    60\n",
            "767    70\n",
            "Name: BloodPressure, Length: 768, dtype: int64\n",
            "0      1\n",
            "1      0\n",
            "2      1\n",
            "3      0\n",
            "4      1\n",
            "      ..\n",
            "763    0\n",
            "764    0\n",
            "765    0\n",
            "766    1\n",
            "767    0\n",
            "Name: Outcome, Length: 768, dtype: int64\n"
          ]
        }
      ]
    },
    {
      "cell_type": "markdown",
      "source": [
        "Correlation\n",
        "\n",
        "positive \n",
        "negative"
      ],
      "metadata": {
        "id": "G4L_DPl0JIZl"
      }
    },
    {
      "cell_type": "code",
      "source": [
        "# correlation is used to find the relationship between two attributes/columns\n",
        "\n",
        "sp.corr()"
      ],
      "metadata": {
        "colab": {
          "base_uri": "https://localhost:8080/",
          "height": 395
        },
        "id": "2ASf7QKUIw_7",
        "outputId": "d90aee6e-f737-4a27-9cac-7ee62061ebd9"
      },
      "execution_count": 60,
      "outputs": [
        {
          "output_type": "execute_result",
          "data": {
            "text/plain": [
              "                          Pregnancies   Glucose  BloodPressure  SkinThickness  \\\n",
              "Pregnancies                  1.000000  0.129459       0.141282      -0.081672   \n",
              "Glucose                      0.129459  1.000000       0.152590       0.057328   \n",
              "BloodPressure                0.141282  0.152590       1.000000       0.207371   \n",
              "SkinThickness               -0.081672  0.057328       0.207371       1.000000   \n",
              "Insulin                     -0.073535  0.331357       0.088933       0.436783   \n",
              "BMI                          0.017683  0.221071       0.281805       0.392573   \n",
              "DiabetesPedigreeFunction    -0.033523  0.137337       0.041265       0.183928   \n",
              "Age                          0.544341  0.263514       0.239528      -0.113970   \n",
              "Outcome                      0.221898  0.466581       0.065068       0.074752   \n",
              "\n",
              "                           Insulin       BMI  DiabetesPedigreeFunction  \\\n",
              "Pregnancies              -0.073535  0.017683                 -0.033523   \n",
              "Glucose                   0.331357  0.221071                  0.137337   \n",
              "BloodPressure             0.088933  0.281805                  0.041265   \n",
              "SkinThickness             0.436783  0.392573                  0.183928   \n",
              "Insulin                   1.000000  0.197859                  0.185071   \n",
              "BMI                       0.197859  1.000000                  0.140647   \n",
              "DiabetesPedigreeFunction  0.185071  0.140647                  1.000000   \n",
              "Age                      -0.042163  0.036242                  0.033561   \n",
              "Outcome                   0.130548  0.292695                  0.173844   \n",
              "\n",
              "                               Age   Outcome  \n",
              "Pregnancies               0.544341  0.221898  \n",
              "Glucose                   0.263514  0.466581  \n",
              "BloodPressure             0.239528  0.065068  \n",
              "SkinThickness            -0.113970  0.074752  \n",
              "Insulin                  -0.042163  0.130548  \n",
              "BMI                       0.036242  0.292695  \n",
              "DiabetesPedigreeFunction  0.033561  0.173844  \n",
              "Age                       1.000000  0.238356  \n",
              "Outcome                   0.238356  1.000000  "
            ],
            "text/html": [
              "\n",
              "  <div id=\"df-754da699-2738-4220-bf4c-6ccbc81e3570\">\n",
              "    <div class=\"colab-df-container\">\n",
              "      <div>\n",
              "<style scoped>\n",
              "    .dataframe tbody tr th:only-of-type {\n",
              "        vertical-align: middle;\n",
              "    }\n",
              "\n",
              "    .dataframe tbody tr th {\n",
              "        vertical-align: top;\n",
              "    }\n",
              "\n",
              "    .dataframe thead th {\n",
              "        text-align: right;\n",
              "    }\n",
              "</style>\n",
              "<table border=\"1\" class=\"dataframe\">\n",
              "  <thead>\n",
              "    <tr style=\"text-align: right;\">\n",
              "      <th></th>\n",
              "      <th>Pregnancies</th>\n",
              "      <th>Glucose</th>\n",
              "      <th>BloodPressure</th>\n",
              "      <th>SkinThickness</th>\n",
              "      <th>Insulin</th>\n",
              "      <th>BMI</th>\n",
              "      <th>DiabetesPedigreeFunction</th>\n",
              "      <th>Age</th>\n",
              "      <th>Outcome</th>\n",
              "    </tr>\n",
              "  </thead>\n",
              "  <tbody>\n",
              "    <tr>\n",
              "      <th>Pregnancies</th>\n",
              "      <td>1.000000</td>\n",
              "      <td>0.129459</td>\n",
              "      <td>0.141282</td>\n",
              "      <td>-0.081672</td>\n",
              "      <td>-0.073535</td>\n",
              "      <td>0.017683</td>\n",
              "      <td>-0.033523</td>\n",
              "      <td>0.544341</td>\n",
              "      <td>0.221898</td>\n",
              "    </tr>\n",
              "    <tr>\n",
              "      <th>Glucose</th>\n",
              "      <td>0.129459</td>\n",
              "      <td>1.000000</td>\n",
              "      <td>0.152590</td>\n",
              "      <td>0.057328</td>\n",
              "      <td>0.331357</td>\n",
              "      <td>0.221071</td>\n",
              "      <td>0.137337</td>\n",
              "      <td>0.263514</td>\n",
              "      <td>0.466581</td>\n",
              "    </tr>\n",
              "    <tr>\n",
              "      <th>BloodPressure</th>\n",
              "      <td>0.141282</td>\n",
              "      <td>0.152590</td>\n",
              "      <td>1.000000</td>\n",
              "      <td>0.207371</td>\n",
              "      <td>0.088933</td>\n",
              "      <td>0.281805</td>\n",
              "      <td>0.041265</td>\n",
              "      <td>0.239528</td>\n",
              "      <td>0.065068</td>\n",
              "    </tr>\n",
              "    <tr>\n",
              "      <th>SkinThickness</th>\n",
              "      <td>-0.081672</td>\n",
              "      <td>0.057328</td>\n",
              "      <td>0.207371</td>\n",
              "      <td>1.000000</td>\n",
              "      <td>0.436783</td>\n",
              "      <td>0.392573</td>\n",
              "      <td>0.183928</td>\n",
              "      <td>-0.113970</td>\n",
              "      <td>0.074752</td>\n",
              "    </tr>\n",
              "    <tr>\n",
              "      <th>Insulin</th>\n",
              "      <td>-0.073535</td>\n",
              "      <td>0.331357</td>\n",
              "      <td>0.088933</td>\n",
              "      <td>0.436783</td>\n",
              "      <td>1.000000</td>\n",
              "      <td>0.197859</td>\n",
              "      <td>0.185071</td>\n",
              "      <td>-0.042163</td>\n",
              "      <td>0.130548</td>\n",
              "    </tr>\n",
              "    <tr>\n",
              "      <th>BMI</th>\n",
              "      <td>0.017683</td>\n",
              "      <td>0.221071</td>\n",
              "      <td>0.281805</td>\n",
              "      <td>0.392573</td>\n",
              "      <td>0.197859</td>\n",
              "      <td>1.000000</td>\n",
              "      <td>0.140647</td>\n",
              "      <td>0.036242</td>\n",
              "      <td>0.292695</td>\n",
              "    </tr>\n",
              "    <tr>\n",
              "      <th>DiabetesPedigreeFunction</th>\n",
              "      <td>-0.033523</td>\n",
              "      <td>0.137337</td>\n",
              "      <td>0.041265</td>\n",
              "      <td>0.183928</td>\n",
              "      <td>0.185071</td>\n",
              "      <td>0.140647</td>\n",
              "      <td>1.000000</td>\n",
              "      <td>0.033561</td>\n",
              "      <td>0.173844</td>\n",
              "    </tr>\n",
              "    <tr>\n",
              "      <th>Age</th>\n",
              "      <td>0.544341</td>\n",
              "      <td>0.263514</td>\n",
              "      <td>0.239528</td>\n",
              "      <td>-0.113970</td>\n",
              "      <td>-0.042163</td>\n",
              "      <td>0.036242</td>\n",
              "      <td>0.033561</td>\n",
              "      <td>1.000000</td>\n",
              "      <td>0.238356</td>\n",
              "    </tr>\n",
              "    <tr>\n",
              "      <th>Outcome</th>\n",
              "      <td>0.221898</td>\n",
              "      <td>0.466581</td>\n",
              "      <td>0.065068</td>\n",
              "      <td>0.074752</td>\n",
              "      <td>0.130548</td>\n",
              "      <td>0.292695</td>\n",
              "      <td>0.173844</td>\n",
              "      <td>0.238356</td>\n",
              "      <td>1.000000</td>\n",
              "    </tr>\n",
              "  </tbody>\n",
              "</table>\n",
              "</div>\n",
              "      <button class=\"colab-df-convert\" onclick=\"convertToInteractive('df-754da699-2738-4220-bf4c-6ccbc81e3570')\"\n",
              "              title=\"Convert this dataframe to an interactive table.\"\n",
              "              style=\"display:none;\">\n",
              "        \n",
              "  <svg xmlns=\"http://www.w3.org/2000/svg\" height=\"24px\"viewBox=\"0 0 24 24\"\n",
              "       width=\"24px\">\n",
              "    <path d=\"M0 0h24v24H0V0z\" fill=\"none\"/>\n",
              "    <path d=\"M18.56 5.44l.94 2.06.94-2.06 2.06-.94-2.06-.94-.94-2.06-.94 2.06-2.06.94zm-11 1L8.5 8.5l.94-2.06 2.06-.94-2.06-.94L8.5 2.5l-.94 2.06-2.06.94zm10 10l.94 2.06.94-2.06 2.06-.94-2.06-.94-.94-2.06-.94 2.06-2.06.94z\"/><path d=\"M17.41 7.96l-1.37-1.37c-.4-.4-.92-.59-1.43-.59-.52 0-1.04.2-1.43.59L10.3 9.45l-7.72 7.72c-.78.78-.78 2.05 0 2.83L4 21.41c.39.39.9.59 1.41.59.51 0 1.02-.2 1.41-.59l7.78-7.78 2.81-2.81c.8-.78.8-2.07 0-2.86zM5.41 20L4 18.59l7.72-7.72 1.47 1.35L5.41 20z\"/>\n",
              "  </svg>\n",
              "      </button>\n",
              "      \n",
              "  <style>\n",
              "    .colab-df-container {\n",
              "      display:flex;\n",
              "      flex-wrap:wrap;\n",
              "      gap: 12px;\n",
              "    }\n",
              "\n",
              "    .colab-df-convert {\n",
              "      background-color: #E8F0FE;\n",
              "      border: none;\n",
              "      border-radius: 50%;\n",
              "      cursor: pointer;\n",
              "      display: none;\n",
              "      fill: #1967D2;\n",
              "      height: 32px;\n",
              "      padding: 0 0 0 0;\n",
              "      width: 32px;\n",
              "    }\n",
              "\n",
              "    .colab-df-convert:hover {\n",
              "      background-color: #E2EBFA;\n",
              "      box-shadow: 0px 1px 2px rgba(60, 64, 67, 0.3), 0px 1px 3px 1px rgba(60, 64, 67, 0.15);\n",
              "      fill: #174EA6;\n",
              "    }\n",
              "\n",
              "    [theme=dark] .colab-df-convert {\n",
              "      background-color: #3B4455;\n",
              "      fill: #D2E3FC;\n",
              "    }\n",
              "\n",
              "    [theme=dark] .colab-df-convert:hover {\n",
              "      background-color: #434B5C;\n",
              "      box-shadow: 0px 1px 3px 1px rgba(0, 0, 0, 0.15);\n",
              "      filter: drop-shadow(0px 1px 2px rgba(0, 0, 0, 0.3));\n",
              "      fill: #FFFFFF;\n",
              "    }\n",
              "  </style>\n",
              "\n",
              "      <script>\n",
              "        const buttonEl =\n",
              "          document.querySelector('#df-754da699-2738-4220-bf4c-6ccbc81e3570 button.colab-df-convert');\n",
              "        buttonEl.style.display =\n",
              "          google.colab.kernel.accessAllowed ? 'block' : 'none';\n",
              "\n",
              "        async function convertToInteractive(key) {\n",
              "          const element = document.querySelector('#df-754da699-2738-4220-bf4c-6ccbc81e3570');\n",
              "          const dataTable =\n",
              "            await google.colab.kernel.invokeFunction('convertToInteractive',\n",
              "                                                     [key], {});\n",
              "          if (!dataTable) return;\n",
              "\n",
              "          const docLinkHtml = 'Like what you see? Visit the ' +\n",
              "            '<a target=\"_blank\" href=https://colab.research.google.com/notebooks/data_table.ipynb>data table notebook</a>'\n",
              "            + ' to learn more about interactive tables.';\n",
              "          element.innerHTML = '';\n",
              "          dataTable['output_type'] = 'display_data';\n",
              "          await google.colab.output.renderOutput(dataTable, element);\n",
              "          const docLink = document.createElement('div');\n",
              "          docLink.innerHTML = docLinkHtml;\n",
              "          element.appendChild(docLink);\n",
              "        }\n",
              "      </script>\n",
              "    </div>\n",
              "  </div>\n",
              "  "
            ]
          },
          "metadata": {},
          "execution_count": 60
        }
      ]
    },
    {
      "cell_type": "markdown",
      "source": [
        "Plotting Graph in Python"
      ],
      "metadata": {
        "id": "J7sXZH9MKSNP"
      }
    },
    {
      "cell_type": "code",
      "source": [
        "#importing matplotlib library in python\n",
        "\n",
        "import matplotlib.pyplot as plt"
      ],
      "metadata": {
        "id": "bR7yYJdwKYZ0"
      },
      "execution_count": 65,
      "outputs": []
    },
    {
      "cell_type": "code",
      "source": [
        "# importing numpy to get data for a plot\n",
        "\n",
        "import numpy as np"
      ],
      "metadata": {
        "id": "o-SGnXpSLHBb"
      },
      "execution_count": 66,
      "outputs": []
    },
    {
      "cell_type": "code",
      "source": [
        "x = np.linspace(0,10,100)\n",
        "y = np.sin(x)\n",
        "z = np.cos(x)\n",
        "\n",
        "print(x)"
      ],
      "metadata": {
        "colab": {
          "base_uri": "https://localhost:8080/"
        },
        "id": "fH5ddFSKLRTv",
        "outputId": "e752b246-d201-43b6-8fb3-0a0385d39a97"
      },
      "execution_count": 62,
      "outputs": [
        {
          "output_type": "stream",
          "name": "stdout",
          "text": [
            "[ 0.          0.1010101   0.2020202   0.3030303   0.4040404   0.50505051\n",
            "  0.60606061  0.70707071  0.80808081  0.90909091  1.01010101  1.11111111\n",
            "  1.21212121  1.31313131  1.41414141  1.51515152  1.61616162  1.71717172\n",
            "  1.81818182  1.91919192  2.02020202  2.12121212  2.22222222  2.32323232\n",
            "  2.42424242  2.52525253  2.62626263  2.72727273  2.82828283  2.92929293\n",
            "  3.03030303  3.13131313  3.23232323  3.33333333  3.43434343  3.53535354\n",
            "  3.63636364  3.73737374  3.83838384  3.93939394  4.04040404  4.14141414\n",
            "  4.24242424  4.34343434  4.44444444  4.54545455  4.64646465  4.74747475\n",
            "  4.84848485  4.94949495  5.05050505  5.15151515  5.25252525  5.35353535\n",
            "  5.45454545  5.55555556  5.65656566  5.75757576  5.85858586  5.95959596\n",
            "  6.06060606  6.16161616  6.26262626  6.36363636  6.46464646  6.56565657\n",
            "  6.66666667  6.76767677  6.86868687  6.96969697  7.07070707  7.17171717\n",
            "  7.27272727  7.37373737  7.47474747  7.57575758  7.67676768  7.77777778\n",
            "  7.87878788  7.97979798  8.08080808  8.18181818  8.28282828  8.38383838\n",
            "  8.48484848  8.58585859  8.68686869  8.78787879  8.88888889  8.98989899\n",
            "  9.09090909  9.19191919  9.29292929  9.39393939  9.49494949  9.5959596\n",
            "  9.6969697   9.7979798   9.8989899  10.        ]\n"
          ]
        }
      ]
    },
    {
      "cell_type": "code",
      "source": [
        "print(y)"
      ],
      "metadata": {
        "colab": {
          "base_uri": "https://localhost:8080/"
        },
        "id": "6YjZn98sLrhq",
        "outputId": "bb826daa-6225-43be-ad79-deb96160f896"
      },
      "execution_count": 63,
      "outputs": [
        {
          "output_type": "stream",
          "name": "stdout",
          "text": [
            "[ 0.          0.10083842  0.20064886  0.2984138   0.39313661  0.48385164\n",
            "  0.56963411  0.64960951  0.72296256  0.78894546  0.84688556  0.8961922\n",
            "  0.93636273  0.96698762  0.98775469  0.99845223  0.99897117  0.98930624\n",
            "  0.96955595  0.93992165  0.90070545  0.85230712  0.79522006  0.73002623\n",
            "  0.65739025  0.57805259  0.49282204  0.40256749  0.30820902  0.21070855\n",
            "  0.11106004  0.01027934 -0.09060615 -0.19056796 -0.28858706 -0.38366419\n",
            " -0.47483011 -0.56115544 -0.64176014 -0.7158225  -0.7825875  -0.84137452\n",
            " -0.89158426 -0.93270486 -0.96431712 -0.98609877 -0.99782778 -0.99938456\n",
            " -0.99075324 -0.97202182 -0.94338126 -0.90512352 -0.85763861 -0.80141062\n",
            " -0.73701276 -0.66510151 -0.58640998 -0.50174037 -0.41195583 -0.31797166\n",
            " -0.22074597 -0.12126992 -0.0205576   0.0803643   0.18046693  0.27872982\n",
            "  0.37415123  0.46575841  0.55261747  0.63384295  0.7086068   0.77614685\n",
            "  0.83577457  0.8868821   0.92894843  0.96154471  0.98433866  0.99709789\n",
            "  0.99969234  0.99209556  0.97438499  0.94674118  0.90944594  0.86287948\n",
            "  0.8075165   0.74392141  0.6727425   0.59470541  0.51060568  0.42130064\n",
            "  0.32770071  0.23076008  0.13146699  0.03083368 -0.07011396 -0.17034683\n",
            " -0.26884313 -0.36459873 -0.45663749 -0.54402111]\n"
          ]
        }
      ]
    },
    {
      "cell_type": "code",
      "source": [
        "#plotting the data\n",
        "\n",
        "#plotting sine wave\n",
        "plt.plot(x,y)\n",
        "plt.show()"
      ],
      "metadata": {
        "colab": {
          "base_uri": "https://localhost:8080/",
          "height": 265
        },
        "id": "Fg6K8zwNLv1r",
        "outputId": "2746f18b-6179-4139-cbaa-ae7b86c5e7e2"
      },
      "execution_count": 67,
      "outputs": [
        {
          "output_type": "display_data",
          "data": {
            "text/plain": [
              "<Figure size 432x288 with 1 Axes>"
            ],
            "image/png": "[encoded data removed]"
          },
          "metadata": {
            "needs_background": "light"
          }
        }
      ]
    },
    {
      "cell_type": "code",
      "source": [
        "#plotting the cosine wave\n",
        "\n",
        "plt.plot(x,z)\n",
        "plt.show()"
      ],
      "metadata": {
        "colab": {
          "base_uri": "https://localhost:8080/",
          "height": 265
        },
        "id": "5613NCOCMej_",
        "outputId": "051ced21-b709-40cb-dacf-b75c6ccdd2c0"
      },
      "execution_count": 68,
      "outputs": [
        {
          "output_type": "display_data",
          "data": {
            "text/plain": [
              "<Figure size 432x288 with 1 Axes>"
            ],
            "image/png": "[encoded data removed]"
          },
          "metadata": {
            "needs_background": "light"
          }
        }
      ]
    },
    {
      "cell_type": "code",
      "source": [
        "#labelling the axes of the graph\n",
        "\n",
        "plt.plot(x,y)\n",
        "plt.xlabel('angle')\n",
        "plt.ylabel('sine value')\n",
        "plt.title('sine wave')\n",
        "plt.show()"
      ],
      "metadata": {
        "colab": {
          "base_uri": "https://localhost:8080/",
          "height": 295
        },
        "id": "vd4g5x4xMuze",
        "outputId": "81d26df8-8079-431e-df15-dcce9ef9708d"
      },
      "execution_count": 69,
      "outputs": [
        {
          "output_type": "display_data",
          "data": {
            "text/plain": [
              "<Figure size 432x288 with 1 Axes>"
            ],
            "image/png": "[encoded data removed]"
          },
          "metadata": {
            "needs_background": "light"
          }
        }
      ]
    },
    {
      "cell_type": "code",
      "source": [
        "#displaying the contents of parabola\n",
        "\n",
        "x= np.linspace(-10,10,20)\n",
        "y=x**2\n",
        "print(y)"
      ],
      "metadata": {
        "colab": {
          "base_uri": "https://localhost:8080/"
        },
        "id": "JqQUEhY9QR13",
        "outputId": "b07ed9eb-7fc9-4bab-a136-931cf7e9a9b5"
      },
      "execution_count": 74,
      "outputs": [
        {
          "output_type": "stream",
          "name": "stdout",
          "text": [
            "[100.          80.05540166  62.32686981  46.81440443  33.51800554\n",
            "  22.43767313  13.5734072    6.92520776   2.49307479   0.27700831\n",
            "   0.27700831   2.49307479   6.92520776  13.5734072   22.43767313\n",
            "  33.51800554  46.81440443  62.32686981  80.05540166 100.        ]\n"
          ]
        }
      ]
    },
    {
      "cell_type": "code",
      "source": [
        "#PLOTTING A PARABOLA\n",
        "\n",
        "x= np.linspace(-10,10,20)\n",
        "y=x**2\n",
        "plt.plot(x,y)\n",
        "plt.xlabel('angle')\n",
        "plt.ylabel('parabola value')\n",
        "plt.title('Parabola')\n",
        "plt.show()"
      ],
      "metadata": {
        "colab": {
          "base_uri": "https://localhost:8080/",
          "height": 295
        },
        "id": "zhOpWMV-OgYb",
        "outputId": "950d171a-19f6-4337-82cf-2aa2517f09f8"
      },
      "execution_count": 71,
      "outputs": [
        {
          "output_type": "display_data",
          "data": {
            "text/plain": [
              "<Figure size 432x288 with 1 Axes>"
            ],
            "image/png": "[encoded data removed]"
          },
          "metadata": {
            "needs_background": "light"
          }
        }
      ]
    },
    {
      "cell_type": "code",
      "source": [
        "#diaplaying the values of the graph\n",
        "\n",
        "x= np.linspace(-5,20,20)\n",
        "y=x**3\n",
        "print(y)"
      ],
      "metadata": {
        "colab": {
          "base_uri": "https://localhost:8080/"
        },
        "id": "BXjuCNl3P48Q",
        "outputId": "004916e8-25de-4352-e597-e0f5397488d8"
      },
      "execution_count": 73,
      "outputs": [
        {
          "output_type": "stream",
          "name": "stdout",
          "text": [
            "[-1.25000000e+02 -5.00072897e+01 -1.32854644e+01 -1.16635078e+00\n",
            "  1.82242309e-02  3.93643388e+00  2.42564514e+01  7.46464499e+01\n",
            "  1.68774603e+02  3.20309083e+02  5.42918064e+02  8.50269719e+02\n",
            "  1.25603222e+03  1.77387374e+03  2.41746246e+03  3.20046654e+03\n",
            "  4.13655416e+03  5.23939350e+03  6.52265272e+03  8.00000000e+03]\n"
          ]
        }
      ]
    },
    {
      "cell_type": "code",
      "source": [
        "# plotting another graph\n",
        "\n",
        "x= np.linspace(-5,20,20)\n",
        "y=x**3\n",
        "plt.plot(x,y)\n",
        "plt.xlabel('angle')\n",
        "plt.ylabel('Graph value')\n",
        "plt.title('Graphical')\n",
        "plt.show()"
      ],
      "metadata": {
        "colab": {
          "base_uri": "https://localhost:8080/",
          "height": 295
        },
        "id": "W6RC8kzXPerZ",
        "outputId": "b4997a25-dcb6-4ecc-c92f-30020e1a0f37"
      },
      "execution_count": 72,
      "outputs": [
        {
          "output_type": "display_data",
          "data": {
            "text/plain": [
              "<Figure size 432x288 with 1 Axes>"
            ],
            "image/png": "[encoded data removed]"
          },
          "metadata": {
            "needs_background": "light"
          }
        }
      ]
    },
    {
      "cell_type": "code",
      "source": [
        "# plotting the graph in different ways using green colour and + symbol\n",
        "\n",
        "x= np.linspace(-10,10,20)\n",
        "y=x**2\n",
        "plt.plot(x,y, 'gx')"
      ],
      "metadata": {
        "colab": {
          "base_uri": "https://localhost:8080/",
          "height": 283
        },
        "id": "2KXnHunhQbwq",
        "outputId": "c06c811f-b70b-4871-f9a3-790a48d85c5e"
      },
      "execution_count": 78,
      "outputs": [
        {
          "output_type": "execute_result",
          "data": {
            "text/plain": [
              "[<matplotlib.lines.Line2D at 0x7f9fccf43f10>]"
            ]
          },
          "metadata": {},
          "execution_count": 78
        },
        {
          "output_type": "display_data",
          "data": {
            "text/plain": [
              "<Figure size 432x288 with 1 Axes>"
            ],
            "image/png": "[encoded data removed]"
          },
          "metadata": {
            "needs_background": "light"
          }
        }
      ]
    },
    {
      "cell_type": "code",
      "source": [
        "plt.plot(x,y, 'y.')\n",
        "plt.show()"
      ],
      "metadata": {
        "colab": {
          "base_uri": "https://localhost:8080/",
          "height": 265
        },
        "id": "iCA6nlkORJFp",
        "outputId": "45f56dee-e063-4931-98a0-b5b540d9d791"
      },
      "execution_count": 77,
      "outputs": [
        {
          "output_type": "display_data",
          "data": {
            "text/plain": [
              "<Figure size 432x288 with 1 Axes>"
            ],
            "image/png": "[encoded data removed]"
          },
          "metadata": {
            "needs_background": "light"
          }
        }
      ]
    },
    {
      "cell_type": "code",
      "source": [
        "#plotting two lines in the same graph\n",
        "x = np.linspace(-5,5, 70)\n",
        "plt.plot(x, np.sin(x), 'r--')\n",
        "plt.plot(x, np.cos(x), 'b.')\n",
        "plt.show()"
      ],
      "metadata": {
        "colab": {
          "base_uri": "https://localhost:8080/",
          "height": 265
        },
        "id": "svNfyxMgRmlB",
        "outputId": "6bb6cc80-b1bf-41a6-fec7-1423ed94fba6"
      },
      "execution_count": 93,
      "outputs": [
        {
          "output_type": "display_data",
          "data": {
            "text/plain": [
              "<Figure size 432x288 with 1 Axes>"
            ],
            "image/png": "[encoded data removed]"
          },
          "metadata": {
            "needs_background": "light"
          }
        }
      ]
    },
    {
      "cell_type": "code",
      "source": [
        "#plotting three lines in the same graph\n",
        "x = np.linspace(-5,5, 70)\n",
        "plt.plot(x, np.sin(x), 'r--')\n",
        "plt.plot(x, np.cos(x), 'b.')\n",
        "plt.plot(x, (x), 'g-')\n",
        "plt.show()"
      ],
      "metadata": {
        "colab": {
          "base_uri": "https://localhost:8080/",
          "height": 265
        },
        "id": "isCDm1MDTNlI",
        "outputId": "4b66ee8f-892a-4387-88d3-2ab14b322aa4"
      },
      "execution_count": 97,
      "outputs": [
        {
          "output_type": "display_data",
          "data": {
            "text/plain": [
              "<Figure size 432x288 with 1 Axes>"
            ],
            "image/png": "[encoded data removed]"
          },
          "metadata": {
            "needs_background": "light"
          }
        }
      ]
    },
    {
      "cell_type": "markdown",
      "source": [
        "PLOTTING BAR GRAPH"
      ],
      "metadata": {
        "id": "4usdF2XkU70U"
      }
    },
    {
      "cell_type": "code",
      "source": [
        "figr = plt.figure()\n",
        "ax = figr.add_axes([0,0,1,1])\n",
        "\n",
        "languages=['English', 'French', 'Spanish', 'Igbo', \"Yoruba\"]\n",
        "\n",
        "people = [200, 30, 100, 50, 90]\n",
        "\n",
        "ax.bar(languages,people)\n",
        "plt.xlabel('LANGUAGES')\n",
        "plt.ylabel('NUMBER OF PEOPLE')\n",
        "plt.title('Bar plot')\n",
        "plt.show()"
      ],
      "metadata": {
        "colab": {
          "base_uri": "https://localhost:8080/",
          "height": 366
        },
        "id": "gxLAUTytUKRL",
        "outputId": "515e3c33-e29b-46e1-d10a-3e5be81d842d"
      },
      "execution_count": 98,
      "outputs": [
        {
          "output_type": "display_data",
          "data": {
            "text/plain": [
              "<Figure size 432x288 with 1 Axes>"
            ],
            "image/png": "[encoded data removed]"
          },
          "metadata": {
            "needs_background": "light"
          }
        }
      ]
    },
    {
      "cell_type": "markdown",
      "source": [
        "PLOTTING PIE CHART"
      ],
      "metadata": {
        "id": "BgN3lZeMVgAJ"
      }
    },
    {
      "cell_type": "code",
      "source": [
        "figs = plt.figure()\n",
        "ax = figs.add_axes([0,0,1,1])\n",
        "\n",
        "languages=['English', 'French', 'Spanish', 'Igbo', \"Yoruba\"]\n",
        "\n",
        "people = [200, 30, 100, 50, 90]\n",
        "\n",
        "ax.pie(people, labels = languages, autopct = '%1.1f%%')\n",
        "\n",
        "plt.show()"
      ],
      "metadata": {
        "colab": {
          "base_uri": "https://localhost:8080/",
          "height": 319
        },
        "id": "qOhZQYjuVmKG",
        "outputId": "fd4de883-5c43-4e5f-e621-6b1e33e5e5e1"
      },
      "execution_count": 100,
      "outputs": [
        {
          "output_type": "display_data",
          "data": {
            "text/plain": [
              "<Figure size 432x288 with 1 Axes>"
            ],
            "image/png": "[encoded data removed]"
          },
          "metadata": {}
        }
      ]
    },
    {
      "cell_type": "markdown",
      "source": [
        "PLOTTING A SCATTER PLOT"
      ],
      "metadata": {
        "id": "QK986gYoWr9d"
      }
    },
    {
      "cell_type": "code",
      "source": [
        "x = np.linspace(1,10,40)\n",
        "\n",
        "y=np.sin(x)\n",
        "z=np.cos(x)\n",
        "fige=plt.figure()\n",
        "ax=fige.add_axes([0,0,1,1])\n",
        "ax.scatter(x,y, color='r')\n",
        "ax.scatter(x,z, color='g')\n",
        "plt.show()"
      ],
      "metadata": {
        "colab": {
          "base_uri": "https://localhost:8080/",
          "height": 336
        },
        "id": "l8cMc98QWp1m",
        "outputId": "946794b7-51fa-4949-9d98-ff990151f994"
      },
      "execution_count": 101,
      "outputs": [
        {
          "output_type": "display_data",
          "data": {
            "text/plain": [
              "<Figure size 432x288 with 1 Axes>"
            ],
            "image/png": "[encoded data removed]"
          },
          "metadata": {
            "needs_background": "light"
          }
        }
      ]
    },
    {
      "cell_type": "markdown",
      "source": [
        "3D SCATTER PLOT"
      ],
      "metadata": {
        "id": "C6nSy1jWXjJT"
      }
    },
    {
      "cell_type": "code",
      "source": [
        "fig3=plt.figure()\n",
        "ax = plt.axes(projection='3d')\n",
        "z=20 * np.random.random(100)\n",
        "x = np.sin(z)\n",
        "y=np.cos(z)\n",
        "ax.scatter(x,y,z,c=z, cmap=\"Blues\")\n",
        "plt.show()"
      ],
      "metadata": {
        "colab": {
          "base_uri": "https://localhost:8080/",
          "height": 248
        },
        "id": "hNMoQr0LXpJy",
        "outputId": "e8421648-7a10-42cc-e925-72487d7d0350"
      },
      "execution_count": 102,
      "outputs": [
        {
          "output_type": "display_data",
          "data": {
            "text/plain": [
              "<Figure size 432x288 with 1 Axes>"
            ],
            "image/png": "[encoded data removed]"
          },
          "metadata": {
            "needs_background": "light"
          }
        }
      ]
    },
    {
      "cell_type": "markdown",
      "source": [
        "DATA VISUALIZATION LIBRARY USING SEABORN"
      ],
      "metadata": {
        "id": "Gv-cmkXFYpnM"
      }
    },
    {
      "cell_type": "code",
      "source": [
        "# importing library\n",
        "\n",
        "import seaborn as sns\n",
        "import matplotlib.pyplot as plt\n",
        "import pandas as pd\n",
        "import numpy as np\n",
        "\n"
      ],
      "metadata": {
        "id": "oe3mQLo0Yw4b"
      },
      "execution_count": 103,
      "outputs": []
    },
    {
      "cell_type": "markdown",
      "source": [
        "Building Dataset in Seaborn"
      ],
      "metadata": {
        "id": "lm4pWrG3ZhX3"
      }
    },
    {
      "cell_type": "code",
      "source": [
        "#total bill vs tip dataset\n",
        "\n",
        "tips = sns.load_dataset('tips')\n",
        "\n",
        "tips.head()"
      ],
      "metadata": {
        "colab": {
          "base_uri": "https://localhost:8080/",
          "height": 206
        },
        "id": "NHJEjWOJZmfE",
        "outputId": "38dd0c22-5310-4c9c-e29e-afeecd4794c5"
      },
      "execution_count": 104,
      "outputs": [
        {
          "output_type": "execute_result",
          "data": {
            "text/plain": [
              "   total_bill   tip     sex smoker  day    time  size\n",
              "0       16.99  1.01  Female     No  Sun  Dinner     2\n",
              "1       10.34  1.66    Male     No  Sun  Dinner     3\n",
              "2       21.01  3.50    Male     No  Sun  Dinner     3\n",
              "3       23.68  3.31    Male     No  Sun  Dinner     2\n",
              "4       24.59  3.61  Female     No  Sun  Dinner     4"
            ],
            "text/html": [
              "\n",
              "  <div id=\"df-6e0f08f5-f251-4598-a234-9aa52b9cf5dd\">\n",
              "    <div class=\"colab-df-container\">\n",
              "      <div>\n",
              "<style scoped>\n",
              "    .dataframe tbody tr th:only-of-type {\n",
              "        vertical-align: middle;\n",
              "    }\n",
              "\n",
              "    .dataframe tbody tr th {\n",
              "        vertical-align: top;\n",
              "    }\n",
              "\n",
              "    .dataframe thead th {\n",
              "        text-align: right;\n",
              "    }\n",
              "</style>\n",
              "<table border=\"1\" class=\"dataframe\">\n",
              "  <thead>\n",
              "    <tr style=\"text-align: right;\">\n",
              "      <th></th>\n",
              "      <th>total_bill</th>\n",
              "      <th>tip</th>\n",
              "      <th>sex</th>\n",
              "      <th>smoker</th>\n",
              "      <th>day</th>\n",
              "      <th>time</th>\n",
              "      <th>size</th>\n",
              "    </tr>\n",
              "  </thead>\n",
              "  <tbody>\n",
              "    <tr>\n",
              "      <th>0</th>\n",
              "      <td>16.99</td>\n",
              "      <td>1.01</td>\n",
              "      <td>Female</td>\n",
              "      <td>No</td>\n",
              "      <td>Sun</td>\n",
              "      <td>Dinner</td>\n",
              "      <td>2</td>\n",
              "    </tr>\n",
              "    <tr>\n",
              "      <th>1</th>\n",
              "      <td>10.34</td>\n",
              "      <td>1.66</td>\n",
              "      <td>Male</td>\n",
              "      <td>No</td>\n",
              "      <td>Sun</td>\n",
              "      <td>Dinner</td>\n",
              "      <td>3</td>\n",
              "    </tr>\n",
              "    <tr>\n",
              "      <th>2</th>\n",
              "      <td>21.01</td>\n",
              "      <td>3.50</td>\n",
              "      <td>Male</td>\n",
              "      <td>No</td>\n",
              "      <td>Sun</td>\n",
              "      <td>Dinner</td>\n",
              "      <td>3</td>\n",
              "    </tr>\n",
              "    <tr>\n",
              "      <th>3</th>\n",
              "      <td>23.68</td>\n",
              "      <td>3.31</td>\n",
              "      <td>Male</td>\n",
              "      <td>No</td>\n",
              "      <td>Sun</td>\n",
              "      <td>Dinner</td>\n",
              "      <td>2</td>\n",
              "    </tr>\n",
              "    <tr>\n",
              "      <th>4</th>\n",
              "      <td>24.59</td>\n",
              "      <td>3.61</td>\n",
              "      <td>Female</td>\n",
              "      <td>No</td>\n",
              "      <td>Sun</td>\n",
              "      <td>Dinner</td>\n",
              "      <td>4</td>\n",
              "    </tr>\n",
              "  </tbody>\n",
              "</table>\n",
              "</div>\n",
              "      <button class=\"colab-df-convert\" onclick=\"convertToInteractive('df-6e0f08f5-f251-4598-a234-9aa52b9cf5dd')\"\n",
              "              title=\"Convert this dataframe to an interactive table.\"\n",
              "              style=\"display:none;\">\n",
              "        \n",
              "  <svg xmlns=\"http://www.w3.org/2000/svg\" height=\"24px\"viewBox=\"0 0 24 24\"\n",
              "       width=\"24px\">\n",
              "    <path d=\"M0 0h24v24H0V0z\" fill=\"none\"/>\n",
              "    <path d=\"M18.56 5.44l.94 2.06.94-2.06 2.06-.94-2.06-.94-.94-2.06-.94 2.06-2.06.94zm-11 1L8.5 8.5l.94-2.06 2.06-.94-2.06-.94L8.5 2.5l-.94 2.06-2.06.94zm10 10l.94 2.06.94-2.06 2.06-.94-2.06-.94-.94-2.06-.94 2.06-2.06.94z\"/><path d=\"M17.41 7.96l-1.37-1.37c-.4-.4-.92-.59-1.43-.59-.52 0-1.04.2-1.43.59L10.3 9.45l-7.72 7.72c-.78.78-.78 2.05 0 2.83L4 21.41c.39.39.9.59 1.41.59.51 0 1.02-.2 1.41-.59l7.78-7.78 2.81-2.81c.8-.78.8-2.07 0-2.86zM5.41 20L4 18.59l7.72-7.72 1.47 1.35L5.41 20z\"/>\n",
              "  </svg>\n",
              "      </button>\n",
              "      \n",
              "  <style>\n",
              "    .colab-df-container {\n",
              "      display:flex;\n",
              "      flex-wrap:wrap;\n",
              "      gap: 12px;\n",
              "    }\n",
              "\n",
              "    .colab-df-convert {\n",
              "      background-color: #E8F0FE;\n",
              "      border: none;\n",
              "      border-radius: 50%;\n",
              "      cursor: pointer;\n",
              "      display: none;\n",
              "      fill: #1967D2;\n",
              "      height: 32px;\n",
              "      padding: 0 0 0 0;\n",
              "      width: 32px;\n",
              "    }\n",
              "\n",
              "    .colab-df-convert:hover {\n",
              "      background-color: #E2EBFA;\n",
              "      box-shadow: 0px 1px 2px rgba(60, 64, 67, 0.3), 0px 1px 3px 1px rgba(60, 64, 67, 0.15);\n",
              "      fill: #174EA6;\n",
              "    }\n",
              "\n",
              "    [theme=dark] .colab-df-convert {\n",
              "      background-color: #3B4455;\n",
              "      fill: #D2E3FC;\n",
              "    }\n",
              "\n",
              "    [theme=dark] .colab-df-convert:hover {\n",
              "      background-color: #434B5C;\n",
              "      box-shadow: 0px 1px 3px 1px rgba(0, 0, 0, 0.15);\n",
              "      filter: drop-shadow(0px 1px 2px rgba(0, 0, 0, 0.3));\n",
              "      fill: #FFFFFF;\n",
              "    }\n",
              "  </style>\n",
              "\n",
              "      <script>\n",
              "        const buttonEl =\n",
              "          document.querySelector('#df-6e0f08f5-f251-4598-a234-9aa52b9cf5dd button.colab-df-convert');\n",
              "        buttonEl.style.display =\n",
              "          google.colab.kernel.accessAllowed ? 'block' : 'none';\n",
              "\n",
              "        async function convertToInteractive(key) {\n",
              "          const element = document.querySelector('#df-6e0f08f5-f251-4598-a234-9aa52b9cf5dd');\n",
              "          const dataTable =\n",
              "            await google.colab.kernel.invokeFunction('convertToInteractive',\n",
              "                                                     [key], {});\n",
              "          if (!dataTable) return;\n",
              "\n",
              "          const docLinkHtml = 'Like what you see? Visit the ' +\n",
              "            '<a target=\"_blank\" href=https://colab.research.google.com/notebooks/data_table.ipynb>data table notebook</a>'\n",
              "            + ' to learn more about interactive tables.';\n",
              "          element.innerHTML = '';\n",
              "          dataTable['output_type'] = 'display_data';\n",
              "          await google.colab.output.renderOutput(dataTable, element);\n",
              "          const docLink = document.createElement('div');\n",
              "          docLink.innerHTML = docLinkHtml;\n",
              "          element.appendChild(docLink);\n",
              "        }\n",
              "      </script>\n",
              "    </div>\n",
              "  </div>\n",
              "  "
            ]
          },
          "metadata": {},
          "execution_count": 104
        }
      ]
    },
    {
      "cell_type": "code",
      "source": [
        "#setting a theme for the plot\n",
        "\n",
        "sns.set_theme()"
      ],
      "metadata": {
        "id": "OIdyvphZbizm"
      },
      "execution_count": 107,
      "outputs": []
    },
    {
      "cell_type": "code",
      "source": [
        "#visualize the dataset\n",
        "\n",
        "sns.relplot(data=tips, x = 'total_bill', y = 'tip', col = 'time', hue = 'smoker', style ='smoker', size = 'size')\n"
      ],
      "metadata": {
        "colab": {
          "base_uri": "https://localhost:8080/",
          "height": 358
        },
        "id": "cKY-OGSCaGii",
        "outputId": "d4a381a8-429b-4e11-9d87-069f01db92d7"
      },
      "execution_count": 108,
      "outputs": [
        {
          "output_type": "execute_result",
          "data": {
            "text/plain": [
              "<seaborn.axisgrid.FacetGrid at 0x7f9fc2f7a400>"
            ]
          },
          "metadata": {},
          "execution_count": 108
        },
        {
          "output_type": "display_data",
          "data": {
            "text/plain": [
              "<Figure size 781.975x360 with 2 Axes>"
            ],
            "image/png": "[encoded data removed]"
          },
          "metadata": {}
        }
      ]
    },
    {
      "cell_type": "code",
      "source": [
        "#load the iris dataset\n",
        "\n",
        "iris=sns.load_dataset('iris')\n",
        "iris.head()"
      ],
      "metadata": {
        "colab": {
          "base_uri": "https://localhost:8080/",
          "height": 206
        },
        "id": "dOj5YKFNbUW2",
        "outputId": "f01c3c02-423a-4065-8360-00a3f56af853"
      },
      "execution_count": 109,
      "outputs": [
        {
          "output_type": "execute_result",
          "data": {
            "text/plain": [
              "   sepal_length  sepal_width  petal_length  petal_width species\n",
              "0           5.1          3.5           1.4          0.2  setosa\n",
              "1           4.9          3.0           1.4          0.2  setosa\n",
              "2           4.7          3.2           1.3          0.2  setosa\n",
              "3           4.6          3.1           1.5          0.2  setosa\n",
              "4           5.0          3.6           1.4          0.2  setosa"
            ],
            "text/html": [
              "\n",
              "  <div id=\"df-2af466c7-5131-4c60-a2e7-5be106c13f63\">\n",
              "    <div class=\"colab-df-container\">\n",
              "      <div>\n",
              "<style scoped>\n",
              "    .dataframe tbody tr th:only-of-type {\n",
              "        vertical-align: middle;\n",
              "    }\n",
              "\n",
              "    .dataframe tbody tr th {\n",
              "        vertical-align: top;\n",
              "    }\n",
              "\n",
              "    .dataframe thead th {\n",
              "        text-align: right;\n",
              "    }\n",
              "</style>\n",
              "<table border=\"1\" class=\"dataframe\">\n",
              "  <thead>\n",
              "    <tr style=\"text-align: right;\">\n",
              "      <th></th>\n",
              "      <th>sepal_length</th>\n",
              "      <th>sepal_width</th>\n",
              "      <th>petal_length</th>\n",
              "      <th>petal_width</th>\n",
              "      <th>species</th>\n",
              "    </tr>\n",
              "  </thead>\n",
              "  <tbody>\n",
              "    <tr>\n",
              "      <th>0</th>\n",
              "      <td>5.1</td>\n",
              "      <td>3.5</td>\n",
              "      <td>1.4</td>\n",
              "      <td>0.2</td>\n",
              "      <td>setosa</td>\n",
              "    </tr>\n",
              "    <tr>\n",
              "      <th>1</th>\n",
              "      <td>4.9</td>\n",
              "      <td>3.0</td>\n",
              "      <td>1.4</td>\n",
              "      <td>0.2</td>\n",
              "      <td>setosa</td>\n",
              "    </tr>\n",
              "    <tr>\n",
              "      <th>2</th>\n",
              "      <td>4.7</td>\n",
              "      <td>3.2</td>\n",
              "      <td>1.3</td>\n",
              "      <td>0.2</td>\n",
              "      <td>setosa</td>\n",
              "    </tr>\n",
              "    <tr>\n",
              "      <th>3</th>\n",
              "      <td>4.6</td>\n",
              "      <td>3.1</td>\n",
              "      <td>1.5</td>\n",
              "      <td>0.2</td>\n",
              "      <td>setosa</td>\n",
              "    </tr>\n",
              "    <tr>\n",
              "      <th>4</th>\n",
              "      <td>5.0</td>\n",
              "      <td>3.6</td>\n",
              "      <td>1.4</td>\n",
              "      <td>0.2</td>\n",
              "      <td>setosa</td>\n",
              "    </tr>\n",
              "  </tbody>\n",
              "</table>\n",
              "</div>\n",
              "      <button class=\"colab-df-convert\" onclick=\"convertToInteractive('df-2af466c7-5131-4c60-a2e7-5be106c13f63')\"\n",
              "              title=\"Convert this dataframe to an interactive table.\"\n",
              "              style=\"display:none;\">\n",
              "        \n",
              "  <svg xmlns=\"http://www.w3.org/2000/svg\" height=\"24px\"viewBox=\"0 0 24 24\"\n",
              "       width=\"24px\">\n",
              "    <path d=\"M0 0h24v24H0V0z\" fill=\"none\"/>\n",
              "    <path d=\"M18.56 5.44l.94 2.06.94-2.06 2.06-.94-2.06-.94-.94-2.06-.94 2.06-2.06.94zm-11 1L8.5 8.5l.94-2.06 2.06-.94-2.06-.94L8.5 2.5l-.94 2.06-2.06.94zm10 10l.94 2.06.94-2.06 2.06-.94-2.06-.94-.94-2.06-.94 2.06-2.06.94z\"/><path d=\"M17.41 7.96l-1.37-1.37c-.4-.4-.92-.59-1.43-.59-.52 0-1.04.2-1.43.59L10.3 9.45l-7.72 7.72c-.78.78-.78 2.05 0 2.83L4 21.41c.39.39.9.59 1.41.59.51 0 1.02-.2 1.41-.59l7.78-7.78 2.81-2.81c.8-.78.8-2.07 0-2.86zM5.41 20L4 18.59l7.72-7.72 1.47 1.35L5.41 20z\"/>\n",
              "  </svg>\n",
              "      </button>\n",
              "      \n",
              "  <style>\n",
              "    .colab-df-container {\n",
              "      display:flex;\n",
              "      flex-wrap:wrap;\n",
              "      gap: 12px;\n",
              "    }\n",
              "\n",
              "    .colab-df-convert {\n",
              "      background-color: #E8F0FE;\n",
              "      border: none;\n",
              "      border-radius: 50%;\n",
              "      cursor: pointer;\n",
              "      display: none;\n",
              "      fill: #1967D2;\n",
              "      height: 32px;\n",
              "      padding: 0 0 0 0;\n",
              "      width: 32px;\n",
              "    }\n",
              "\n",
              "    .colab-df-convert:hover {\n",
              "      background-color: #E2EBFA;\n",
              "      box-shadow: 0px 1px 2px rgba(60, 64, 67, 0.3), 0px 1px 3px 1px rgba(60, 64, 67, 0.15);\n",
              "      fill: #174EA6;\n",
              "    }\n",
              "\n",
              "    [theme=dark] .colab-df-convert {\n",
              "      background-color: #3B4455;\n",
              "      fill: #D2E3FC;\n",
              "    }\n",
              "\n",
              "    [theme=dark] .colab-df-convert:hover {\n",
              "      background-color: #434B5C;\n",
              "      box-shadow: 0px 1px 3px 1px rgba(0, 0, 0, 0.15);\n",
              "      filter: drop-shadow(0px 1px 2px rgba(0, 0, 0, 0.3));\n",
              "      fill: #FFFFFF;\n",
              "    }\n",
              "  </style>\n",
              "\n",
              "      <script>\n",
              "        const buttonEl =\n",
              "          document.querySelector('#df-2af466c7-5131-4c60-a2e7-5be106c13f63 button.colab-df-convert');\n",
              "        buttonEl.style.display =\n",
              "          google.colab.kernel.accessAllowed ? 'block' : 'none';\n",
              "\n",
              "        async function convertToInteractive(key) {\n",
              "          const element = document.querySelector('#df-2af466c7-5131-4c60-a2e7-5be106c13f63');\n",
              "          const dataTable =\n",
              "            await google.colab.kernel.invokeFunction('convertToInteractive',\n",
              "                                                     [key], {});\n",
              "          if (!dataTable) return;\n",
              "\n",
              "          const docLinkHtml = 'Like what you see? Visit the ' +\n",
              "            '<a target=\"_blank\" href=https://colab.research.google.com/notebooks/data_table.ipynb>data table notebook</a>'\n",
              "            + ' to learn more about interactive tables.';\n",
              "          element.innerHTML = '';\n",
              "          dataTable['output_type'] = 'display_data';\n",
              "          await google.colab.output.renderOutput(dataTable, element);\n",
              "          const docLink = document.createElement('div');\n",
              "          docLink.innerHTML = docLinkHtml;\n",
              "          element.appendChild(docLink);\n",
              "        }\n",
              "      </script>\n",
              "    </div>\n",
              "  </div>\n",
              "  "
            ]
          },
          "metadata": {},
          "execution_count": 109
        }
      ]
    },
    {
      "cell_type": "code",
      "source": [
        "#plotting scatter plot\n",
        "\n",
        "sns.scatterplot(x='sepal_length', y = 'petal_length', hue='species', data=iris)"
      ],
      "metadata": {
        "colab": {
          "base_uri": "https://localhost:8080/",
          "height": 303
        },
        "id": "6bZ7Jcx5coAc",
        "outputId": "c371a0b2-32b7-4c29-da0e-5fdc37c70e92"
      },
      "execution_count": 112,
      "outputs": [
        {
          "output_type": "execute_result",
          "data": {
            "text/plain": [
              "<matplotlib.axes._subplots.AxesSubplot at 0x7f9fc2d368b0>"
            ]
          },
          "metadata": {},
          "execution_count": 112
        },
        {
          "output_type": "display_data",
          "data": {
            "text/plain": [
              "<Figure size 432x288 with 1 Axes>"
            ],
            "image/png": "[encoded data removed]"
          },
          "metadata": {}
        }
      ]
    },
    {
      "cell_type": "code",
      "source": [
        "sns.scatterplot(x='sepal_length', y = 'petal_width', hue='species', data=iris)"
      ],
      "metadata": {
        "colab": {
          "base_uri": "https://localhost:8080/",
          "height": 303
        },
        "id": "ijXq0zetdeUa",
        "outputId": "21dd29f8-6050-4b50-9884-5c828bc7d7b0"
      },
      "execution_count": 113,
      "outputs": [
        {
          "output_type": "execute_result",
          "data": {
            "text/plain": [
              "<matplotlib.axes._subplots.AxesSubplot at 0x7f9fc2d2a040>"
            ]
          },
          "metadata": {},
          "execution_count": 113
        },
        {
          "output_type": "display_data",
          "data": {
            "text/plain": [
              "<Figure size 432x288 with 1 Axes>"
            ],
            "image/png": "[encoded data removed]"
          },
          "metadata": {}
        }
      ]
    },
    {
      "cell_type": "code",
      "source": [
        "#loading titanic dataset\n",
        "\n",
        "titanic=sns.load_dataset('titanic')\n",
        "\n",
        "titanic.head()"
      ],
      "metadata": {
        "colab": {
          "base_uri": "https://localhost:8080/",
          "height": 270
        },
        "id": "pmw9VxKFdnlv",
        "outputId": "5b43bac0-54b2-44a9-c3ce-ba93ac236e6f"
      },
      "execution_count": 114,
      "outputs": [
        {
          "output_type": "execute_result",
          "data": {
            "text/plain": [
              "   survived  pclass     sex   age  sibsp  parch     fare embarked  class  \\\n",
              "0         0       3    male  22.0      1      0   7.2500        S  Third   \n",
              "1         1       1  female  38.0      1      0  71.2833        C  First   \n",
              "2         1       3  female  26.0      0      0   7.9250        S  Third   \n",
              "3         1       1  female  35.0      1      0  53.1000        S  First   \n",
              "4         0       3    male  35.0      0      0   8.0500        S  Third   \n",
              "\n",
              "     who  adult_male deck  embark_town alive  alone  \n",
              "0    man        True  NaN  Southampton    no  False  \n",
              "1  woman       False    C    Cherbourg   yes  False  \n",
              "2  woman       False  NaN  Southampton   yes   True  \n",
              "3  woman       False    C  Southampton   yes  False  \n",
              "4    man        True  NaN  Southampton    no   True  "
            ],
            "text/html": [
              "\n",
              "  <div id=\"df-878eadb2-4f47-4001-b1aa-77393398b0de\">\n",
              "    <div class=\"colab-df-container\">\n",
              "      <div>\n",
              "<style scoped>\n",
              "    .dataframe tbody tr th:only-of-type {\n",
              "        vertical-align: middle;\n",
              "    }\n",
              "\n",
              "    .dataframe tbody tr th {\n",
              "        vertical-align: top;\n",
              "    }\n",
              "\n",
              "    .dataframe thead th {\n",
              "        text-align: right;\n",
              "    }\n",
              "</style>\n",
              "<table border=\"1\" class=\"dataframe\">\n",
              "  <thead>\n",
              "    <tr style=\"text-align: right;\">\n",
              "      <th></th>\n",
              "      <th>survived</th>\n",
              "      <th>pclass</th>\n",
              "      <th>sex</th>\n",
              "      <th>age</th>\n",
              "      <th>sibsp</th>\n",
              "      <th>parch</th>\n",
              "      <th>fare</th>\n",
              "      <th>embarked</th>\n",
              "      <th>class</th>\n",
              "      <th>who</th>\n",
              "      <th>adult_male</th>\n",
              "      <th>deck</th>\n",
              "      <th>embark_town</th>\n",
              "      <th>alive</th>\n",
              "      <th>alone</th>\n",
              "    </tr>\n",
              "  </thead>\n",
              "  <tbody>\n",
              "    <tr>\n",
              "      <th>0</th>\n",
              "      <td>0</td>\n",
              "      <td>3</td>\n",
              "      <td>male</td>\n",
              "      <td>22.0</td>\n",
              "      <td>1</td>\n",
              "      <td>0</td>\n",
              "      <td>7.2500</td>\n",
              "      <td>S</td>\n",
              "      <td>Third</td>\n",
              "      <td>man</td>\n",
              "      <td>True</td>\n",
              "      <td>NaN</td>\n",
              "      <td>Southampton</td>\n",
              "      <td>no</td>\n",
              "      <td>False</td>\n",
              "    </tr>\n",
              "    <tr>\n",
              "      <th>1</th>\n",
              "      <td>1</td>\n",
              "      <td>1</td>\n",
              "      <td>female</td>\n",
              "      <td>38.0</td>\n",
              "      <td>1</td>\n",
              "      <td>0</td>\n",
              "      <td>71.2833</td>\n",
              "      <td>C</td>\n",
              "      <td>First</td>\n",
              "      <td>woman</td>\n",
              "      <td>False</td>\n",
              "      <td>C</td>\n",
              "      <td>Cherbourg</td>\n",
              "      <td>yes</td>\n",
              "      <td>False</td>\n",
              "    </tr>\n",
              "    <tr>\n",
              "      <th>2</th>\n",
              "      <td>1</td>\n",
              "      <td>3</td>\n",
              "      <td>female</td>\n",
              "      <td>26.0</td>\n",
              "      <td>0</td>\n",
              "      <td>0</td>\n",
              "      <td>7.9250</td>\n",
              "      <td>S</td>\n",
              "      <td>Third</td>\n",
              "      <td>woman</td>\n",
              "      <td>False</td>\n",
              "      <td>NaN</td>\n",
              "      <td>Southampton</td>\n",
              "      <td>yes</td>\n",
              "      <td>True</td>\n",
              "    </tr>\n",
              "    <tr>\n",
              "      <th>3</th>\n",
              "      <td>1</td>\n",
              "      <td>1</td>\n",
              "      <td>female</td>\n",
              "      <td>35.0</td>\n",
              "      <td>1</td>\n",
              "      <td>0</td>\n",
              "      <td>53.1000</td>\n",
              "      <td>S</td>\n",
              "      <td>First</td>\n",
              "      <td>woman</td>\n",
              "      <td>False</td>\n",
              "      <td>C</td>\n",
              "      <td>Southampton</td>\n",
              "      <td>yes</td>\n",
              "      <td>False</td>\n",
              "    </tr>\n",
              "    <tr>\n",
              "      <th>4</th>\n",
              "      <td>0</td>\n",
              "      <td>3</td>\n",
              "      <td>male</td>\n",
              "      <td>35.0</td>\n",
              "      <td>0</td>\n",
              "      <td>0</td>\n",
              "      <td>8.0500</td>\n",
              "      <td>S</td>\n",
              "      <td>Third</td>\n",
              "      <td>man</td>\n",
              "      <td>True</td>\n",
              "      <td>NaN</td>\n",
              "      <td>Southampton</td>\n",
              "      <td>no</td>\n",
              "      <td>True</td>\n",
              "    </tr>\n",
              "  </tbody>\n",
              "</table>\n",
              "</div>\n",
              "      <button class=\"colab-df-convert\" onclick=\"convertToInteractive('df-878eadb2-4f47-4001-b1aa-77393398b0de')\"\n",
              "              title=\"Convert this dataframe to an interactive table.\"\n",
              "              style=\"display:none;\">\n",
              "        \n",
              "  <svg xmlns=\"http://www.w3.org/2000/svg\" height=\"24px\"viewBox=\"0 0 24 24\"\n",
              "       width=\"24px\">\n",
              "    <path d=\"M0 0h24v24H0V0z\" fill=\"none\"/>\n",
              "    <path d=\"M18.56 5.44l.94 2.06.94-2.06 2.06-.94-2.06-.94-.94-2.06-.94 2.06-2.06.94zm-11 1L8.5 8.5l.94-2.06 2.06-.94-2.06-.94L8.5 2.5l-.94 2.06-2.06.94zm10 10l.94 2.06.94-2.06 2.06-.94-2.06-.94-.94-2.06-.94 2.06-2.06.94z\"/><path d=\"M17.41 7.96l-1.37-1.37c-.4-.4-.92-.59-1.43-.59-.52 0-1.04.2-1.43.59L10.3 9.45l-7.72 7.72c-.78.78-.78 2.05 0 2.83L4 21.41c.39.39.9.59 1.41.59.51 0 1.02-.2 1.41-.59l7.78-7.78 2.81-2.81c.8-.78.8-2.07 0-2.86zM5.41 20L4 18.59l7.72-7.72 1.47 1.35L5.41 20z\"/>\n",
              "  </svg>\n",
              "      </button>\n",
              "      \n",
              "  <style>\n",
              "    .colab-df-container {\n",
              "      display:flex;\n",
              "      flex-wrap:wrap;\n",
              "      gap: 12px;\n",
              "    }\n",
              "\n",
              "    .colab-df-convert {\n",
              "      background-color: #E8F0FE;\n",
              "      border: none;\n",
              "      border-radius: 50%;\n",
              "      cursor: pointer;\n",
              "      display: none;\n",
              "      fill: #1967D2;\n",
              "      height: 32px;\n",
              "      padding: 0 0 0 0;\n",
              "      width: 32px;\n",
              "    }\n",
              "\n",
              "    .colab-df-convert:hover {\n",
              "      background-color: #E2EBFA;\n",
              "      box-shadow: 0px 1px 2px rgba(60, 64, 67, 0.3), 0px 1px 3px 1px rgba(60, 64, 67, 0.15);\n",
              "      fill: #174EA6;\n",
              "    }\n",
              "\n",
              "    [theme=dark] .colab-df-convert {\n",
              "      background-color: #3B4455;\n",
              "      fill: #D2E3FC;\n",
              "    }\n",
              "\n",
              "    [theme=dark] .colab-df-convert:hover {\n",
              "      background-color: #434B5C;\n",
              "      box-shadow: 0px 1px 3px 1px rgba(0, 0, 0, 0.15);\n",
              "      filter: drop-shadow(0px 1px 2px rgba(0, 0, 0, 0.3));\n",
              "      fill: #FFFFFF;\n",
              "    }\n",
              "  </style>\n",
              "\n",
              "      <script>\n",
              "        const buttonEl =\n",
              "          document.querySelector('#df-878eadb2-4f47-4001-b1aa-77393398b0de button.colab-df-convert');\n",
              "        buttonEl.style.display =\n",
              "          google.colab.kernel.accessAllowed ? 'block' : 'none';\n",
              "\n",
              "        async function convertToInteractive(key) {\n",
              "          const element = document.querySelector('#df-878eadb2-4f47-4001-b1aa-77393398b0de');\n",
              "          const dataTable =\n",
              "            await google.colab.kernel.invokeFunction('convertToInteractive',\n",
              "                                                     [key], {});\n",
              "          if (!dataTable) return;\n",
              "\n",
              "          const docLinkHtml = 'Like what you see? Visit the ' +\n",
              "            '<a target=\"_blank\" href=https://colab.research.google.com/notebooks/data_table.ipynb>data table notebook</a>'\n",
              "            + ' to learn more about interactive tables.';\n",
              "          element.innerHTML = '';\n",
              "          dataTable['output_type'] = 'display_data';\n",
              "          await google.colab.output.renderOutput(dataTable, element);\n",
              "          const docLink = document.createElement('div');\n",
              "          docLink.innerHTML = docLinkHtml;\n",
              "          element.appendChild(docLink);\n",
              "        }\n",
              "      </script>\n",
              "    </div>\n",
              "  </div>\n",
              "  "
            ]
          },
          "metadata": {},
          "execution_count": 114
        }
      ]
    },
    {
      "cell_type": "markdown",
      "source": [
        "COUNT PLOT"
      ],
      "metadata": {
        "id": "iW3Adg4eeAeO"
      }
    },
    {
      "cell_type": "code",
      "source": [
        "sns.countplot(x='class', data=titanic)"
      ],
      "metadata": {
        "colab": {
          "base_uri": "https://localhost:8080/",
          "height": 303
        },
        "id": "YeHOpEBoeDHi",
        "outputId": "b1816478-872d-4a5b-b6f3-6e50b16a76b8"
      },
      "execution_count": 115,
      "outputs": [
        {
          "output_type": "execute_result",
          "data": {
            "text/plain": [
              "<matplotlib.axes._subplots.AxesSubplot at 0x7f9fc2c31fa0>"
            ]
          },
          "metadata": {},
          "execution_count": 115
        },
        {
          "output_type": "display_data",
          "data": {
            "text/plain": [
              "<Figure size 432x288 with 1 Axes>"
            ],
            "image/png": "[encoded data removed]"
          },
          "metadata": {}
        }
      ]
    },
    {
      "cell_type": "code",
      "source": [
        "sns.countplot(x='sex', data=titanic)"
      ],
      "metadata": {
        "colab": {
          "base_uri": "https://localhost:8080/",
          "height": 305
        },
        "id": "gkllrSabeU9G",
        "outputId": "ab373f55-6ebc-430b-8e12-c17132e7e971"
      },
      "execution_count": 116,
      "outputs": [
        {
          "output_type": "execute_result",
          "data": {
            "text/plain": [
              "<matplotlib.axes._subplots.AxesSubplot at 0x7f9fc2da4220>"
            ]
          },
          "metadata": {},
          "execution_count": 116
        },
        {
          "output_type": "display_data",
          "data": {
            "text/plain": [
              "<Figure size 432x288 with 1 Axes>"
            ],
            "image/png": "[encoded data removed]"
          },
          "metadata": {}
        }
      ]
    },
    {
      "cell_type": "code",
      "source": [
        "sns.countplot(x='survived', data=titanic)"
      ],
      "metadata": {
        "colab": {
          "base_uri": "https://localhost:8080/",
          "height": 303
        },
        "id": "jS0vgRdJeoyS",
        "outputId": "c77e8828-58cd-432a-81b6-99e2ef7ef8b8"
      },
      "execution_count": 118,
      "outputs": [
        {
          "output_type": "execute_result",
          "data": {
            "text/plain": [
              "<matplotlib.axes._subplots.AxesSubplot at 0x7f9fc2bc3a30>"
            ]
          },
          "metadata": {},
          "execution_count": 118
        },
        {
          "output_type": "display_data",
          "data": {
            "text/plain": [
              "<Figure size 432x288 with 1 Axes>"
            ],
            "image/png": "[encoded data removed]"
          },
          "metadata": {}
        }
      ]
    },
    {
      "cell_type": "markdown",
      "source": [
        "BAR CHART"
      ],
      "metadata": {
        "id": "CgI734zKe6ZZ"
      }
    },
    {
      "cell_type": "code",
      "source": [
        "sns.barplot(x='sex', y='survived', hue='class', data = titanic)"
      ],
      "metadata": {
        "colab": {
          "base_uri": "https://localhost:8080/",
          "height": 303
        },
        "id": "9Ky4ot-Ye83B",
        "outputId": "e13709b0-5ed7-4735-9a1f-1f9baf487336"
      },
      "execution_count": 119,
      "outputs": [
        {
          "output_type": "execute_result",
          "data": {
            "text/plain": [
              "<matplotlib.axes._subplots.AxesSubplot at 0x7f9fc2b96af0>"
            ]
          },
          "metadata": {},
          "execution_count": 119
        },
        {
          "output_type": "display_data",
          "data": {
            "text/plain": [
              "<Figure size 432x288 with 1 Axes>"
            ],
            "image/png": "[encoded data removed]"
          },
          "metadata": {}
        }
      ]
    },
    {
      "cell_type": "code",
      "source": [
        "#house price dataset\n",
        "import pandas as pd\n",
        "import numpy as np\n",
        "\n",
        "from sklearn.datasets import load_boston\n",
        "\n",
        "house_boston = load_boston()\n",
        "house=pd.DataFrame(house_boston.data, columns = house_boston.feature_names)\n",
        "house['PRICE']=house_boston.target\n",
        "\n",
        "house.head()"
      ],
      "metadata": {
        "id": "O4rzl0etfcmx"
      },
      "execution_count": null,
      "outputs": []
    },
    {
      "cell_type": "code",
      "source": [
        "house.to_csv('house_boston.csv')"
      ],
      "metadata": {
        "id": "DJ19SII7lAKF"
      },
      "execution_count": 136,
      "outputs": []
    },
    {
      "cell_type": "code",
      "source": [
        "sns.displot(house['PRICE'])"
      ],
      "metadata": {
        "colab": {
          "base_uri": "https://localhost:8080/",
          "height": 383
        },
        "id": "TOlreR2Xnq7J",
        "outputId": "467d2370-e31b-4d42-f320-e2684a4fc496"
      },
      "execution_count": 145,
      "outputs": [
        {
          "output_type": "execute_result",
          "data": {
            "text/plain": [
              "<seaborn.axisgrid.FacetGrid at 0x7f9fcd6e16d0>"
            ]
          },
          "metadata": {},
          "execution_count": 145
        },
        {
          "output_type": "display_data",
          "data": {
            "text/plain": [
              "<Figure size 360x360 with 1 Axes>"
            ],
            "image/png": "[encoded data removed]"
          },
          "metadata": {}
        }
      ]
    },
    {
      "cell_type": "code",
      "source": [
        "sns.distplot(house['PRICE'])"
      ],
      "metadata": {
        "colab": {
          "base_uri": "https://localhost:8080/",
          "height": 360
        },
        "id": "cPjCu_lDoCsw",
        "outputId": "b9ca7fbf-a6e2-47c7-f1eb-303ccb4e7923"
      },
      "execution_count": 146,
      "outputs": [
        {
          "output_type": "stream",
          "name": "stderr",
          "text": [
            "/usr/local/lib/python3.8/dist-packages/seaborn/distributions.py:2619: FutureWarning: `distplot` is a deprecated function and will be removed in a future version. Please adapt your code to use either `displot` (a figure-level function with similar flexibility) or `histplot` (an axes-level function for histograms).\n",
            "  warnings.warn(msg, FutureWarning)\n"
          ]
        },
        {
          "output_type": "execute_result",
          "data": {
            "text/plain": [
              "<matplotlib.axes._subplots.AxesSubplot at 0x7f9fc20eb8b0>"
            ]
          },
          "metadata": {},
          "execution_count": 146
        },
        {
          "output_type": "display_data",
          "data": {
            "text/plain": [
              "<Figure size 432x288 with 1 Axes>"
            ],
            "image/png": "[encoded data removed]"
          },
          "metadata": {}
        }
      ]
    },
    {
      "cell_type": "code",
      "source": [
        "#CORRELATION MATRIX\n",
        "\n",
        "#POSITIVE CORRELATION AND NEGATIVE CORRELATION\n",
        "\n",
        "#plotting correlation using HEAT MAP\n",
        "correlation = house.corr()\n",
        "\n"
      ],
      "metadata": {
        "id": "5SamPWV5pD_P"
      },
      "execution_count": 151,
      "outputs": []
    },
    {
      "cell_type": "code",
      "source": [
        "ax =plt.figure(figsize=(15,15))\n",
        "sns.heatmap(correlation, cbar=True, square=True, fmt='.1f', annot=True, annot_kws={'size':8}, cmap='Blues')\n"
      ],
      "metadata": {
        "colab": {
          "base_uri": "https://localhost:8080/",
          "height": 761
        },
        "id": "9wh3WoOnsi9K",
        "outputId": "e80faace-5cf5-48a8-8dc1-400a9afaa197"
      },
      "execution_count": 155,
      "outputs": [
        {
          "output_type": "execute_result",
          "data": {
            "text/plain": [
              "<matplotlib.axes._subplots.AxesSubplot at 0x7f9fc2240dc0>"
            ]
          },
          "metadata": {},
          "execution_count": 155
        },
        {
          "output_type": "display_data",
          "data": {
            "text/plain": [
              "<Figure size 1080x1080 with 2 Axes>"
            ],
            "image/png": "[encoded data removed]"
          },
          "metadata": {}
        }
      ]
    },
    {
      "cell_type": "code",
      "source": [
        "from sklearn.datasets import fetch_california_housing\n",
        "housing_califonia = fetch_california_housing()\n",
        "\n",
        "house_califonia=pd.DataFrame(housing_califonia.data, columns = housing_califonia.feature_names)\n",
        "house_califonia['PRICE']=housing_califonia.target\n",
        "\n",
        "house_califonia.head()\n"
      ],
      "metadata": {
        "colab": {
          "base_uri": "https://localhost:8080/",
          "height": 250
        },
        "id": "6N3h8qY7g0Dk",
        "outputId": "d6f324fb-17eb-4b38-f79c-417580c8ec57"
      },
      "execution_count": 140,
      "outputs": [
        {
          "output_type": "execute_result",
          "data": {
            "text/plain": [
              "   MedInc  HouseAge  AveRooms  AveBedrms  Population  AveOccup  Latitude  \\\n",
              "0  8.3252      41.0  6.984127   1.023810       322.0  2.555556     37.88   \n",
              "1  8.3014      21.0  6.238137   0.971880      2401.0  2.109842     37.86   \n",
              "2  7.2574      52.0  8.288136   1.073446       496.0  2.802260     37.85   \n",
              "3  5.6431      52.0  5.817352   1.073059       558.0  2.547945     37.85   \n",
              "4  3.8462      52.0  6.281853   1.081081       565.0  2.181467     37.85   \n",
              "\n",
              "   Longitude  PRICE  \n",
              "0    -122.23  4.526  \n",
              "1    -122.22  3.585  \n",
              "2    -122.24  3.521  \n",
              "3    -122.25  3.413  \n",
              "4    -122.25  3.422  "
            ],
            "text/html": [
              "\n",
              "  <div id=\"df-a53f0d0b-bf6f-4635-85e1-5c3d8c452294\">\n",
              "    <div class=\"colab-df-container\">\n",
              "      <div>\n",
              "<style scoped>\n",
              "    .dataframe tbody tr th:only-of-type {\n",
              "        vertical-align: middle;\n",
              "    }\n",
              "\n",
              "    .dataframe tbody tr th {\n",
              "        vertical-align: top;\n",
              "    }\n",
              "\n",
              "    .dataframe thead th {\n",
              "        text-align: right;\n",
              "    }\n",
              "</style>\n",
              "<table border=\"1\" class=\"dataframe\">\n",
              "  <thead>\n",
              "    <tr style=\"text-align: right;\">\n",
              "      <th></th>\n",
              "      <th>MedInc</th>\n",
              "      <th>HouseAge</th>\n",
              "      <th>AveRooms</th>\n",
              "      <th>AveBedrms</th>\n",
              "      <th>Population</th>\n",
              "      <th>AveOccup</th>\n",
              "      <th>Latitude</th>\n",
              "      <th>Longitude</th>\n",
              "      <th>PRICE</th>\n",
              "    </tr>\n",
              "  </thead>\n",
              "  <tbody>\n",
              "    <tr>\n",
              "      <th>0</th>\n",
              "      <td>8.3252</td>\n",
              "      <td>41.0</td>\n",
              "      <td>6.984127</td>\n",
              "      <td>1.023810</td>\n",
              "      <td>322.0</td>\n",
              "      <td>2.555556</td>\n",
              "      <td>37.88</td>\n",
              "      <td>-122.23</td>\n",
              "      <td>4.526</td>\n",
              "    </tr>\n",
              "    <tr>\n",
              "      <th>1</th>\n",
              "      <td>8.3014</td>\n",
              "      <td>21.0</td>\n",
              "      <td>6.238137</td>\n",
              "      <td>0.971880</td>\n",
              "      <td>2401.0</td>\n",
              "      <td>2.109842</td>\n",
              "      <td>37.86</td>\n",
              "      <td>-122.22</td>\n",
              "      <td>3.585</td>\n",
              "    </tr>\n",
              "    <tr>\n",
              "      <th>2</th>\n",
              "      <td>7.2574</td>\n",
              "      <td>52.0</td>\n",
              "      <td>8.288136</td>\n",
              "      <td>1.073446</td>\n",
              "      <td>496.0</td>\n",
              "      <td>2.802260</td>\n",
              "      <td>37.85</td>\n",
              "      <td>-122.24</td>\n",
              "      <td>3.521</td>\n",
              "    </tr>\n",
              "    <tr>\n",
              "      <th>3</th>\n",
              "      <td>5.6431</td>\n",
              "      <td>52.0</td>\n",
              "      <td>5.817352</td>\n",
              "      <td>1.073059</td>\n",
              "      <td>558.0</td>\n",
              "      <td>2.547945</td>\n",
              "      <td>37.85</td>\n",
              "      <td>-122.25</td>\n",
              "      <td>3.413</td>\n",
              "    </tr>\n",
              "    <tr>\n",
              "      <th>4</th>\n",
              "      <td>3.8462</td>\n",
              "      <td>52.0</td>\n",
              "      <td>6.281853</td>\n",
              "      <td>1.081081</td>\n",
              "      <td>565.0</td>\n",
              "      <td>2.181467</td>\n",
              "      <td>37.85</td>\n",
              "      <td>-122.25</td>\n",
              "      <td>3.422</td>\n",
              "    </tr>\n",
              "  </tbody>\n",
              "</table>\n",
              "</div>\n",
              "      <button class=\"colab-df-convert\" onclick=\"convertToInteractive('df-a53f0d0b-bf6f-4635-85e1-5c3d8c452294')\"\n",
              "              title=\"Convert this dataframe to an interactive table.\"\n",
              "              style=\"display:none;\">\n",
              "        \n",
              "  <svg xmlns=\"http://www.w3.org/2000/svg\" height=\"24px\"viewBox=\"0 0 24 24\"\n",
              "       width=\"24px\">\n",
              "    <path d=\"M0 0h24v24H0V0z\" fill=\"none\"/>\n",
              "    <path d=\"M18.56 5.44l.94 2.06.94-2.06 2.06-.94-2.06-.94-.94-2.06-.94 2.06-2.06.94zm-11 1L8.5 8.5l.94-2.06 2.06-.94-2.06-.94L8.5 2.5l-.94 2.06-2.06.94zm10 10l.94 2.06.94-2.06 2.06-.94-2.06-.94-.94-2.06-.94 2.06-2.06.94z\"/><path d=\"M17.41 7.96l-1.37-1.37c-.4-.4-.92-.59-1.43-.59-.52 0-1.04.2-1.43.59L10.3 9.45l-7.72 7.72c-.78.78-.78 2.05 0 2.83L4 21.41c.39.39.9.59 1.41.59.51 0 1.02-.2 1.41-.59l7.78-7.78 2.81-2.81c.8-.78.8-2.07 0-2.86zM5.41 20L4 18.59l7.72-7.72 1.47 1.35L5.41 20z\"/>\n",
              "  </svg>\n",
              "      </button>\n",
              "      \n",
              "  <style>\n",
              "    .colab-df-container {\n",
              "      display:flex;\n",
              "      flex-wrap:wrap;\n",
              "      gap: 12px;\n",
              "    }\n",
              "\n",
              "    .colab-df-convert {\n",
              "      background-color: #E8F0FE;\n",
              "      border: none;\n",
              "      border-radius: 50%;\n",
              "      cursor: pointer;\n",
              "      display: none;\n",
              "      fill: #1967D2;\n",
              "      height: 32px;\n",
              "      padding: 0 0 0 0;\n",
              "      width: 32px;\n",
              "    }\n",
              "\n",
              "    .colab-df-convert:hover {\n",
              "      background-color: #E2EBFA;\n",
              "      box-shadow: 0px 1px 2px rgba(60, 64, 67, 0.3), 0px 1px 3px 1px rgba(60, 64, 67, 0.15);\n",
              "      fill: #174EA6;\n",
              "    }\n",
              "\n",
              "    [theme=dark] .colab-df-convert {\n",
              "      background-color: #3B4455;\n",
              "      fill: #D2E3FC;\n",
              "    }\n",
              "\n",
              "    [theme=dark] .colab-df-convert:hover {\n",
              "      background-color: #434B5C;\n",
              "      box-shadow: 0px 1px 3px 1px rgba(0, 0, 0, 0.15);\n",
              "      filter: drop-shadow(0px 1px 2px rgba(0, 0, 0, 0.3));\n",
              "      fill: #FFFFFF;\n",
              "    }\n",
              "  </style>\n",
              "\n",
              "      <script>\n",
              "        const buttonEl =\n",
              "          document.querySelector('#df-a53f0d0b-bf6f-4635-85e1-5c3d8c452294 button.colab-df-convert');\n",
              "        buttonEl.style.display =\n",
              "          google.colab.kernel.accessAllowed ? 'block' : 'none';\n",
              "\n",
              "        async function convertToInteractive(key) {\n",
              "          const element = document.querySelector('#df-a53f0d0b-bf6f-4635-85e1-5c3d8c452294');\n",
              "          const dataTable =\n",
              "            await google.colab.kernel.invokeFunction('convertToInteractive',\n",
              "                                                     [key], {});\n",
              "          if (!dataTable) return;\n",
              "\n",
              "          const docLinkHtml = 'Like what you see? Visit the ' +\n",
              "            '<a target=\"_blank\" href=https://colab.research.google.com/notebooks/data_table.ipynb>data table notebook</a>'\n",
              "            + ' to learn more about interactive tables.';\n",
              "          element.innerHTML = '';\n",
              "          dataTable['output_type'] = 'display_data';\n",
              "          await google.colab.output.renderOutput(dataTable, element);\n",
              "          const docLink = document.createElement('div');\n",
              "          docLink.innerHTML = docLinkHtml;\n",
              "          element.appendChild(docLink);\n",
              "        }\n",
              "      </script>\n",
              "    </div>\n",
              "  </div>\n",
              "  "
            ]
          },
          "metadata": {},
          "execution_count": 140
        }
      ]
    },
    {
      "cell_type": "code",
      "source": [
        "house_califonia.to_csv('housing_califonia.csv')"
      ],
      "metadata": {
        "id": "hbbQvdtylaps"
      },
      "execution_count": 141,
      "outputs": []
    },
    {
      "cell_type": "code",
      "source": [
        "print(house_califonia)"
      ],
      "metadata": {
        "colab": {
          "base_uri": "https://localhost:8080/"
        },
        "id": "jlGM47JMmldy",
        "outputId": "bbdad8da-ade5-46bd-fe16-589819ee692e"
      },
      "execution_count": 142,
      "outputs": [
        {
          "output_type": "stream",
          "name": "stdout",
          "text": [
            "       MedInc  HouseAge  AveRooms  AveBedrms  Population  AveOccup  Latitude  \\\n",
            "0      8.3252      41.0  6.984127   1.023810       322.0  2.555556     37.88   \n",
            "1      8.3014      21.0  6.238137   0.971880      2401.0  2.109842     37.86   \n",
            "2      7.2574      52.0  8.288136   1.073446       496.0  2.802260     37.85   \n",
            "3      5.6431      52.0  5.817352   1.073059       558.0  2.547945     37.85   \n",
            "4      3.8462      52.0  6.281853   1.081081       565.0  2.181467     37.85   \n",
            "...       ...       ...       ...        ...         ...       ...       ...   \n",
            "20635  1.5603      25.0  5.045455   1.133333       845.0  2.560606     39.48   \n",
            "20636  2.5568      18.0  6.114035   1.315789       356.0  3.122807     39.49   \n",
            "20637  1.7000      17.0  5.205543   1.120092      1007.0  2.325635     39.43   \n",
            "20638  1.8672      18.0  5.329513   1.171920       741.0  2.123209     39.43   \n",
            "20639  2.3886      16.0  5.254717   1.162264      1387.0  2.616981     39.37   \n",
            "\n",
            "       Longitude  PRICE  \n",
            "0        -122.23  4.526  \n",
            "1        -122.22  3.585  \n",
            "2        -122.24  3.521  \n",
            "3        -122.25  3.413  \n",
            "4        -122.25  3.422  \n",
            "...          ...    ...  \n",
            "20635    -121.09  0.781  \n",
            "20636    -121.21  0.771  \n",
            "20637    -121.22  0.923  \n",
            "20638    -121.32  0.847  \n",
            "20639    -121.24  0.894  \n",
            "\n",
            "[20640 rows x 9 columns]\n"
          ]
        }
      ]
    },
    {
      "cell_type": "code",
      "source": [
        "print(housing_califonia)"
      ],
      "metadata": {
        "colab": {
          "base_uri": "https://localhost:8080/"
        },
        "id": "A4HQ7jnGm2nz",
        "outputId": "62cab99b-182a-4ff3-9013-a98ca7c28da0"
      },
      "execution_count": 143,
      "outputs": [
        {
          "output_type": "stream",
          "name": "stdout",
          "text": [
            "{'data': array([[   8.3252    ,   41.        ,    6.98412698, ...,    2.55555556,\n",
            "          37.88      , -122.23      ],\n",
            "       [   8.3014    ,   21.        ,    6.23813708, ...,    2.10984183,\n",
            "          37.86      , -122.22      ],\n",
            "       [   7.2574    ,   52.        ,    8.28813559, ...,    2.80225989,\n",
            "          37.85      , -122.24      ],\n",
            "       ...,\n",
            "       [   1.7       ,   17.        ,    5.20554273, ...,    2.3256351 ,\n",
            "          39.43      , -121.22      ],\n",
            "       [   1.8672    ,   18.        ,    5.32951289, ...,    2.12320917,\n",
            "          39.43      , -121.32      ],\n",
            "       [   2.3886    ,   16.        ,    5.25471698, ...,    2.61698113,\n",
            "          39.37      , -121.24      ]]), 'target': array([4.526, 3.585, 3.521, ..., 0.923, 0.847, 0.894]), 'frame': None, 'target_names': ['MedHouseVal'], 'feature_names': ['MedInc', 'HouseAge', 'AveRooms', 'AveBedrms', 'Population', 'AveOccup', 'Latitude', 'Longitude'], 'DESCR': '.. _california_housing_dataset:\\n\\nCalifornia Housing dataset\\n--------------------------\\n\\n**Data Set Characteristics:**\\n\\n    :Number of Instances: 20640\\n\\n    :Number of Attributes: 8 numeric, predictive attributes and the target\\n\\n    :Attribute Information:\\n        - MedInc        median income in block group\\n        - HouseAge      median house age in block group\\n        - AveRooms      average number of rooms per household\\n        - AveBedrms     average number of bedrooms per household\\n        - Population    block group population\\n        - AveOccup      average number of household members\\n        - Latitude      block group latitude\\n        - Longitude     block group longitude\\n\\n    :Missing Attribute Values: None\\n\\nThis dataset was obtained from the StatLib repository.\\nhttps://www.dcc.fc.up.pt/~ltorgo/Regression/cal_housing.html\\n\\nThe target variable is the median house value for California districts,\\nexpressed in hundreds of thousands of dollars ($100,000).\\n\\nThis dataset was derived from the 1990 U.S. census, using one row per census\\nblock group. A block group is the smallest geographical unit for which the U.S.\\nCensus Bureau publishes sample data (a block group typically has a population\\nof 600 to 3,000 people).\\n\\nAn household is a group of people residing within a home. Since the average\\nnumber of rooms and bedrooms in this dataset are provided per household, these\\ncolumns may take surpinsingly large values for block groups with few households\\nand many empty houses, such as vacation resorts.\\n\\nIt can be downloaded/loaded using the\\n:func:`sklearn.datasets.fetch_california_housing` function.\\n\\n.. topic:: References\\n\\n    - Pace, R. Kelley and Ronald Barry, Sparse Spatial Autoregressions,\\n      Statistics and Probability Letters, 33 (1997) 291-297\\n'}\n"
          ]
        }
      ]
    },
    {
      "cell_type": "code",
      "source": [
        "sns.distplot(house_califonia['PRICE'])"
      ],
      "metadata": {
        "colab": {
          "base_uri": "https://localhost:8080/",
          "height": 360
        },
        "id": "rDr82Xldob48",
        "outputId": "1ffeb29a-c1c3-4e14-9c67-b3c68174d78e"
      },
      "execution_count": 147,
      "outputs": [
        {
          "output_type": "stream",
          "name": "stderr",
          "text": [
            "/usr/local/lib/python3.8/dist-packages/seaborn/distributions.py:2619: FutureWarning: `distplot` is a deprecated function and will be removed in a future version. Please adapt your code to use either `displot` (a figure-level function with similar flexibility) or `histplot` (an axes-level function for histograms).\n",
            "  warnings.warn(msg, FutureWarning)\n"
          ]
        },
        {
          "output_type": "execute_result",
          "data": {
            "text/plain": [
              "<matplotlib.axes._subplots.AxesSubplot at 0x7f9fc1c30d00>"
            ]
          },
          "metadata": {},
          "execution_count": 147
        },
        {
          "output_type": "display_data",
          "data": {
            "text/plain": [
              "<Figure size 432x288 with 1 Axes>"
            ],
            "image/png": "[encoded data removed]"
          },
          "metadata": {}
        }
      ]
    },
    {
      "cell_type": "code",
      "source": [
        "sns.displot(house_califonia['PRICE'])"
      ],
      "metadata": {
        "colab": {
          "base_uri": "https://localhost:8080/",
          "height": 383
        },
        "id": "JY_lKJ6Bomb1",
        "outputId": "d932d703-c461-49b8-8052-4235acff9aef"
      },
      "execution_count": 148,
      "outputs": [
        {
          "output_type": "execute_result",
          "data": {
            "text/plain": [
              "<seaborn.axisgrid.FacetGrid at 0x7f9fc1c0daf0>"
            ]
          },
          "metadata": {},
          "execution_count": 148
        },
        {
          "output_type": "display_data",
          "data": {
            "text/plain": [
              "<Figure size 360x360 with 1 Axes>"
            ],
            "image/png": "[encoded data removed]"
          },
          "metadata": {}
        }
      ]
    },
    {
      "cell_type": "code",
      "source": [
        "#plotting correlation graph for housing califonia\n",
        "\n",
        "correlation = house_califonia.corr()"
      ],
      "metadata": {
        "id": "Ej4JRSX3o7RB"
      },
      "execution_count": 156,
      "outputs": []
    },
    {
      "cell_type": "code",
      "source": [
        "ax =plt.figure(figsize=(12,12))\n",
        "sns.heatmap(correlation, cbar=True, square=True, fmt='.1f', annot=True, annot_kws={'size':10}, cmap='Greens')"
      ],
      "metadata": {
        "colab": {
          "base_uri": "https://localhost:8080/",
          "height": 706
        },
        "id": "Tf254EubwFUx",
        "outputId": "84cb0ad7-34fa-413f-8670-04950ca4ebb2"
      },
      "execution_count": 162,
      "outputs": [
        {
          "output_type": "execute_result",
          "data": {
            "text/plain": [
              "<matplotlib.axes._subplots.AxesSubplot at 0x7f9fbe178610>"
            ]
          },
          "metadata": {},
          "execution_count": 162
        },
        {
          "output_type": "display_data",
          "data": {
            "text/plain": [
              "<Figure size 864x864 with 2 Axes>"
            ],
            "image/png": "[encoded data removed]"
          },
          "metadata": {}
        }
      ]
    }
  ]
}